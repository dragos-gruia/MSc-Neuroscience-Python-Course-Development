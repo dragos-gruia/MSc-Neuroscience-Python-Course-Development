{
 "cells": [
  {
   "cell_type": "markdown",
   "metadata": {},
   "source": [
    "# Introduction to lists and arrays"
   ]
  },
  {
   "cell_type": "markdown",
   "metadata": {},
   "source": [
    "In the previous lecture we learnt about  **functions**. We mainly mentioned users-defined functions and built-in functions. However, the majority of functions are part of already developed packages (or  `modules`), that can be easily downloaded and imported in the Jupyter Notebook in order to be able to access them easily. If you fully followed the  `Installations guidelines` provided, you should already have all the  `modules` you need installed. However, we will go briefly through the standard methods to download packages for Python.\n",
    "To download packages you can use either `conda` or `pip`. `conda` and `pip` are two different `package managers`. Most of packages are available in both `package managers`, and in that case they can be used indiscrimintaly. However, some packages will be available only in `pip` or `conda`."
   ]
  },
  {
   "cell_type": "code",
   "execution_count": 7,
   "metadata": {},
   "outputs": [
    {
     "name": "stdout",
     "output_type": "stream",
     "text": [
      "Process is interrupted.\n"
     ]
    }
   ],
   "source": [
    "%%bash\n",
    "conda activate PythonTutorial\n",
    "conda install numpy"
   ]
  },
  {
   "cell_type": "code",
   "execution_count": null,
   "metadata": {},
   "outputs": [],
   "source": [
    "%%bash\n",
    "conda activate PythonTutorial\n",
    "pip install numpy"
   ]
  },
  {
   "cell_type": "markdown",
   "metadata": {},
   "source": [
    "When installing packages the first step is always to activate the environment (in this case PythonTutorial), and then install the package using `pip install` or `conda install`. It is also possible to download multiple packages at the same time, by writing the package name one after the other"
   ]
  },
  {
   "cell_type": "code",
   "execution_count": null,
   "metadata": {},
   "outputs": [],
   "source": [
    "%%bash\n",
    "conda install numpy pandas"
   ]
  },
  {
   "cell_type": "markdown",
   "metadata": {},
   "source": [
    "## Importing modules"
   ]
  },
  {
   "cell_type": "markdown",
   "metadata": {},
   "source": [
    "In order to be able to use the installed packages, they need to be imported in the jupyter notebook. There are four different ways to import packages:\n",
    "1. The entire module (or package) can be imported \n",
    "2. The entire module is imported and renamed \n",
    "3. Only specific functions from a module are imported\n",
    "4. Specific functions from a module are imported and renamed"
   ]
  },
  {
   "cell_type": "code",
   "execution_count": 14,
   "metadata": {},
   "outputs": [],
   "source": [
    "import numpy # the entire module called numpy is imported"
   ]
  },
  {
   "cell_type": "code",
   "execution_count": 11,
   "metadata": {},
   "outputs": [],
   "source": [
    "import numpy as np # the entire module called numpy is imported and renamed to np"
   ]
  },
  {
   "cell_type": "code",
   "execution_count": 17,
   "metadata": {},
   "outputs": [],
   "source": [
    "from numpy import mean # only the mean function from numpy is imported"
   ]
  },
  {
   "cell_type": "code",
   "execution_count": 16,
   "metadata": {},
   "outputs": [],
   "source": [
    "from numpy import mean as mn # only the mean function from numpy is imported and renamed to mn"
   ]
  },
  {
   "cell_type": "markdown",
   "metadata": {},
   "source": [
    "## Lists"
   ]
  },
  {
   "cell_type": "markdown",
   "metadata": {},
   "source": [
    "Lists are basic Python data structure that are used to store multiple items within a single variable. They can contain values of the same type (e.g. strings or numbers) or of different types"
   ]
  },
  {
   "cell_type": "code",
   "execution_count": 20,
   "metadata": {},
   "outputs": [],
   "source": [
    "list1 = [\"apple\", \"banana\", \"tomatoe\", \"salad\"]\n",
    "list2 = [123, 34, 4, 5, 78]\n",
    "list3 = [\"apple\", 3, \"4\", 1.3]"
   ]
  },
  {
   "cell_type": "markdown",
   "metadata": {},
   "source": [
    "Lists can also contain lists - in this case they are called lists of lists"
   ]
  },
  {
   "cell_type": "code",
   "execution_count": 24,
   "metadata": {},
   "outputs": [
    {
     "name": "stdout",
     "output_type": "stream",
     "text": [
      "[['apple', 'banana', 'tomatoe', 'salad'], [123, 34, 4, 5, 78], ['apple', 3, '4', 1.3]]\n"
     ]
    }
   ],
   "source": [
    "mergedList = [list1, list2, list3]\n",
    "print(mergedList)"
   ]
  },
  {
   "cell_type": "markdown",
   "metadata": {},
   "source": [
    "Or they can contain a combination of lists, numbers and strings"
   ]
  },
  {
   "cell_type": "code",
   "execution_count": 23,
   "metadata": {},
   "outputs": [
    {
     "name": "stdout",
     "output_type": "stream",
     "text": [
      "[['apple', 'banana', 'tomatoe', 'salad'], 'hello', 5]\n"
     ]
    }
   ],
   "source": [
    "comboList = [list1, \"hello\", 5]\n",
    "print(comboList)"
   ]
  },
  {
   "cell_type": "code",
   "execution_count": null,
   "metadata": {},
   "outputs": [],
   "source": [
    "When creating a list, each element of a list is assigned an "
   ]
  },
  {
   "cell_type": "markdown",
   "metadata": {},
   "source": [
    "There are five biggest differences between  `lists` and  `arrays`:\n",
    "1.  `lists` can have data of multiple data types, while  `arrays` can contain data of only one data type\n",
    "2.  `lists` cannot be used to complete arithmetic operations, while  `arrays` can\n",
    "3. To work with  `arrays` a specific - separate module is required (`numpy `)"
   ]
  },
  {
   "cell_type": "code",
   "execution_count": null,
   "metadata": {},
   "outputs": [],
   "source": []
  }
 ],
 "metadata": {
  "kernelspec": {
   "display_name": "Python3.7 (project1)",
   "language": "python",
   "name": "python3_project1"
  },
  "language_info": {
   "codemirror_mode": {
    "name": "ipython",
    "version": 3
   },
   "file_extension": ".py",
   "mimetype": "text/x-python",
   "name": "python",
   "nbconvert_exporter": "python",
   "pygments_lexer": "ipython3",
   "version": "3.7.1"
  }
 },
 "nbformat": 4,
 "nbformat_minor": 4
}
