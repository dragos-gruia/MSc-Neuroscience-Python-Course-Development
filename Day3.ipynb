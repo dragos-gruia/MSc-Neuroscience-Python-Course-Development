{
 "cells": [
  {
   "cell_type": "markdown",
   "metadata": {},
   "source": [
    "# Introduction to lists and arrays"
   ]
  },
  {
   "cell_type": "markdown",
   "metadata": {},
   "source": [
    "In the previous lecture we learnt about  **functions**. We mainly mentioned users-defined functions and built-in functions. However, the majority of functions are part of already developed packages (or  `modules`), that can be easily downloaded and imported in the Jupyter Notebook in order to be able to access them easily. If you fully followed the  `Installations guidelines` provided, you should already have all the  `modules` you need installed. However, we will go briefly through the standard methods to download packages for Python.\n",
    "To download packages you can use either `conda` or `pip`. `conda` and `pip` are two different `package managers`. Most of packages are available in both `package managers`, and in that case they can be used indiscrimintaly. However, some packages will be available only in `pip` or `conda`."
   ]
  },
  {
   "cell_type": "code",
   "execution_count": 7,
   "metadata": {},
   "outputs": [
    {
     "name": "stdout",
     "output_type": "stream",
     "text": [
      "Process is interrupted.\n"
     ]
    }
   ],
   "source": [
    "%%bash\n",
    "conda activate PythonTutorial\n",
    "conda install numpy"
   ]
  },
  {
   "cell_type": "code",
   "execution_count": null,
   "metadata": {},
   "outputs": [],
   "source": [
    "%%bash\n",
    "conda activate PythonTutorial\n",
    "pip install numpy"
   ]
  },
  {
   "cell_type": "markdown",
   "metadata": {},
   "source": [
    "When installing packages the first step is always to activate the environment (in this case PythonTutorial), and then install the package using `pip install` or `conda install`. It is also possible to download multiple packages at the same time, by writing the package name one after the other"
   ]
  },
  {
   "cell_type": "code",
   "execution_count": null,
   "metadata": {},
   "outputs": [],
   "source": [
    "%%bash\n",
    "conda install numpy pandas"
   ]
  },
  {
   "cell_type": "markdown",
   "metadata": {},
   "source": [
    "## Importing modules"
   ]
  },
  {
   "cell_type": "markdown",
   "metadata": {},
   "source": [
    "In order to be able to use the installed packages, they need to be imported in the jupyter notebook. There are four different ways to import packages:\n",
    "1. The entire module (or package) can be imported \n",
    "2. The entire module is imported and renamed \n",
    "3. Only specific functions from a module are imported\n",
    "4. Specific functions from a module are imported and renamed"
   ]
  },
  {
   "cell_type": "code",
   "execution_count": 14,
   "metadata": {},
   "outputs": [],
   "source": [
    "import numpy # the entire module called numpy is imported"
   ]
  },
  {
   "cell_type": "code",
   "execution_count": 11,
   "metadata": {},
   "outputs": [],
   "source": [
    "import numpy as np # the entire module called numpy is imported and renamed to np"
   ]
  },
  {
   "cell_type": "code",
   "execution_count": 17,
   "metadata": {},
   "outputs": [],
   "source": [
    "from numpy import mean # only the mean function from numpy is imported"
   ]
  },
  {
   "cell_type": "code",
   "execution_count": 16,
   "metadata": {},
   "outputs": [],
   "source": [
    "from numpy import mean as mn # only the mean function from numpy is imported and renamed to mn"
   ]
  },
  {
   "cell_type": "markdown",
   "metadata": {},
   "source": [
    "## Lists"
   ]
  },
  {
   "cell_type": "markdown",
   "metadata": {},
   "source": [
    "Lists are basic Python data structure that are used to store multiple items within a single variable. They can contain values of the same type (e.g. strings or numbers) or of different types. Lists can be created by using square brackets or by calling `list`"
   ]
  },
  {
   "cell_type": "code",
   "execution_count": 87,
   "metadata": {},
   "outputs": [],
   "source": [
    "list1 = [\"apple\", \"banana\", \"tomatoe\", \"salad\"]\n",
    "list2 = [123, 34, 4, 5, 78]\n",
    "list3 = [\"apple\", 3, \"4\", 1.3]\n",
    "list4 = list([\"apple\", 2, 6])"
   ]
  },
  {
   "cell_type": "markdown",
   "metadata": {},
   "source": [
    "Lists can also contain lists - in this case they are called lists of lists"
   ]
  },
  {
   "cell_type": "code",
   "execution_count": 24,
   "metadata": {},
   "outputs": [
    {
     "name": "stdout",
     "output_type": "stream",
     "text": [
      "[['apple', 'banana', 'tomatoe', 'salad'], [123, 34, 4, 5, 78], ['apple', 3, '4', 1.3]]\n"
     ]
    }
   ],
   "source": [
    "mergedList = [list1, list2, list3]\n",
    "print(mergedList)"
   ]
  },
  {
   "cell_type": "markdown",
   "metadata": {},
   "source": [
    "In case of lists of lists, it is possible to access specific elemets of each sublist by using two indeces"
   ]
  },
  {
   "cell_type": "code",
   "execution_count": 73,
   "metadata": {},
   "outputs": [
    {
     "data": {
      "text/plain": [
       "'tomatoe'"
      ]
     },
     "execution_count": 73,
     "metadata": {},
     "output_type": "execute_result"
    }
   ],
   "source": [
    "mergedList[0][2] # Extracts the element with index 2 in the list with index 0"
   ]
  },
  {
   "cell_type": "markdown",
   "metadata": {},
   "source": [
    "Lists can also contain a combination of lists, numbers and strings"
   ]
  },
  {
   "cell_type": "code",
   "execution_count": 23,
   "metadata": {},
   "outputs": [
    {
     "name": "stdout",
     "output_type": "stream",
     "text": [
      "[['apple', 'banana', 'tomatoe', 'salad'], 'hello', 5]\n"
     ]
    }
   ],
   "source": [
    "comboList = [list1, \"hello\", 5]\n",
    "print(comboList)"
   ]
  },
  {
   "cell_type": "markdown",
   "metadata": {},
   "source": [
    "### Extract elemets from lists"
   ]
  },
  {
   "cell_type": "markdown",
   "metadata": {},
   "source": [
    "When creating a list, each element of a list is assigned an `index`. In Python, the first element of a list has an index of `0`. However, this is not the case for other programming languages (e.g. R), where the first element of a list has index `1`.\n",
    "\n",
    "The index can be used to easily access the element of a list by writing `listname[index]`. "
   ]
  },
  {
   "cell_type": "code",
   "execution_count": 67,
   "metadata": {},
   "outputs": [
    {
     "data": {
      "text/plain": [
       "'apple'"
      ]
     },
     "execution_count": 67,
     "metadata": {},
     "output_type": "execute_result"
    }
   ],
   "source": [
    "list1 = [\"apple\", \"banana\", \"tomatoe\", \"salad\"]\n",
    "list1[0]"
   ]
  },
  {
   "cell_type": "markdown",
   "metadata": {},
   "source": [
    "If the list is known, to find the index of a specific value in the list, the function `index` can be used.\n"
   ]
  },
  {
   "cell_type": "code",
   "execution_count": 100,
   "metadata": {},
   "outputs": [
    {
     "data": {
      "text/plain": [
       "0"
      ]
     },
     "execution_count": 100,
     "metadata": {},
     "output_type": "execute_result"
    }
   ],
   "source": [
    "list1.index(\"apple\") #returns the index in the list of the value specified in the parenthesis"
   ]
  },
  {
   "cell_type": "markdown",
   "metadata": {},
   "source": [
    "However, if the elemet is not in the list, then Python will return an error. A way to avoid this is to check whether the element is in the list using `in`. If the element is in the list, Python returns `True`, otherwise it returns `False`"
   ]
  },
  {
   "cell_type": "code",
   "execution_count": 99,
   "metadata": {},
   "outputs": [
    {
     "data": {
      "text/plain": [
       "(True, False)"
      ]
     },
     "execution_count": 99,
     "metadata": {},
     "output_type": "execute_result"
    }
   ],
   "source": [
    "\"apple\" in list1, \"hand\" in list1"
   ]
  },
  {
   "cell_type": "markdown",
   "metadata": {},
   "source": [
    "Mutliple elements can be extracted at the same time using the index by specifying from which to which index you want to extract. In this case, the element in the final specified index **is not** included."
   ]
  },
  {
   "cell_type": "code",
   "execution_count": 31,
   "metadata": {},
   "outputs": [
    {
     "data": {
      "text/plain": [
       "['apple', 'banana']"
      ]
     },
     "execution_count": 31,
     "metadata": {},
     "output_type": "execute_result"
    }
   ],
   "source": [
    "list1[0:2]"
   ]
  },
  {
   "cell_type": "markdown",
   "metadata": {},
   "source": [
    "To extract the last elements (or elements) of a list, the `-` can be used"
   ]
  },
  {
   "cell_type": "code",
   "execution_count": 35,
   "metadata": {},
   "outputs": [
    {
     "name": "stdout",
     "output_type": "stream",
     "text": [
      "salad\n",
      "['tomatoe', 'salad']\n"
     ]
    }
   ],
   "source": [
    "print(list1[-1])\n",
    "print(list1[-2:])"
   ]
  },
  {
   "cell_type": "markdown",
   "metadata": {},
   "source": [
    "Elements of lists can be also extracted according to specific interval"
   ]
  },
  {
   "cell_type": "code",
   "execution_count": 71,
   "metadata": {},
   "outputs": [
    {
     "name": "stdout",
     "output_type": "stream",
     "text": [
      "[1, 3, 5, 7]\n",
      "[3, 5, 7]\n"
     ]
    }
   ],
   "source": [
    "list5 = [1, 2, 3, 4, 5, 6, 7, 8]\n",
    "print(list5[::2]) # extract the element each two elements across the entire list\n",
    "print(list5[2:7:2]) # extracts the element each two elements from elements with index 2 to index 7 excluded"
   ]
  },
  {
   "cell_type": "markdown",
   "metadata": {},
   "source": [
    "### Update lists"
   ]
  },
  {
   "cell_type": "markdown",
   "metadata": {},
   "source": [
    "The elements of a list can be also updated using the index"
   ]
  },
  {
   "cell_type": "code",
   "execution_count": 39,
   "metadata": {},
   "outputs": [
    {
     "name": "stdout",
     "output_type": "stream",
     "text": [
      "['apple', 'banana', 'tomatoe', 'salad']\n",
      "['apple', 'banana', 'milk', 'salad']\n"
     ]
    }
   ],
   "source": [
    "print(list1)\n",
    "list1[2] = \"milk\"\n",
    "print(list1)"
   ]
  },
  {
   "cell_type": "markdown",
   "metadata": {},
   "source": [
    "Multiple elements can updated at the same time using the same logic mentioned before to access multiple elements at the same time"
   ]
  },
  {
   "cell_type": "code",
   "execution_count": 42,
   "metadata": {},
   "outputs": [
    {
     "name": "stdout",
     "output_type": "stream",
     "text": [
      "[0, 1, 'milk', 'salad']\n"
     ]
    }
   ],
   "source": [
    "list1[0:2] = [0, 1]\n",
    "print(list1)"
   ]
  },
  {
   "cell_type": "markdown",
   "metadata": {},
   "source": [
    "New elements can also be added to the already created list. To ad an element at the end of the list, you can use the function `append`. "
   ]
  },
  {
   "cell_type": "code",
   "execution_count": 46,
   "metadata": {},
   "outputs": [
    {
     "name": "stdout",
     "output_type": "stream",
     "text": [
      "[0, 1, 'milk', 'salad', 'sugar', 'sugar', 'sugar']\n"
     ]
    }
   ],
   "source": [
    "list1.append(\"sugar\")\n",
    "print(list1)"
   ]
  },
  {
   "cell_type": "markdown",
   "metadata": {},
   "source": [
    "Instead, to insert a value in a specific position of the list, you can use `insert` and specify in which index you want the value to be added"
   ]
  },
  {
   "cell_type": "code",
   "execution_count": 47,
   "metadata": {},
   "outputs": [
    {
     "data": {
      "text/plain": [
       "[0, 1, 'milk', 'salad', 'tea', 'sugar', 'sugar', 'sugar']"
      ]
     },
     "execution_count": 47,
     "metadata": {},
     "output_type": "execute_result"
    }
   ],
   "source": [
    "list1.insert(4,\"tea\")\n",
    "list1"
   ]
  },
  {
   "cell_type": "markdown",
   "metadata": {},
   "source": [
    "Finally, `del` can be used to delete elements from lists"
   ]
  },
  {
   "cell_type": "code",
   "execution_count": 49,
   "metadata": {},
   "outputs": [
    {
     "data": {
      "text/plain": [
       "[0, 1, 'tea', 'sugar', 'sugar', 'sugar']"
      ]
     },
     "execution_count": 49,
     "metadata": {},
     "output_type": "execute_result"
    }
   ],
   "source": [
    "del list1[2]\n",
    "list1"
   ]
  },
  {
   "cell_type": "code",
   "execution_count": 50,
   "metadata": {},
   "outputs": [
    {
     "data": {
      "text/plain": [
       "[0, 1, 'sugar', 'sugar']"
      ]
     },
     "execution_count": 50,
     "metadata": {},
     "output_type": "execute_result"
    }
   ],
   "source": [
    "del list1[2:4]\n",
    "list1"
   ]
  },
  {
   "cell_type": "markdown",
   "metadata": {},
   "source": [
    "Instead, if an element needs to be removed based on the value rather than the index, `remove` can be used."
   ]
  },
  {
   "cell_type": "code",
   "execution_count": null,
   "metadata": {},
   "outputs": [],
   "source": [
    "list1.remove(1) #remove element with value 1 from list1\n",
    "list1"
   ]
  },
  {
   "cell_type": "markdown",
   "metadata": {},
   "source": [
    "Finally, if you want to completely empty the list, you can use the function `clear`"
   ]
  },
  {
   "cell_type": "code",
   "execution_count": 96,
   "metadata": {},
   "outputs": [
    {
     "name": "stdout",
     "output_type": "stream",
     "text": [
      "['apple', 2, 6]\n",
      "[]\n"
     ]
    }
   ],
   "source": [
    "print(list4)\n",
    "list4.clear()\n",
    "print(list4)"
   ]
  },
  {
   "cell_type": "markdown",
   "metadata": {},
   "source": [
    "An important aspect of lists is that if you assign the same list to two different variables, and then you change one of them, the other list will be updated as well. This can be problematic in the analysis. An alternative, to prevent this error, and modify only one copy of the list, is to use `copy`"
   ]
  },
  {
   "cell_type": "code",
   "execution_count": 109,
   "metadata": {},
   "outputs": [
    {
     "name": "stdout",
     "output_type": "stream",
     "text": [
      "original: [34, 98, 'apple', 12, 3]\n",
      "copy: [34, 98, 'apple', 12, 3]\n"
     ]
    }
   ],
   "source": [
    "original = [34, 98, 72, 12, 3]\n",
    "copy = original\n",
    "copy[2] = \"apple\"\n",
    "print(\"original:\", original)\n",
    "print(\"copy:\", copy)"
   ]
  },
  {
   "cell_type": "code",
   "execution_count": 110,
   "metadata": {},
   "outputs": [
    {
     "name": "stdout",
     "output_type": "stream",
     "text": [
      "original: [34, 98, 'apple', 12, 3]\n",
      "copy: [34, 98, 'apple', 12, 3]\n",
      "bcopy: [34, 98, 'changed', 12, 3]\n"
     ]
    }
   ],
   "source": [
    "bcopy= original.copy() \n",
    "bcopy[2] = \"changed\"\n",
    "print(\"original:\",original)\n",
    "print(\"copy:\",copy)\n",
    "print(\"bcopy:\",bcopy)"
   ]
  },
  {
   "cell_type": "markdown",
   "metadata": {},
   "source": [
    "### Basic operations with lists"
   ]
  },
  {
   "cell_type": "markdown",
   "metadata": {},
   "source": [
    "There are multiple operations that can be done when working with lists"
   ]
  },
  {
   "cell_type": "code",
   "execution_count": 54,
   "metadata": {},
   "outputs": [
    {
     "name": "stdout",
     "output_type": "stream",
     "text": [
      "[123, 34, 4, 5, 78]\n"
     ]
    },
    {
     "data": {
      "text/plain": [
       "5"
      ]
     },
     "execution_count": 54,
     "metadata": {},
     "output_type": "execute_result"
    }
   ],
   "source": [
    "print(list2)\n",
    "len(list2) #provides bow many elements there are in the list"
   ]
  },
  {
   "cell_type": "code",
   "execution_count": 55,
   "metadata": {},
   "outputs": [
    {
     "name": "stdout",
     "output_type": "stream",
     "text": [
      "[123, 34, 4, 5, 78, 123, 34, 4, 5, 78, 123, 34, 4, 5, 78]\n"
     ]
    }
   ],
   "source": [
    "print(list2*3) # duplicated the elements in the list (in the same order) N times"
   ]
  },
  {
   "cell_type": "code",
   "execution_count": 57,
   "metadata": {},
   "outputs": [
    {
     "data": {
      "text/plain": [
       "[123, 34, 4, 5, 78, 0, 'sugar', 'sugar']"
      ]
     },
     "execution_count": 57,
     "metadata": {},
     "output_type": "execute_result"
    }
   ],
   "source": [
    "list2+list1 #merges two lists"
   ]
  },
  {
   "cell_type": "code",
   "execution_count": 61,
   "metadata": {},
   "outputs": [
    {
     "data": {
      "text/plain": [
       "(4, 123)"
      ]
     },
     "execution_count": 61,
     "metadata": {},
     "output_type": "execute_result"
    }
   ],
   "source": [
    "min(list2), max(list2) #returns the minimum and maximum of an integer/float only list"
   ]
  },
  {
   "cell_type": "code",
   "execution_count": 75,
   "metadata": {},
   "outputs": [
    {
     "data": {
      "text/plain": [
       "3"
      ]
     },
     "execution_count": 75,
     "metadata": {},
     "output_type": "execute_result"
    }
   ],
   "source": [
    "list6 = [1, 1, 1, 4, 5]\n",
    "list6.count(1) # returns how many times a value appears in a list"
   ]
  },
  {
   "cell_type": "code",
   "execution_count": 78,
   "metadata": {},
   "outputs": [
    {
     "name": "stdout",
     "output_type": "stream",
     "text": [
      "[5, 4, 1, 1, 1]\n"
     ]
    }
   ],
   "source": [
    "list6.reverse() # returns the list in the opposite direction\n",
    "print(list6)"
   ]
  },
  {
   "cell_type": "code",
   "execution_count": 83,
   "metadata": {},
   "outputs": [
    {
     "name": "stdout",
     "output_type": "stream",
     "text": [
      "[1, 1, 1, 4, 5]\n"
     ]
    }
   ],
   "source": [
    "list6.sort() #sorts the elements in the list and changes the list itself\n",
    "print(list6)"
   ]
  },
  {
   "cell_type": "markdown",
   "metadata": {},
   "source": [
    "There is an alternative function to sort lists that allows you to keep the original order as well, which is `sorted`"
   ]
  },
  {
   "cell_type": "code",
   "execution_count": 84,
   "metadata": {},
   "outputs": [
    {
     "name": "stdout",
     "output_type": "stream",
     "text": [
      "[1, 4, 2, 8, 2]\n",
      "[1, 2, 2, 4, 8]\n"
     ]
    }
   ],
   "source": [
    "list7 = [1, 4, 2, 8, 2]\n",
    "list7sorted = sorted(list7)\n",
    "print(list7)\n",
    "print(list7sorted)"
   ]
  },
  {
   "cell_type": "code",
   "execution_count": 103,
   "metadata": {},
   "outputs": [
    {
     "data": {
      "text/plain": [
       "17"
      ]
     },
     "execution_count": 103,
     "metadata": {},
     "output_type": "execute_result"
    }
   ],
   "source": [
    "sum(list7) # returns the sum of a numeric list"
   ]
  },
  {
   "cell_type": "markdown",
   "metadata": {},
   "source": [
    "The function `sum` is however a bit limited. What if we want to do some basic operations with lists? For example, what if we want to add 5 to all the elements of an integer list?"
   ]
  },
  {
   "cell_type": "code",
   "execution_count": null,
   "metadata": {},
   "outputs": [],
   "source": [
    "list7 = [1, 4, 2, 8, 2]\n",
    "list7 + 5"
   ]
  },
  {
   "cell_type": "markdown",
   "metadata": {},
   "source": [
    "If you try to run any aritmetic operation with lists, Python will give you an error. This is why we need `arrays`."
   ]
  },
  {
   "cell_type": "markdown",
   "metadata": {},
   "source": [
    "## Arrays"
   ]
  },
  {
   "cell_type": "markdown",
   "metadata": {},
   "source": [
    "Lists are built-in Python data structures, while `arrays` are the list structure of `numpy`, which is a Python package. To be able to use the package, we need to import is - as explained in the section above."
   ]
  },
  {
   "cell_type": "code",
   "execution_count": 94,
   "metadata": {},
   "outputs": [],
   "source": [
    "import numpy as np"
   ]
  },
  {
   "cell_type": "markdown",
   "metadata": {},
   "source": [
    "There are five biggest differences between  `lists` and  `arrays`:\n",
    "1.  `lists` can have data of multiple data types, while  `arrays` can contain data of only one data type\n",
    "2.  `lists` cannot be used to complete arithmetic operations, while  `arrays` can\n",
    "3. To work with  `arrays` a specific - separate module is required (`numpy `)"
   ]
  },
  {
   "cell_type": "code",
   "execution_count": 93,
   "metadata": {},
   "outputs": [
    {
     "data": {
      "text/plain": [
       "array([1, 4, 2, 8, 2])"
      ]
     },
     "execution_count": 93,
     "metadata": {},
     "output_type": "execute_result"
    }
   ],
   "source": [
    "arr1 = np.array([1, 4, 2, 8, 2])\n",
    "arr1 "
   ]
  },
  {
   "cell_type": "code",
   "execution_count": null,
   "metadata": {},
   "outputs": [],
   "source": []
  }
 ],
 "metadata": {
  "kernelspec": {
   "display_name": "Python3.7 (project1)",
   "language": "python",
   "name": "python3_project1"
  },
  "language_info": {
   "codemirror_mode": {
    "name": "ipython",
    "version": 3
   },
   "file_extension": ".py",
   "mimetype": "text/x-python",
   "name": "python",
   "nbconvert_exporter": "python",
   "pygments_lexer": "ipython3",
   "version": "3.7.1"
  }
 },
 "nbformat": 4,
 "nbformat_minor": 4
}
