{
 "cells": [
  {
   "cell_type": "markdown",
   "metadata": {},
   "source": [
    "                                                           Notebook created by Dragos Gruia and Valentina Giunchiglia"
   ]
  },
  {
   "cell_type": "markdown",
   "metadata": {
    "tags": []
   },
   "source": [
    "# Introduction to plotting"
   ]
  },
  {
   "cell_type": "markdown",
   "metadata": {},
   "source": [
    "The most commonly used `module` to create plots and figures in Python is `matplotlib`. Recently, the module `seaborn` has become more famous, since it allows to create better looking plots. But for now, we will focus on `matplotlib` due to the higher complexity of `seaborn`. If in the future you would like to learn more about `seaborn`, you can check out the online [tutorials](https://seaborn.pydata.org/tutorial.html). However, this is not needed for this module."
   ]
  },
  {
   "cell_type": "code",
   "execution_count": null,
   "metadata": {},
   "outputs": [],
   "source": [
    "%matplotlib inline\n",
    "import matplotlib.pyplot as plt\n",
    "import pandas as pd\n",
    "import numpy as np"
   ]
  },
  {
   "cell_type": "code",
   "execution_count": null,
   "metadata": {},
   "outputs": [],
   "source": [
    "songs = pd.read_csv(\"Data/Day9_data.csv\", low_memory = False)\n",
    "songs.head()"
   ]
  },
  {
   "cell_type": "markdown",
   "metadata": {},
   "source": [
    "Visualizing data through dataframes is useful, but not as easy to interpret as by looking at plots."
   ]
  },
  {
   "cell_type": "markdown",
   "metadata": {},
   "source": [
    "## Scatterplots"
   ]
  },
  {
   "cell_type": "markdown",
   "metadata": {},
   "source": [
    "In Python, when you want to create a figure, you always have to create a figure using `plt.figure` and specify the size of the figure in the parenthesis (width, height). Then, you can call the command for the specific plot you are interested in - in this case a scatterplot. `Scatterplots` are useful plots to show the relationship between two variables in a dataframe. Let's try to see if there is a relationship between loudness and energy."
   ]
  },
  {
   "cell_type": "code",
   "execution_count": null,
   "metadata": {},
   "outputs": [],
   "source": [
    "plt.figure(figsize = (6, 4))\n",
    "plt.scatter(songs[\"loudness\"], songs[\"energy\"])"
   ]
  },
  {
   "cell_type": "markdown",
   "metadata": {},
   "source": [
    "Of course there are ways to make the plot look better, by for example adding a title, or axis labels, by removing the ticks around the figure or by changing the colours. "
   ]
  },
  {
   "cell_type": "code",
   "execution_count": null,
   "metadata": {},
   "outputs": [],
   "source": [
    "plt.figure(figsize = (6, 4))\n",
    "plt.scatter(songs[\"loudness\"], songs[\"energy\"], color = \"grey\")\n",
    "plt.title(\"Relationship: loudness and energy\")\n",
    "plt.xlabel(\"Loudness\")\n",
    "plt.ylabel(\"Energy\")\n",
    "plt.xticks([])\n",
    "plt.yticks([])"
   ]
  },
  {
   "cell_type": "markdown",
   "metadata": {},
   "source": [
    "if you want to save the figure that you just created, you can just add the command `plt.savefig` at the end (as shown in the next plot)"
   ]
  },
  {
   "cell_type": "markdown",
   "metadata": {},
   "source": [
    "## Histograms"
   ]
  },
  {
   "cell_type": "markdown",
   "metadata": {},
   "source": [
    "Histograms can be useful to look at the distribution of different values. The function to create an histogram in matplot is `plt.hist` and takes as input arguments the column of the dataframe to plot and the number of bins. The higher is the number of bins, the more bars the histogram has."
   ]
  },
  {
   "cell_type": "code",
   "execution_count": null,
   "metadata": {},
   "outputs": [],
   "source": [
    "plt.figure(figsize = (6, 4))\n",
    "_ = plt.hist(songs[\"danceability\"], bins = 30)\n",
    "plt.savefig(\"figure1.png\")"
   ]
  },
  {
   "cell_type": "markdown",
   "metadata": {},
   "source": [
    "An alternative to just defining the number of bins is to provide a list of bins as input"
   ]
  },
  {
   "cell_type": "code",
   "execution_count": null,
   "metadata": {},
   "outputs": [],
   "source": [
    "plt.figure(figsize = (6, 4))\n",
    "_ = plt.hist(songs[\"danceability\"], bins = [0, 0.4, 0.6, 1], color = \"green\")"
   ]
  },
  {
   "cell_type": "markdown",
   "metadata": {},
   "source": [
    "**IMPORTANT**: Be careful on how you define the bins, because they could really change the way the plot looks."
   ]
  },
  {
   "cell_type": "markdown",
   "metadata": {},
   "source": [
    "## Boxplots"
   ]
  },
  {
   "cell_type": "markdown",
   "metadata": {},
   "source": [
    "Boxplots are useful to visualise the distribution of the data in terms of the first quartile [Q1], median, and third quartile [Q3]. It can also give you information about potential outliers in your dataset."
   ]
  },
  {
   "cell_type": "code",
   "execution_count": null,
   "metadata": {},
   "outputs": [],
   "source": [
    "plt.figure(figsize = (6, 4))\n",
    "plt.boxplot(songs[\"energy\"])\n",
    "plt.xticks([1],[\"Energy\"])\n",
    "plt.title(\"Distribution of energy\")\n",
    "plt.yticks([])"
   ]
  },
  {
   "cell_type": "markdown",
   "metadata": {},
   "source": [
    "It is also possible to create multiple boxplots one next to the other by providing as input a list of columns of the original dataframe"
   ]
  },
  {
   "cell_type": "code",
   "execution_count": null,
   "metadata": {},
   "outputs": [],
   "source": [
    "data = [songs[\"energy\"], songs[\"danceability\"], songs[\"liveness\"]]"
   ]
  },
  {
   "cell_type": "code",
   "execution_count": null,
   "metadata": {},
   "outputs": [],
   "source": [
    "plt.figure(figsize = (6, 4))\n",
    "_ = plt.boxplot(data)\n",
    "_ = plt.xticks([1, 2, 3],[\"Energy\", \"Dance\", \"Live\"])"
   ]
  },
  {
   "cell_type": "markdown",
   "metadata": {},
   "source": [
    "## Pie charts"
   ]
  },
  {
   "cell_type": "markdown",
   "metadata": {},
   "source": [
    "Pie charts are useful to represent different proportion of data, where the full pie chart corresponds to 100% and each section to a portion of the full percentage. In order to be able to draw it is, therefore, necessary to calculate these percentages. To undestand how pie charts are created, let's start with a simple example."
   ]
  },
  {
   "cell_type": "code",
   "execution_count": null,
   "metadata": {},
   "outputs": [],
   "source": [
    "perc = [40, 20, 10, 10, 20]\n",
    "labels = [\"English\", \"Spanish\", \"Italian\", \"German\", \"Chinese\"]\n",
    "plt.figure(figsize = (4, 4))\n",
    "_ = plt.pie(perc, labels = labels)\n",
    "plt.legend() # remove this command if you don't want to plot the legend"
   ]
  },
  {
   "cell_type": "markdown",
   "metadata": {},
   "source": [
    "What if you want to show the percentages of each slice? Then you can add the command `autopct`"
   ]
  },
  {
   "cell_type": "code",
   "execution_count": null,
   "metadata": {},
   "outputs": [],
   "source": [
    "perc = [40, 20, 10, 10, 20]\n",
    "labels = [\"English\", \"Spanish\", \"Italian\", \"German\", \"Chinese\"]\n",
    "plt.figure(figsize = (4, 4))\n",
    "_ = plt.pie(perc, labels = labels, autopct='%1.0f%%')"
   ]
  },
  {
   "cell_type": "markdown",
   "metadata": {},
   "source": [
    "-----------\n",
    "\n",
    "### Code here\n",
    "Now try to create a pie charts with the songs dataset. You want to show how many songs there are of each genre. Remember, you first need to be able to calculate that, then you can create the plot."
   ]
  },
  {
   "cell_type": "code",
   "execution_count": null,
   "metadata": {},
   "outputs": [],
   "source": [
    "# Code here\n",
    "\n"
   ]
  },
  {
   "cell_type": "markdown",
   "metadata": {},
   "source": [
    "----------"
   ]
  },
  {
   "cell_type": "markdown",
   "metadata": {},
   "source": [
    "## Barplots"
   ]
  },
  {
   "cell_type": "markdown",
   "metadata": {},
   "source": [
    "Barplots are useful to represent categorical data, and in general can be used to show the relationship between numeric and categorical data.\n",
    "Let's try to use a barplot to show how many songs there are for each genre. To be able to do this, we need to get this information using the function *value_counts*.\n",
    "\n",
    "The input of a barplot is the list of categorical variables and then the numerical data (in this case the number of songs for each genre)."
   ]
  },
  {
   "cell_type": "code",
   "execution_count": null,
   "metadata": {},
   "outputs": [],
   "source": [
    "count = pd.DataFrame(songs[\"genre\"].value_counts())\n",
    "plt.figure(figsize = (10, 5))\n",
    "plt.bar(count.index, count[\"genre\"])"
   ]
  },
  {
   "cell_type": "markdown",
   "metadata": {},
   "source": [
    "As you can see the labels are overlapping. A solution is to rotate them. "
   ]
  },
  {
   "cell_type": "code",
   "execution_count": null,
   "metadata": {},
   "outputs": [],
   "source": [
    "plt.figure(figsize = (10, 5))\n",
    "plt.bar(count.index, count[\"genre\"], color = \"orange\")\n",
    "plt.title(\"Songs per genre\")\n",
    "_ = plt.xticks(rotation=90)"
   ]
  },
  {
   "cell_type": "markdown",
   "metadata": {},
   "source": [
    "## Subplots"
   ]
  },
  {
   "cell_type": "markdown",
   "metadata": {},
   "source": [
    "Until now, we have always plotted unique plots. However in Python it is possible to plot a figure with multiple subplots by using the command `plt.subplot`. The `plt.subplot` command takes as input the (number or rows, number of columns, plot number)."
   ]
  },
  {
   "cell_type": "code",
   "execution_count": null,
   "metadata": {},
   "outputs": [],
   "source": [
    "plt.figure(figsize = (15, 5))\n",
    "plt.subplot(1,2,1)\n",
    "_ = plt.boxplot(data)\n",
    "_ = plt.xticks([1, 2, 3],[\"Energy\", \"Dance\", \"Live\"])\n",
    "plt.subplot(1,2,2)\n",
    "_ = plt.hist(songs[\"danceability\"], bins = 30)"
   ]
  },
  {
   "cell_type": "code",
   "execution_count": null,
   "metadata": {},
   "outputs": [],
   "source": []
  }
 ],
 "metadata": {
  "kernelspec": {
   "display_name": "Python 3.10.5 64-bit",
   "language": "python",
   "name": "python3"
  },
  "language_info": {
   "codemirror_mode": {
    "name": "ipython",
    "version": 3
   },
   "file_extension": ".py",
   "mimetype": "text/x-python",
   "name": "python",
   "nbconvert_exporter": "python",
   "pygments_lexer": "ipython3",
   "version": "3.10.5"
  },
  "vscode": {
   "interpreter": {
    "hash": "aee8b7b246df8f9039afb4144a1f6fd8d2ca17a180786b69acc140d282b71a49"
   }
  }
 },
 "nbformat": 4,
 "nbformat_minor": 5
}
