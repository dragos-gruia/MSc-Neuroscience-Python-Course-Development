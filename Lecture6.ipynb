{
 "cells": [
  {
   "cell_type": "markdown",
   "metadata": {},
   "source": [
    "                                                           Notebook created by Dragos Gruia and Valentina Giunchiglia"
   ]
  },
  {
   "cell_type": "markdown",
   "metadata": {},
   "source": [
    "# Introduction to Strings Manipulation"
   ]
  },
  {
   "cell_type": "markdown",
   "metadata": {},
   "source": [
    "In this section, we are going to cover different operations using strings. You should already be familiar with the concept of strings from previous lectures, but here we are going to discuss some more detailed applications."
   ]
  },
  {
   "cell_type": "markdown",
   "metadata": {},
   "source": [
    "As shown in previous tutorials, a string can be defined by a sequence of characters or numbers, which is saved using Quotation Marks. Their outputs can be easily printed via the `print` function."
   ]
  },
  {
   "cell_type": "code",
   "execution_count": null,
   "metadata": {},
   "outputs": [],
   "source": [
    "my_string = \"I can hold characters and numbers 123\"\n",
    "print(my_string)"
   ]
  },
  {
   "cell_type": "markdown",
   "metadata": {},
   "source": [
    "However, this notation does not always work. What if we wanted our string to contain Quotation Marks? Or maybe we wanted our string to be outputted across multiple rows? Python has a functionality which allows one to deal with these special cases called Escaping Characters. The most commonly used escaping characters are `Backlashes (\\)`. To use those, you add the backlash, followed by the special character that you want to be included in the string."
   ]
  },
  {
   "cell_type": "code",
   "execution_count": null,
   "metadata": {},
   "outputs": [],
   "source": [
    "my_string_backlash = \"\\\"This is a quote\\\"\"\n",
    "print(my_string_backlash)"
   ]
  },
  {
   "cell_type": "markdown",
   "metadata": {},
   "source": [
    "Similarly, you can use backlashes to tell Python start a new line via the `\\n` command."
   ]
  },
  {
   "cell_type": "code",
   "execution_count": null,
   "metadata": {},
   "outputs": [],
   "source": [
    "print(\"This is a line \\n This is another line\")"
   ]
  },
  {
   "cell_type": "markdown",
   "metadata": {},
   "source": [
    "We can also format strings to contain information from other variables via the `format()` method. "
   ]
  },
  {
   "cell_type": "code",
   "execution_count": null,
   "metadata": {},
   "outputs": [],
   "source": [
    "age_mark = 26\n",
    "age_steven = 22\n",
    "\n",
    "print(\"Mark just turned {} while Steven is only {}\".format(age_mark,age_steven))"
   ]
  },
  {
   "cell_type": "markdown",
   "metadata": {},
   "source": [
    "In this scenario, the empty curly brackets serve as placeholders for the string and its arguments."
   ]
  },
  {
   "cell_type": "markdown",
   "metadata": {},
   "source": [
    "An alternative way to use the format method is by writing `f` at the beginning of the string. In this case, within the curly brackets you have to specify the variable to input."
   ]
  },
  {
   "cell_type": "code",
   "execution_count": null,
   "metadata": {},
   "outputs": [],
   "source": [
    "print(f\"Mark just turned {age_mark} while Steven is only {age_steven}\")"
   ]
  },
  {
   "cell_type": "markdown",
   "metadata": {},
   "source": [
    "## Indexing and Iterating Through Strings \n",
    "\n",
    "The process of indexing a string is very similar to that of an array or a list."
   ]
  },
  {
   "cell_type": "code",
   "execution_count": null,
   "metadata": {},
   "outputs": [],
   "source": [
    "my_string = \"Taylor Swift\"\n",
    "\n",
    "my_string[0] #First character in the string\n",
    "my_string[-1] #Last character in the string\n",
    "my_string[:3] #All characters from 0 until index N-1"
   ]
  },
  {
   "cell_type": "markdown",
   "metadata": {},
   "source": [
    "The `IN` command is particularly useful for strings. One way to use it is to check whether a certain character or set of characters are present in a string."
   ]
  },
  {
   "cell_type": "code",
   "execution_count": null,
   "metadata": {},
   "outputs": [],
   "source": [
    "print(\"Taylor\" in my_string) # Prints True as \"Taylor\" is found within the string\n",
    "print(\"Jake Gyllenhaal\" in my_string) # Prints False as \"Jake Gyllenhaal\" is not found within the string"
   ]
  },
  {
   "cell_type": "markdown",
   "metadata": {},
   "source": [
    "Similarly, one can use the `for in` approach to iterate through all the characters in a string."
   ]
  },
  {
   "cell_type": "code",
   "execution_count": null,
   "metadata": {},
   "outputs": [],
   "source": [
    "for character in my_string:\n",
    "    print(character)"
   ]
  },
  {
   "cell_type": "markdown",
   "metadata": {},
   "source": [
    "We can also have a list of strings and use the `for in` approach to go through each string in the list, one by one, and analyse its contents."
   ]
  },
  {
   "cell_type": "code",
   "execution_count": null,
   "metadata": {},
   "outputs": [],
   "source": [
    "songwriters = [\"Charlie Puth\", \"Ariana Grande\", \"Hozier\", \"Taylor Swift\"]\n",
    "\n",
    "for string in songwriters:\n",
    "    if string == \"Taylor Swift\":\n",
    "        print(\"I found Taylor\")"
   ]
  },
  {
   "cell_type": "markdown",
   "metadata": {},
   "source": [
    "Additionally, you can add another loop and check specific characters in each string. We call these nested loops, as they are loops within loops."
   ]
  },
  {
   "cell_type": "code",
   "execution_count": null,
   "metadata": {},
   "outputs": [],
   "source": [
    "for string in songwriters:\n",
    "    for character in string:\n",
    "        if character == \"t\":\n",
    "            print(string)\n",
    "        "
   ]
  },
  {
   "cell_type": "markdown",
   "metadata": {},
   "source": [
    "The previous code goes through each string in the list, then goes through each character in that string and checks whether the string contains the letter `t`. If the string contains that specific letter, the whole string is printed. Can you guess what would be printed if instead we were checking for the letter `a`?"
   ]
  },
  {
   "cell_type": "markdown",
   "metadata": {},
   "source": [
    "Finally, another useful string method to identify different strings is `startswith`, which checks what's the beginning of the string, or `endswith`, which checks what's the end of the string."
   ]
  },
  {
   "cell_type": "code",
   "execution_count": null,
   "metadata": {},
   "outputs": [],
   "source": [
    "songwriters = [\"Charlie Puth\", \"Ariana Grande\", \"Hozier\", \"Taylor Swift\"]\n",
    "\n",
    "for string in songwriters:\n",
    "    if string.startswith(\"Tay\"):\n",
    "        print(\"I found Taylor\")"
   ]
  },
  {
   "cell_type": "markdown",
   "metadata": {},
   "source": [
    "## String Methods"
   ]
  },
  {
   "cell_type": "markdown",
   "metadata": {},
   "source": [
    "Strings contain certain built-in functions which can be used to format them. The key difference between these string methods and functions is that string methods can only be applied to strings, while functions as a rule of thumb are more general and can be applied on multiple data types like lists, arrays, etc. "
   ]
  },
  {
   "cell_type": "markdown",
   "metadata": {},
   "source": [
    "Below we show the most common string methods. The first are `lower()` and `upper()`, which transform all your uppercase letters to lowercase, and vice versa."
   ]
  },
  {
   "cell_type": "code",
   "execution_count": null,
   "metadata": {},
   "outputs": [],
   "source": [
    "print(my_string.lower())\n",
    "print(my_string.upper())"
   ]
  },
  {
   "cell_type": "markdown",
   "metadata": {},
   "source": [
    "Other string methods include `title` which only transforms the first letter of each word to uppercase.\n"
   ]
  },
  {
   "cell_type": "code",
   "execution_count": null,
   "metadata": {},
   "outputs": [],
   "source": [
    "print(my_string.title())"
   ]
  },
  {
   "cell_type": "markdown",
   "metadata": {},
   "source": [
    "We can also split a string into a list of strings via the `split()` method. By default, the method splits a string whenever it comes across a whitespace, but you can also indicate your own splitting character. For example, we can ask Python to split our string whenever it comes across the letter 'a'."
   ]
  },
  {
   "cell_type": "code",
   "execution_count": null,
   "metadata": {},
   "outputs": [],
   "source": [
    "print(my_string.split())\n",
    "print(my_string.split('a'))"
   ]
  },
  {
   "cell_type": "markdown",
   "metadata": {},
   "source": [
    "But what if we changed our mind and after we split the strings apart, and we want to bring them back together? We can use the `join()` to join several strings into one. "
   ]
  },
  {
   "cell_type": "code",
   "execution_count": null,
   "metadata": {},
   "outputs": [],
   "source": [
    "my_string_separated = my_string.split()\n",
    "print(my_string_separated)\n",
    "my_string_reunited = \" \".join(my_string_separated)\n",
    "print(my_string_reunited)"
   ]
  },
  {
   "cell_type": "markdown",
   "metadata": {},
   "source": [
    "Notice that we used join on an empty string, rather than applying it the way we have done so far (e.g. `my_string_separated.join()`). The reason why it has to be done this way is because string methods only work on strings. If we applied the `join()` method on `my_string_separated` variable then we would effectively apply it on a list, rather than on a string. This would lead to an error.\n"
   ]
  },
  {
   "cell_type": "markdown",
   "metadata": {},
   "source": [
    "The empty string before the `join()` function is called a separator and it can be set to any character. In this case we used a whitespace but the user can decide how he wants the strings to be separated (or if they should be separated at all)\n"
   ]
  },
  {
   "cell_type": "code",
   "execution_count": null,
   "metadata": {},
   "outputs": [],
   "source": [
    "my_string_reunited = \"-\".join(my_string_separated) #using dash as separation\n",
    "print(my_string_reunited)\n",
    "my_string_reunited = \"\".join(my_string_separated) #not using any separation\n",
    "print(my_string_reunited)"
   ]
  },
  {
   "cell_type": "markdown",
   "metadata": {},
   "source": [
    "## Cleaning a messy string"
   ]
  },
  {
   "cell_type": "markdown",
   "metadata": {},
   "source": [
    "Sometimes the data we work with is very messy, so before we can analyse it, we need to process it a little bit. In this section, we will use several Python methods to clean and format a string."
   ]
  },
  {
   "cell_type": "code",
   "execution_count": null,
   "metadata": {},
   "outputs": [],
   "source": [
    "my_messy_string = \"    TheRE are Many FAMous ?Artists     \""
   ]
  },
  {
   "cell_type": "markdown",
   "metadata": {},
   "source": [
    "As you can see, there are many issues with the above string. First, it contains a lot of whitespace characters at the starnt and at the end. These are redundant and we want to get rid of them. Luckily, Python has a method called `strip()` which removes by default all whitespace characters from the beginning and end of a string. If we want a different set of characters to be removed we can simply specify them between the brackets."
   ]
  },
  {
   "cell_type": "code",
   "execution_count": null,
   "metadata": {},
   "outputs": [],
   "source": [
    "my_messy_string = my_messy_string.strip()\n",
    "print(my_messy_string)"
   ]
  },
  {
   "cell_type": "markdown",
   "metadata": {},
   "source": [
    "Now, we might want to get rid of the question mark, as it does not really fit well with the overall message. Python has a method called `find()` which allows one to find the first occurence of a given string. The `find()` method then outputs the index of that occurence. If no such string is found, the value -1 is returned instead. "
   ]
  },
  {
   "cell_type": "code",
   "execution_count": null,
   "metadata": {},
   "outputs": [],
   "source": [
    "print(my_messy_string.find(\"?\"))\n",
    "index_questionmark = my_messy_string.find(\"?\")"
   ]
  },
  {
   "cell_type": "markdown",
   "metadata": {},
   "source": [
    "Now that we know at which index the question mark is found, we can remove it from the string, using the `replace()` method, which takes in a string and replaces a certain character or set of characters, with another. In our case, we want to replace the question mark, with an empty string, thus removing the question mark from the string."
   ]
  },
  {
   "cell_type": "code",
   "execution_count": null,
   "metadata": {},
   "outputs": [],
   "source": [
    "my_messy_string = my_messy_string.replace(my_messy_string[index_questionmark], \"\")\n",
    "print(my_messy_string)"
   ]
  },
  {
   "cell_type": "markdown",
   "metadata": {},
   "source": [
    "-------------"
   ]
  },
  {
   "cell_type": "markdown",
   "metadata": {},
   "source": [
    "### Code here\n",
    "\n",
    "Now, if we wanted to make our string lowercase, then make only the first letter of each word uppercase, how would we do that? Additionally, if we wanted to separate our string in a list of strings, what function would we use?"
   ]
  },
  {
   "cell_type": "code",
   "execution_count": null,
   "metadata": {},
   "outputs": [],
   "source": [
    "# CODE HERE\n",
    "\n",
    "\n",
    "\n"
   ]
  }
 ],
 "metadata": {
  "kernelspec": {
   "display_name": "Python 3",
   "language": "python",
   "name": "python3"
  },
  "language_info": {
   "codemirror_mode": {
    "name": "ipython",
    "version": 3
   },
   "file_extension": ".py",
   "mimetype": "text/x-python",
   "name": "python",
   "nbconvert_exporter": "python",
   "pygments_lexer": "ipython3",
   "version": "3.10.5"
  },
  "vscode": {
   "interpreter": {
    "hash": "aee8b7b246df8f9039afb4144a1f6fd8d2ca17a180786b69acc140d282b71a49"
   }
  }
 },
 "nbformat": 4,
 "nbformat_minor": 4
}
