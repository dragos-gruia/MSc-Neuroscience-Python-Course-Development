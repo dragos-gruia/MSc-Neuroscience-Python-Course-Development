{
 "cells": [
  {
   "cell_type": "markdown",
   "metadata": {},
   "source": [
    "                                                           Notebook created by Dragos Gruia and Valentina Giunchiglia"
   ]
  },
  {
   "cell_type": "markdown",
   "metadata": {},
   "source": [
    "# Introduction to Functions"
   ]
  },
  {
   "cell_type": "markdown",
   "metadata": {},
   "source": [
    "A **function** can be defined as a block of code, which is run only when it is called. Functions are commonly used to:\n",
    "1. Avoid repeating code\n",
    "2. Create easy-to-read and easy-to-share code\n",
    "3. Write code that needs to be run multiple times while changing only a couple of parameters\n",
    "\n",
    "Python has some built-in functions that can be easily accessed. If you remember from lecture one, `bool` and `type` are just two examples of built-in functions. Another common built-in function is  `len`\n",
    "\n"
   ]
  },
  {
   "cell_type": "code",
   "execution_count": 5,
   "metadata": {},
   "outputs": [
    {
     "name": "stdout",
     "output_type": "stream",
     "text": [
      "<class 'str'>\n",
      "5\n"
     ]
    }
   ],
   "source": [
    "var = \"apple\"\n",
    "print(type(var))\n",
    "print(len(var))"
   ]
  },
  {
   "cell_type": "markdown",
   "metadata": {},
   "source": [
    "Apart from built-in functions, users can define their own functions, using a specific structure"
   ]
  },
  {
   "cell_type": "markdown",
   "metadata": {},
   "source": [
    "```\n",
    "def name_function(input1, input2, ..., inputn = 2):\n",
    "    '''\n",
    "    Docstrings that describe the aim of the functions, \n",
    "    its outputs and the input parameters\n",
    "    '''\n",
    "    < code of the function >\n",
    "    return output1, output2, ..., outputN\n",
    "\n",
    "# Call function\n",
    "name_function(input1 = 1, input2 = 4, ..., inputn = 2)\n",
    "```"
   ]
  },
  {
   "cell_type": "markdown",
   "metadata": {},
   "source": [
    "As can be observed in the cell above, the structure used to define a function is really specific:\n",
    "1. Define the name of the function and the input arguments. The input arguments can be from one up to N, where N is as many arguments as are needed to be able to properly run the  function.\n",
    "2. The input arguments can have a default value (e.g. `inputn = 2`) or not; input arguments with default values must be defined always **after** the arguments without default values. A default value means that if no alternative value is provided when calling the function, then the default value will be used. If no default value is provided, then the function cannot be called without specifying a value for that specific argument\n",
    "3. Docstrings can be used to describe what a function does and what the input/output parameters are\n",
    "4. The code of the function tells the function what to do\n",
    "5. The `return` statement specifies what the output of the function is. The return statement is not compulsory - you can have functions that don't necessarily return anything but just compute specific lines of code when being called.\n",
    "6. **IMPORTANT**: as you can notice, everything that is written after `def` is `indented` at the same level of the name of the function. This is the same behaviour we saw in the previous lecture in case of context managers. The indentation is necessary because it tells Python that everything that is written at that indentation level belongs to the function environment. If you remove the indentation, then you exit the environment of the function.\n",
    "\n",
    "Let's try to define a function that takes the `mean` of three inputs:"
   ]
  },
  {
   "cell_type": "code",
   "execution_count": 2,
   "metadata": {},
   "outputs": [],
   "source": [
    "def mean(var1, var2, var3): #Name of the function\n",
    "    '''\n",
    "    The aim of the function is to calculate the mean\n",
    "    of three given input variables.\n",
    "    Example Parameters:\n",
    "    var1 (int): value 1\n",
    "    var2 (int): value 2\n",
    "    var3 (int): value 3\n",
    "    '''\n",
    "    sum_vars = var1+var2+var3 #code of the function\n",
    "    mean = sum_vars/3 #code of the function\n",
    "    return mean #output"
   ]
  },
  {
   "cell_type": "markdown",
   "metadata": {},
   "source": [
    "Now we can call the function and print the output with the `print` command"
   ]
  },
  {
   "cell_type": "code",
   "execution_count": 35,
   "metadata": {},
   "outputs": [
    {
     "name": "stdout",
     "output_type": "stream",
     "text": [
      "3.3333333333333335\n"
     ]
    }
   ],
   "source": [
    "print(mean(var1 = 3, var2 = 4, var3 = 3))"
   ]
  },
  {
   "cell_type": "markdown",
   "metadata": {},
   "source": [
    "As alternative, the function can be called as follows:"
   ]
  },
  {
   "cell_type": "code",
   "execution_count": 36,
   "metadata": {},
   "outputs": [
    {
     "name": "stdout",
     "output_type": "stream",
     "text": [
      "3.3333333333333335\n"
     ]
    }
   ],
   "source": [
    "print(mean(3, 4, 3))"
   ]
  },
  {
   "cell_type": "markdown",
   "metadata": {},
   "source": [
    "If `var1`, `var2`, and `var3` are not specified, then Python will automatically assume that the values provided when the function is called are in the same positional order of the arguments specified in the definition of the function. In this case, the function will assume that 3 is `var1`, 4 is `var2` and 3 is `var3`."
   ]
  },
  {
   "cell_type": "markdown",
   "metadata": {},
   "source": [
    "As you can see in the definition of `mean`, we create a variable called `sum_vars`. Try to print what is it's value"
   ]
  },
  {
   "cell_type": "code",
   "execution_count": null,
   "metadata": {},
   "outputs": [],
   "source": [
    "print(sum_vars)"
   ]
  },
  {
   "cell_type": "markdown",
   "metadata": {},
   "source": [
    "Python gives you an error and tells you that the variable is not defined. The reason is that all variables you define within a function will be defined only within that specific environment/context. Once you exit the function, the variables are no longer defined, and the only output of the function that is kept is what is returned after the `return` statement."
   ]
  },
  {
   "cell_type": "markdown",
   "metadata": {},
   "source": [
    "An interesting aspect about functions is that you can call them without specifying any value for the arguments as long as all the arguments of the function have a default value. Try to re-define the `mean` function above, assigning `default` values to all the arguments (`var1`, `var2`, and `var3`). Once you have added default values, run the following cell."
   ]
  },
  {
   "cell_type": "code",
   "execution_count": null,
   "metadata": {},
   "outputs": [],
   "source": [
    "mean()"
   ]
  },
  {
   "cell_type": "markdown",
   "metadata": {},
   "source": [
    "--------------"
   ]
  },
  {
   "cell_type": "markdown",
   "metadata": {},
   "source": [
    "### Code here\n",
    "Try to define a function called `diff` that takes an input two arguments called `var1` and `var2` and gives as output the difference between `var2` and `var1`. Their difference should be stored in a variable called `difference`. Once you defined the function, use it to calculate the difference between two values of your choice. Don't forget to document what the function does!"
   ]
  },
  {
   "cell_type": "code",
   "execution_count": null,
   "metadata": {},
   "outputs": [],
   "source": [
    "# CODE HERE\n",
    "\n"
   ]
  },
  {
   "cell_type": "markdown",
   "metadata": {},
   "source": [
    "----------------"
   ]
  },
  {
   "cell_type": "markdown",
   "metadata": {},
   "source": [
    "Writing the docstrings is **IMPORTANT**! If you don't write them, it will be difficult for other people, or future you (if you need to re-use your function after a long time) to remember what each function does. Once the docstrings are defined, they can be easily accessed using the command `help`."
   ]
  },
  {
   "cell_type": "code",
   "execution_count": null,
   "metadata": {},
   "outputs": [],
   "source": [
    "help(mean)"
   ]
  },
  {
   "cell_type": "markdown",
   "metadata": {},
   "source": [
    "An alternative to `help` is to just write directly the `?` in front of the name of the function"
   ]
  },
  {
   "cell_type": "code",
   "execution_count": null,
   "metadata": {},
   "outputs": [],
   "source": [
    "?mean"
   ]
  },
  {
   "cell_type": "markdown",
   "metadata": {},
   "source": [
    "Both `help` and `?` can be used for functions defined by the users, as well as built-in functions. \n",
    "Try to check how the `diff` function you defined looks like.\n"
   ]
  },
  {
   "cell_type": "markdown",
   "metadata": {},
   "source": [
    "----------------"
   ]
  },
  {
   "cell_type": "markdown",
   "metadata": {},
   "source": [
    "### Code here\n",
    "\n",
    "Let's try to do something a bit more complex. Write a function called `read_sum` that takes as input three arguments: the `name of a file`, and `two integers`. The aim of the function is to calculate the difference between the two integers and then write the result inside a newly created file with the name of the file provided as argument.\n",
    "\n",
    "**IMPORTANT:** the file should be created only if it does NOT already exist\n",
    "\n",
    "**IMPORTANT #2:** the output of the difference is an integer or float, but to write inside a file you need strings..."
   ]
  },
  {
   "cell_type": "code",
   "execution_count": null,
   "metadata": {},
   "outputs": [],
   "source": [
    "# CODE HERE\n",
    "\n"
   ]
  },
  {
   "cell_type": "markdown",
   "metadata": {},
   "source": [
    "------------"
   ]
  },
  {
   "cell_type": "markdown",
   "metadata": {},
   "source": [
    "## Python Scripts"
   ]
  },
  {
   "cell_type": "markdown",
   "metadata": {},
   "source": [
    "Functions are important because once a function is defined, it can be saved in a python script and easily imported in the notebook. A `python script` is a `.py` file, which can be used in two main ways:\n",
    "1. To collect all functions together and treat them as a new `module`\n",
    "2. To run a set of commands by simply calling the script in the terminal"
   ]
  },
  {
   "cell_type": "markdown",
   "metadata": {},
   "source": [
    "To create a new python script you have to add a new file by pressing `+` on the top left corner of the page and selecting `text file`. Once the text file is created, rename it `first_script.py`. The name of the file can be anything you want, but try to give it a name that makes sense. \n",
    "\n",
    "Now, let's copy the `mean` function inside the `first_script.py` file, but change the name of the function to `mean_script` so we can distinguish it from the function that you already have in the notebook.\n",
    "\n",
    "You just created your first python script!! Now, what do we do if we want to use that function? We can just import the script. The way you import python scripts is the same way you would import any `module`, or package in python. \n",
    "\n",
    "There are four different ways to import packages (or scripts):\n",
    "1. The entire module (or package) can be imported \n",
    "2. The entire module is imported and renamed \n",
    "3. Only specific functions from a module are imported\n",
    "4. Specific functions from a module are imported and renamed\n",
    "\n",
    "In general, it is good practice to only import the functions that you need as having tens of functions imported at the same time will slow down your code"
   ]
  },
  {
   "cell_type": "code",
   "execution_count": 14,
   "metadata": {},
   "outputs": [],
   "source": [
    "import numpy # the entire module called numpy is imported"
   ]
  },
  {
   "cell_type": "code",
   "execution_count": 11,
   "metadata": {},
   "outputs": [],
   "source": [
    "import numpy as np # the entire module called numpy is imported and renamed to np"
   ]
  },
  {
   "cell_type": "code",
   "execution_count": 2,
   "metadata": {},
   "outputs": [],
   "source": [
    "from numpy import mean # only the mean function from numpy is imported\n",
    "from numpy import * # imports all functions in numpy"
   ]
  },
  {
   "cell_type": "code",
   "execution_count": 16,
   "metadata": {},
   "outputs": [],
   "source": [
    "from numpy import mean as mn # only the mean function from numpy is imported and renamed to mn"
   ]
  },
  {
   "cell_type": "markdown",
   "metadata": {},
   "source": [
    "The same approach can be used to import scripts. In this case, after import, you have to write the name of the script without `.py`"
   ]
  },
  {
   "cell_type": "code",
   "execution_count": null,
   "metadata": {},
   "outputs": [],
   "source": [
    "import first_script"
   ]
  },
  {
   "cell_type": "code",
   "execution_count": 2,
   "metadata": {},
   "outputs": [],
   "source": [
    "from first_script import mean_script #better alternative if you need to use only one function"
   ]
  },
  {
   "cell_type": "markdown",
   "metadata": {},
   "source": [
    "Now that we imported the function we can use it! "
   ]
  },
  {
   "cell_type": "code",
   "execution_count": 15,
   "metadata": {},
   "outputs": [
    {
     "data": {
      "text/plain": [
       "4.0"
      ]
     },
     "execution_count": 15,
     "metadata": {},
     "output_type": "execute_result"
    }
   ],
   "source": [
    "mean_script(1, 2, 9)"
   ]
  },
  {
   "cell_type": "markdown",
   "metadata": {},
   "source": [
    "Now, what happens if you realise that you forgot something and you want to change the function? or if you add another function in the script?\n",
    "Try to add a `print` statement inside the function that prints the variable `sum_vars`, and save the script. When you are done, run the next cell."
   ]
  },
  {
   "cell_type": "code",
   "execution_count": 16,
   "metadata": {},
   "outputs": [
    {
     "data": {
      "text/plain": [
       "4.0"
      ]
     },
     "execution_count": 16,
     "metadata": {},
     "output_type": "execute_result"
    }
   ],
   "source": [
    "mean_script(1, 2, 9)"
   ]
  },
  {
   "cell_type": "markdown",
   "metadata": {},
   "source": [
    "The function should have printed the variable sum_vars, but it didn't. The reason is that you made changes in the script **after** importing the script, so those changes will not be there. In order to be able to see the changes, you have to restart the kernel and re-import the script. Try to restart the kernel and then run the following cell."
   ]
  },
  {
   "cell_type": "code",
   "execution_count": 1,
   "metadata": {},
   "outputs": [
    {
     "name": "stdout",
     "output_type": "stream",
     "text": [
      "12\n"
     ]
    },
    {
     "data": {
      "text/plain": [
       "4.0"
      ]
     },
     "execution_count": 1,
     "metadata": {},
     "output_type": "execute_result"
    }
   ],
   "source": [
    "from first_script import mean_script\n",
    "mean_script(1, 2, 9)"
   ]
  },
  {
   "cell_type": "markdown",
   "metadata": {},
   "source": [
    "Now the *sum_vars* vas printed!"
   ]
  },
  {
   "cell_type": "markdown",
   "metadata": {},
   "source": [
    "In general python scripts are the proper way you would store and share your code. A good way to work in Python is:\n",
    "1. Start looking at your data and writing functions using jupyter notebooks\n",
    "2. When the functions are ready, save them in a separate, and clean, python script"
   ]
  },
  {
   "cell_type": "markdown",
   "metadata": {},
   "source": [
    "------------"
   ]
  },
  {
   "cell_type": "markdown",
   "metadata": {},
   "source": [
    "## How to debug your code"
   ]
  },
  {
   "cell_type": "markdown",
   "metadata": {},
   "source": [
    "Finding errors in your code is bound to happen, sooner or later. It's important to know what is causing your errors, as that helps you fix them. As you go through the lectures, your code will become more and more complicated, so coding mistakes will become common. Below are some pieces of advice on how to get to the root of an error, together with some examples of common errors."
   ]
  },
  {
   "cell_type": "markdown",
   "metadata": {},
   "source": [
    "The simplest thing you can do to debug your code is `use a print statement` after each line of code. With this, you can check exactly what is going on in your code up until the erorr happens. "
   ]
  },
  {
   "cell_type": "markdown",
   "metadata": {},
   "source": [
    "If you don't want to use print statement on each line, using a debugger might be useful. ipdb is a common debugger - if you don't have the module installed, you can do it by using *pip*"
   ]
  },
  {
   "cell_type": "code",
   "execution_count": null,
   "metadata": {},
   "outputs": [],
   "source": [
    "! pip install ipdb"
   ]
  },
  {
   "cell_type": "code",
   "execution_count": 1,
   "metadata": {},
   "outputs": [],
   "source": [
    "import ipdb; "
   ]
  },
  {
   "cell_type": "markdown",
   "metadata": {},
   "source": [
    "Running this line **pdb.set_trace()** stops Python at that given line, and starts the debugger. This allows you to go through the code on a line by line basis. You interact with the commander in a similar way that you would with the Terminal/Command Line. There are specific commands that you can enter, which can help you with debugging. "
   ]
  },
  {
   "cell_type": "markdown",
   "metadata": {},
   "source": [
    "Typing `n`, then pressing `Enter` will run the current line then stop at the next one. "
   ]
  },
  {
   "cell_type": "markdown",
   "metadata": {},
   "source": [
    "Typing `p`, followed by the name of a variable, then pressing `Enter` will print the value of that variable. This way you can run a line of code, print the value of the variable, check that it is correct, then move on to the next line by pressing `n` again. It is possible to look at the value of a specific variable also by writing the variable name and pressing `Enter`."
   ]
  },
  {
   "cell_type": "markdown",
   "metadata": {},
   "source": [
    "When you are done with the debugger, press `q` to Quit. For a more in-depth explanation on the functions of the debugger, see this https://realpython.com/python-debugging-pdb/"
   ]
  },
  {
   "cell_type": "markdown",
   "metadata": {},
   "source": [
    "Play around with this using one of the functions that we defined earlier in the workshop. Try to check the values of *sum_vars, var1, var2* and *var3*. Are they as expected? Then type  `n` and press  `Enter`. Now check the value of *mean*."
   ]
  },
  {
   "cell_type": "code",
   "execution_count": 2,
   "metadata": {},
   "outputs": [],
   "source": [
    "def mean(var1, var2, var3): #Name of the function\n",
    "    '''\n",
    "    The aim of the function is to calculate the mean\n",
    "    of three given input variables.\n",
    "    Example Parameters:\n",
    "    var1 (int): value 1\n",
    "    var2 (int): value 2\n",
    "    var3 (int): value 3\n",
    "    '''\n",
    "    sum_vars = var1+var2+var3 #code of the function\n",
    "    ipdb.set_trace()\n",
    "    mean = sum_vars/3 #code of the function\n",
    "    return mean #output"
   ]
  },
  {
   "cell_type": "code",
   "execution_count": null,
   "metadata": {},
   "outputs": [],
   "source": [
    "mean(2, 3, 4)"
   ]
  },
  {
   "cell_type": "markdown",
   "metadata": {},
   "source": [
    "# Common Python Errors"
   ]
  },
  {
   "cell_type": "markdown",
   "metadata": {},
   "source": [
    "What would happen if you tried to divide or multiply one string by another?"
   ]
  },
  {
   "cell_type": "code",
   "execution_count": null,
   "metadata": {
    "tags": []
   },
   "outputs": [],
   "source": [
    "var_A = \"Hello \"\n",
    "var_B = \"World\"\n",
    "print(var_A / var_B)"
   ]
  },
  {
   "cell_type": "markdown",
   "metadata": {},
   "source": [
    "You would get an error. Python only allows you to add strings together but you cannot subtract them, divide them or multiply each other in the same way that you do with numbers. \n",
    "Similarly, you cannot add a string and a number together"
   ]
  },
  {
   "cell_type": "code",
   "execution_count": null,
   "metadata": {
    "tags": []
   },
   "outputs": [],
   "source": [
    "\"hello\" + 4"
   ]
  },
  {
   "cell_type": "markdown",
   "metadata": {},
   "source": [
    "Or divide a number by zero"
   ]
  },
  {
   "cell_type": "code",
   "execution_count": null,
   "metadata": {
    "tags": []
   },
   "outputs": [],
   "source": [
    "100 / 0"
   ]
  },
  {
   "cell_type": "markdown",
   "metadata": {},
   "source": [
    "It is also important to notice that numbers can be stored as strings, as well as integers and floats, which can create problems in the downstream analysis. Try to check what `var1` and `var2` look like by printing them in the notebook."
   ]
  },
  {
   "cell_type": "code",
   "execution_count": null,
   "metadata": {},
   "outputs": [
    {
     "name": "stdout",
     "output_type": "stream",
     "text": [
      "60 60\n"
     ]
    }
   ],
   "source": [
    "var1 = \"60\"\n",
    "var2 = 60\n",
    "print(var1, var2)"
   ]
  },
  {
   "cell_type": "markdown",
   "metadata": {},
   "source": [
    "As you can see, both `var1` and `var2` look exactly the same, but if you check the type of the variable with the function `type`, you will notice that the variable type is different, with `var1` being a string and `var2` being an integer. It is important to always double check the type of variables."
   ]
  },
  {
   "cell_type": "code",
   "execution_count": null,
   "metadata": {},
   "outputs": [
    {
     "name": "stdout",
     "output_type": "stream",
     "text": [
      "var1 is: <class 'str'>\n",
      "var2 is: <class 'int'>\n"
     ]
    }
   ],
   "source": [
    "print(\"var1 is:\", type(var1))\n",
    "print(\"var2 is:\", type(var2))"
   ]
  },
  {
   "cell_type": "markdown",
   "metadata": {},
   "source": [
    "One of the reasons why this is problematic is because in Python two numbers cannot be added together if their data types are different (e.g. one is a string and the other is integer)"
   ]
  },
  {
   "cell_type": "code",
   "execution_count": null,
   "metadata": {},
   "outputs": [],
   "source": [
    "5 + \"5\"\n",
    "\n",
    "#Python cannot recognise that they are both numbers and will assume that you are trying to add together a string and a number\n",
    "#Thus it will throw an error\n",
    "\n",
    "\"True\" + True # Similar concept here but the addition is between a string and a boolean value"
   ]
  },
  {
   "cell_type": "markdown",
   "metadata": {},
   "source": [
    "As you progress through the course, you will encounter many different coding errors. Another way to find what is causing the error is to pay attention to the type of error that Python is outputting. \n",
    "In general, there are 4 main types of coding errors: `type error`, `syntax error`, `name error` and `logic error` .\n",
    "The first error can be seen in the code above where we tried to add 5 + \"5\" together. `Type error` is short for data type error, which suggests that you may be performing operations using incompatible data types. "
   ]
  },
  {
   "cell_type": "markdown",
   "metadata": {},
   "source": [
    "The second one relates to using incorrect `syntax` in your code. For example, if you try to create a variable and assign it the value 1 via the following method"
   ]
  },
  {
   "cell_type": "code",
   "execution_count": null,
   "metadata": {
    "tags": []
   },
   "outputs": [],
   "source": [
    "variable_1 === 1"
   ]
  },
  {
   "cell_type": "markdown",
   "metadata": {},
   "source": [
    "This code will return an error as that is not the correct syntax for assigning a value to a variable. \n",
    "The third error often occurs when you try to use a variable that was not previously defined, or in other words you try to `name` something that does not exist. "
   ]
  },
  {
   "cell_type": "code",
   "execution_count": null,
   "metadata": {
    "collapsed": true,
    "jupyter": {
     "outputs_hidden": true
    }
   },
   "outputs": [
    {
     "ename": "NameError",
     "evalue": "name 'this_is_a_new_variable' is not defined",
     "output_type": "error",
     "traceback": [
      "\u001b[0;31m---------------------------------------------------------------------------\u001b[0m\n",
      "\n",
      "\u001b[0;31mNameError\u001b[0m                                 Traceback (most recent call last)\n",
      "\n",
      "\u001b[0;32m<ipython-input-29-66c6e90e0e43>\u001b[0m in \u001b[0;36m<module>\u001b[0;34m\u001b[0m\n",
      "\n",
      "\u001b[0;32m----> 1\u001b[0;31m \u001b[0mprint\u001b[0m\u001b[0;34m(\u001b[0m\u001b[0mthis_is_a_new_variable\u001b[0m\u001b[0;34m)\u001b[0m\u001b[0;34m\u001b[0m\u001b[0;34m\u001b[0m\u001b[0m\n",
      "\n",
      "\u001b[0m\n",
      "\n",
      "\u001b[0;31mNameError\u001b[0m: name 'this_is_a_new_variable' is not defined"
     ]
    }
   ],
   "source": [
    "print(this_is_a_new_variable)"
   ]
  },
  {
   "cell_type": "markdown",
   "metadata": {},
   "source": [
    "The above code produces as an error as the variable within the print() statement was not previously given a value, so Python does not know what to print. If we instead used this:"
   ]
  },
  {
   "cell_type": "code",
   "execution_count": null,
   "metadata": {},
   "outputs": [],
   "source": [
    "this_is_a_new_variable = \"I hold information\"\n",
    "print(this_is_a_new_variable)"
   ]
  },
  {
   "cell_type": "markdown",
   "metadata": {},
   "source": [
    "The code will now run succesfully."
   ]
  },
  {
   "cell_type": "markdown",
   "metadata": {},
   "source": [
    "The final type of error, called `logic error` is the most difficult to identify. A logic error occurs when the code or program runs until the end (without any error), but it doesn't do what it is expected to do. This is the hardest error to identify, because it will look like the code has run smoothly. Just to give an example: let's say you want to see what's the result of 3 raised to the second power, but you accidentally forget the second asterisk"
   ]
  },
  {
   "cell_type": "code",
   "execution_count": null,
   "metadata": {},
   "outputs": [
    {
     "name": "stdout",
     "output_type": "stream",
     "text": [
      "9\n",
      "6\n"
     ]
    }
   ],
   "source": [
    "print(3**2)\n",
    "print(3*2)"
   ]
  },
  {
   "cell_type": "markdown",
   "metadata": {},
   "source": [
    "As you can see both lines of code run without error, but only the first gives the result you need. To prevent this error, try to add print statements thoughout your code to be sure that every step is doing exactly what you expect"
   ]
  }
 ],
 "metadata": {
  "kernelspec": {
   "display_name": "Python 3",
   "language": "python",
   "name": "python3"
  },
  "language_info": {
   "codemirror_mode": {
    "name": "ipython",
    "version": 3
   },
   "file_extension": ".py",
   "mimetype": "text/x-python",
   "name": "python",
   "nbconvert_exporter": "python",
   "pygments_lexer": "ipython3",
   "version": "3.8.5"
  },
  "vscode": {
   "interpreter": {
    "hash": "aee8b7b246df8f9039afb4144a1f6fd8d2ca17a180786b69acc140d282b71a49"
   }
  }
 },
 "nbformat": 4,
 "nbformat_minor": 5
}
