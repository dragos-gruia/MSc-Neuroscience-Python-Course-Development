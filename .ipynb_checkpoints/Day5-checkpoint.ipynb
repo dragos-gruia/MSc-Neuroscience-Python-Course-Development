{
 "cells": [
  {
   "cell_type": "markdown",
   "metadata": {},
   "source": [
    "                                                           Notebook created by Dragos Gruia and Valentina Giunchiglia"
   ]
  },
  {
   "cell_type": "markdown",
   "metadata": {},
   "source": [
    "# Introduction to Loops"
   ]
  },
  {
   "cell_type": "code",
   "execution_count": 29,
   "metadata": {},
   "outputs": [],
   "source": [
    "import numpy as np"
   ]
  },
  {
   "cell_type": "markdown",
   "metadata": {},
   "source": [
    "In Python, loops are used to iterate through an `iterable` object and execute the same command for each entry. There are two majlr types of loops:\n",
    "1. `FOR` loops\n",
    "2. `WHILE` loops"
   ]
  },
  {
   "cell_type": "markdown",
   "metadata": {},
   "source": [
    "## FOR loops\n",
    "\n",
    "### Looping over lists\n",
    "\n",
    "The basic structure of for loops is the following:\n",
    "\n",
    "```\n",
    "for element in list:\n",
    "    run some code\n",
    "```"
   ]
  },
  {
   "cell_type": "markdown",
   "metadata": {},
   "source": [
    "If you remember the lecture on lists and arrays, one of the limitations of lists is that you cannot execute basic mathematical operations with them. However, this is possible if you use `for` loops."
   ]
  },
  {
   "cell_type": "code",
   "execution_count": 10,
   "metadata": {},
   "outputs": [],
   "source": [
    "list1 = [1, 3, 8, 9, 3]\n",
    "updates_list = []\n",
    "for number in list1: # For each number in the list\n",
    "    up_num = number + 1 # Add 1 to the number \n",
    "    updates_list.append(up_num) # append the number to the updated list\n",
    "    "
   ]
  },
  {
   "cell_type": "code",
   "execution_count": 8,
   "metadata": {},
   "outputs": [
    {
     "data": {
      "text/plain": [
       "[2, 4, 9, 10, 4]"
      ]
     },
     "execution_count": 8,
     "metadata": {},
     "output_type": "execute_result"
    }
   ],
   "source": [
    "updates_list"
   ]
  },
  {
   "cell_type": "markdown",
   "metadata": {},
   "source": [
    "This is equivalent to creating and array and adding 1."
   ]
  },
  {
   "cell_type": "code",
   "execution_count": 9,
   "metadata": {},
   "outputs": [
    {
     "data": {
      "text/plain": [
       "array([ 2,  4,  9, 10,  4])"
      ]
     },
     "execution_count": 9,
     "metadata": {},
     "output_type": "execute_result"
    }
   ],
   "source": [
    "arr1 = np.array([1, 3, 8, 9, 3])\n",
    "arr1+1"
   ]
  },
  {
   "cell_type": "markdown",
   "metadata": {},
   "source": [
    "### Looping over strings"
   ]
  },
  {
   "cell_type": "markdown",
   "metadata": {},
   "source": [
    "Another option is to loop over a string - in that case each character of the string is treated separately. \n",
    "\n",
    "```\n",
    "for character in string:\n",
    "    run some code\n",
    "```\n",
    "It is also possible to combine `for` and `if` loops."
   ]
  },
  {
   "cell_type": "code",
   "execution_count": 4,
   "metadata": {},
   "outputs": [
    {
     "name": "stdout",
     "output_type": "stream",
     "text": [
      "a is a letter\n",
      "b is a letter\n",
      "c is a letter\n",
      "1 is a number\n",
      "2 is a number\n",
      "3 is a number\n"
     ]
    }
   ],
   "source": [
    "var1 = \"abc123\"\n",
    "for char in var1:\n",
    "    if char.isdigit(): #Checks whether char is a digit (digit = string of numbers)\n",
    "        print(char, \"is a number\")\n",
    "    else:\n",
    "        print(char, \"is a letter\")"
   ]
  },
  {
   "cell_type": "markdown",
   "metadata": {},
   "source": [
    "-----------\n",
    "### Code here\n",
    "\n",
    "Do you remember the function you coded in the previous lecture? Let's try to add another step in which you loop over all the letters of the `sequence` and check whether they are among the valid basis, namely A, U, T, C, and G. If all the letters are among the valid letters, then `print` that the sequence is valid, otherwise `print` that it is invalid. Apply the updated function on multiple versions of `sequence`."
   ]
  },
  {
   "cell_type": "code",
   "execution_count": 1,
   "metadata": {},
   "outputs": [],
   "source": [
    "# Code here\n",
    "\n"
   ]
  },
  {
   "cell_type": "markdown",
   "metadata": {},
   "source": [
    "------------"
   ]
  },
  {
   "cell_type": "markdown",
   "metadata": {},
   "source": [
    "### The RANGE function"
   ]
  },
  {
   "cell_type": "markdown",
   "metadata": {},
   "source": [
    "Apart from looping over lists and strings, it is also possibile to execute the code N times by using the function `range` which returns N numbers from 0 to N. "
   ]
  },
  {
   "cell_type": "code",
   "execution_count": 6,
   "metadata": {},
   "outputs": [
    {
     "name": "stdout",
     "output_type": "stream",
     "text": [
      "2\n",
      "3\n",
      "4\n",
      "5\n",
      "6\n",
      "7\n"
     ]
    }
   ],
   "source": [
    "x = 1\n",
    "for i in range(6): # N = 6\n",
    "    x = x+1\n",
    "    print(x)"
   ]
  },
  {
   "cell_type": "markdown",
   "metadata": {},
   "source": [
    "The ouput of `range` can be also used in the form of an index, to extract elements from lists"
   ]
  },
  {
   "cell_type": "code",
   "execution_count": 9,
   "metadata": {},
   "outputs": [
    {
     "name": "stdout",
     "output_type": "stream",
     "text": [
      "apple\n",
      "sugar\n",
      "water\n",
      "tea\n"
     ]
    }
   ],
   "source": [
    "list1 = [\"apple\", \"sugar\", \"water\", \"tea\"]\n",
    "for i in range(4):\n",
    "    print(list1[i])"
   ]
  },
  {
   "cell_type": "markdown",
   "metadata": {},
   "source": [
    "It is also possible not to start from 0 but to specify from which number to start."
   ]
  },
  {
   "cell_type": "code",
   "execution_count": 22,
   "metadata": {},
   "outputs": [
    {
     "name": "stdout",
     "output_type": "stream",
     "text": [
      "2\n",
      "4\n",
      "6\n",
      "8\n",
      "10\n"
     ]
    }
   ],
   "source": [
    "# Let's print only the even numbers\n",
    "for i in range(1, 12): # N = 6\n",
    "    if i%2 == 0:\n",
    "        print(i)"
   ]
  },
  {
   "cell_type": "markdown",
   "metadata": {},
   "source": [
    "Now try to remove the  `==0`. What happens? Can you explain why you get that output?"
   ]
  },
  {
   "cell_type": "markdown",
   "metadata": {},
   "source": [
    "Finally, it is possible to specify by how much the function has to increment the previous number (the default is an increment of 1). To do this, it is necessary to specify a third argument. This could be used, for example, to print the even number without the need of the conditional statement."
   ]
  },
  {
   "cell_type": "code",
   "execution_count": 23,
   "metadata": {},
   "outputs": [
    {
     "name": "stdout",
     "output_type": "stream",
     "text": [
      "2\n",
      "4\n",
      "6\n",
      "8\n",
      "10\n"
     ]
    }
   ],
   "source": [
    "# Print numbers from 2 to 12 with an increment of 2 - last number is not included\n",
    "for i in range(2, 12, 2): # N = 6\n",
    "    print(i)"
   ]
  },
  {
   "cell_type": "markdown",
   "metadata": {},
   "source": [
    "----------------\n",
    "### Code here\n",
    "\n",
    "Let's try to do an exercise that is a bit more difficult. The aim of the exercise is to calculate the mean of all the odd numbers between 1 and 100 that are multiples of 3.\n",
    "1. Create an empty list called `final_numbers`\n",
    "2. Loop over all the odd numbers between 1 and 100.\n",
    "3. If the numbers are multiples of 3, then append them to the list\n",
    "4. At the end of the loop `print` the mean of the numbers in `final_numbers`"
   ]
  },
  {
   "cell_type": "code",
   "execution_count": 33,
   "metadata": {},
   "outputs": [],
   "source": [
    "# Code here\n",
    "\n",
    "\n"
   ]
  },
  {
   "cell_type": "markdown",
   "metadata": {},
   "source": [
    "---------------"
   ]
  },
  {
   "cell_type": "markdown",
   "metadata": {},
   "source": [
    "### The ENUMERATE function"
   ]
  },
  {
   "cell_type": "markdown",
   "metadata": {},
   "source": [
    "The `enumerate` function is really useful when you want to loop over arrays or lists and return both the elements of the lists and their index. `enumerate` always returns two things: the index and the element of the list in this order."
   ]
  },
  {
   "cell_type": "code",
   "execution_count": 27,
   "metadata": {},
   "outputs": [
    {
     "name": "stdout",
     "output_type": "stream",
     "text": [
      "Hallo is HELLO in German\n",
      "Ciao is HELLO in Italian\n",
      "Hello is HELLO in English\n",
      "Hola is HELLO in Spanish\n"
     ]
    }
   ],
   "source": [
    "hello = [\"Hallo\", \"Ciao\", \"Hello\", \"Hola\"]\n",
    "languages = [\"German\", \"Italian\", \"English\", \"Spanish\"]\n",
    "for i, x in enumerate(hello):\n",
    "    lang = languages[i]\n",
    "    print(x, \"is HELLO in\", lang)\n",
    "    "
   ]
  },
  {
   "cell_type": "markdown",
   "metadata": {},
   "source": [
    "-----------------"
   ]
  },
  {
   "cell_type": "markdown",
   "metadata": {},
   "source": [
    "### Code here\n",
    "\n",
    "We have two lists called `students` and `grades`. The list `students` has the names of 5 students (e.g. Daniel, Danielle, Dragos, Cecilia and Martin) and `grades` has their grades in a math test, respectively 78, 70, 96, 45 and 49. The aim of the exercise is: \n",
    "1. Create a lits with the names of the students that passed the test (grade > 50)\n",
    "2. *BONUS:* try to find out the name of the best student. \n",
    "\n",
    "**IMPORTANT**: to be able to complete the point 2 you need to:\n",
    "- Initialise a variable called `best_score` as 0 and a variable called `index_best` as 0\n",
    "- Update these variables at each iteration of the loop with respectively the grade and the index only if the score is better that the previously saved `best_score`\n",
    "- Use the index in `index_best` to find the name of the student in `students`"
   ]
  },
  {
   "cell_type": "code",
   "execution_count": 38,
   "metadata": {},
   "outputs": [],
   "source": [
    "# Code here\n",
    "\n"
   ]
  },
  {
   "cell_type": "markdown",
   "metadata": {},
   "source": [
    "### CONTINUE and BREAK"
   ]
  },
  {
   "cell_type": "code",
   "execution_count": null,
   "metadata": {},
   "outputs": [],
   "source": [
    "As you may have noticed already"
   ]
  }
 ],
 "metadata": {
  "kernelspec": {
   "display_name": "Python3.7 (project1)",
   "language": "python",
   "name": "python3_project1"
  },
  "language_info": {
   "codemirror_mode": {
    "name": "ipython",
    "version": 3
   },
   "file_extension": ".py",
   "mimetype": "text/x-python",
   "name": "python",
   "nbconvert_exporter": "python",
   "pygments_lexer": "ipython3",
   "version": "3.7.1"
  }
 },
 "nbformat": 4,
 "nbformat_minor": 4
}
