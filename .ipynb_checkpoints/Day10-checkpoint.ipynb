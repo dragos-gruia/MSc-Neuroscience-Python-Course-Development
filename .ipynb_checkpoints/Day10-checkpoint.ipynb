{
 "cells": [
  {
   "cell_type": "markdown",
   "id": "c4f7a241-a41b-444d-9106-b30189ecc3cf",
   "metadata": {},
   "source": [
    "                                                           Notebook created by Dragos Gruia and Valentina Giunchiglia"
   ]
  },
  {
   "cell_type": "markdown",
   "id": "f10222bb-4bcf-4da2-89cb-a8ffb1e0ffec",
   "metadata": {
    "tags": []
   },
   "source": [
    "# Introduction to plotting"
   ]
  },
  {
   "cell_type": "markdown",
   "id": "eada338c-85ea-4e93-98cc-cae09ab3eb3f",
   "metadata": {},
   "source": [
    "The most commonly used `module` to create plots and figures in Python is `matplotlib`. Recently, the module `seaborn` has become always more famous, since it allows to create better looking plots. But for now, we will focus on `matplotlib` due to the higher complexity of `seaborn`. If in the future, you will be interested in learning more about `seaborn`, you can check out the online [tutorials](https://seaborn.pydata.org/tutorial.html)."
   ]
  },
  {
   "cell_type": "code",
   "execution_count": null,
   "id": "a12926f2-8cb0-4b08-b8c1-c6e72ae8ceb1",
   "metadata": {},
   "outputs": [],
   "source": []
  }
 ],
 "metadata": {
  "kernelspec": {
   "display_name": "Python3.9 (PythonTutorial)\n",
   "language": "python",
   "name": "python3_pythontutorial"
  },
  "language_info": {
   "codemirror_mode": {
    "name": "ipython",
    "version": 3
   },
   "file_extension": ".py",
   "mimetype": "text/x-python",
   "name": "python",
   "nbconvert_exporter": "python",
   "pygments_lexer": "ipython3",
   "version": "3.9.13"
  }
 },
 "nbformat": 4,
 "nbformat_minor": 5
}
