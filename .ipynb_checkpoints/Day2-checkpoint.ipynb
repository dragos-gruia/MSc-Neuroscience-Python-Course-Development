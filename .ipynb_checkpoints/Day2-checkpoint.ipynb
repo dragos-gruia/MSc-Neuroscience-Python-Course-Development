{
 "cells": [
  {
   "cell_type": "markdown",
   "metadata": {},
   "source": [
    "                                                                                                            Notebook created by Valentina Giunchiglia and Dragos Gruia"
   ]
  },
  {
   "cell_type": "markdown",
   "metadata": {},
   "source": [
    "# Introduction to Functions"
   ]
  },
  {
   "cell_type": "markdown",
   "metadata": {},
   "source": [
    "A **function** can be defined as a block of code, which is run only when it is called. Functions are commonly used to:\n",
    "1. Avoid repeating code\n",
    "2. Create easy-to-read and easy-to-share code\n",
    "3. Write code that needs to be run multiple times while changing only a couple of parameters\n",
    "\n",
    "Python has some built in functions that can be easily accessed. If you remember from lecture one, `bool` and `type` are just two examples of built in functions. Another common built-in function is  `len`\n",
    "\n"
   ]
  },
  {
   "cell_type": "code",
   "execution_count": 5,
   "metadata": {},
   "outputs": [
    {
     "name": "stdout",
     "output_type": "stream",
     "text": [
      "<class 'str'>\n",
      "5\n"
     ]
    }
   ],
   "source": [
    "var = \"apple\"\n",
    "print(type(var))\n",
    "print(len(var))"
   ]
  },
  {
   "cell_type": "markdown",
   "metadata": {},
   "source": [
    "Apart from built in functions, users can define their own functions, using a specific structure"
   ]
  },
  {
   "cell_type": "code",
   "execution_count": null,
   "metadata": {},
   "outputs": [],
   "source": [
    "def name_function(input1, input2, ..., inputn = 2):\n",
    "    '''\n",
    "    Docstrings that describe the aim of the functions, \n",
    "    its outputs and the input parameters\n",
    "    '''\n",
    "    < code of the function >\n",
    "    return output1, output2, ..., outputN\n",
    "\n",
    "# Call function\n",
    "name_function(input1 = 1, input2 = 4, ..., inputn = 2)"
   ]
  },
  {
   "cell_type": "markdown",
   "metadata": {},
   "source": [
    "As can be observed in the cell above, the structure used to define a function is really specific:\n",
    "1. Define the name of the function and the input arguments. The input arguments can be from one up to N, where N is as many arguments as are needed to be able to properly run the  function.\n",
    "2. The input arguments can have a default value (e.g. `inputn = 2`) or not; input arguments with default values must be defined always **after** the arguments without default values. A default value means that if no alternative value is provided when calling the function, then the default value will be used. If no default value is provided, then the function cannot be called without specifying a value for that specific argument\n",
    "3. Docstrings can be used to describe what a function does and what the input/output parameters are\n",
    "4. Code of the function that tells the function what to do\n",
    "5. `return` statement that specifies what the output of the function is. The return statement is not compulsory - you can have functions that don't necessarily return anything but just compute specific lines of code when being called.\n",
    "6. **IMPORTANT**: as you can notice, everything that is written after `def` is `indented` at the same level of the name of the function. This is the same behaviour we have seen in the previous lecture in case of context managers. The indentation is necessary because it tells Python that everything that is written at that indentation level belongs to the function environment. If you remove the indentation, then you exit the environment of the function.\n",
    "\n",
    "Let's try to define a function that takes the `mean` of three inputs:"
   ]
  },
  {
   "cell_type": "code",
   "execution_count": 2,
   "metadata": {},
   "outputs": [],
   "source": [
    "def mean(var1, var2, var3): #Name of the function\n",
    "    '''\n",
    "    The aim of the function is to calculate the mean\n",
    "    of three given input variables.\n",
    "    Example Parameters:\n",
    "    var1 (int): value 1\n",
    "    var2 (int): value 2\n",
    "    var3 (int): value 3\n",
    "    '''\n",
    "    sum_vars = var1+var2+var3 #code of the function\n",
    "    mean = sum_vars/3 #code of the function\n",
    "    return mean #output"
   ]
  },
  {
   "cell_type": "markdown",
   "metadata": {},
   "source": [
    "Now we can call the function and print the output with the `print` command"
   ]
  },
  {
   "cell_type": "code",
   "execution_count": 35,
   "metadata": {},
   "outputs": [
    {
     "name": "stdout",
     "output_type": "stream",
     "text": [
      "3.3333333333333335\n"
     ]
    }
   ],
   "source": [
    "print(mean(var1 = 3, var2 = 4, var3 = 3))"
   ]
  },
  {
   "cell_type": "markdown",
   "metadata": {},
   "source": [
    "As alternative, the function can be called as follows:"
   ]
  },
  {
   "cell_type": "code",
   "execution_count": 36,
   "metadata": {},
   "outputs": [
    {
     "name": "stdout",
     "output_type": "stream",
     "text": [
      "3.3333333333333335\n"
     ]
    }
   ],
   "source": [
    "print(mean(3, 4, 3))"
   ]
  },
  {
   "cell_type": "markdown",
   "metadata": {},
   "source": [
    "If `var1`, `var2`, and `var3` are not specified, then Python will automatically assume that the values provided when the function is called are in the same positional order of the arguments specified in the definition of the function. In this case, the function will assume that 3 is `var1`, 4 is `var2` and 3 is `var3`."
   ]
  },
  {
   "cell_type": "markdown",
   "metadata": {},
   "source": [
    "As you can see in the definition of `mean`, we create a variable called `sum_vars`. Try to print what is it's value"
   ]
  },
  {
   "cell_type": "code",
   "execution_count": null,
   "metadata": {},
   "outputs": [],
   "source": [
    "print(sum_vars)"
   ]
  },
  {
   "cell_type": "markdown",
   "metadata": {},
   "source": [
    "Python gives you an error and tells you that the variable is not defined. The reason is that all variables you define within a function will be defined only within that specific environment/context. Once you exit the function, the variables are no longer defined, and the only output of the function that is kept is what is returned after the `return` statement."
   ]
  },
  {
   "cell_type": "markdown",
   "metadata": {},
   "source": [
    "An interesting aspect about functions is that you can call them without specifying any value for the arguments as long as all the arguments of the function have a default value. Try to re-define the `mean` function above, assigning `default` values to all the arguments (`var1`, `var2`, and `var3`). Once you have added default values, run the following cell."
   ]
  },
  {
   "cell_type": "code",
   "execution_count": null,
   "metadata": {},
   "outputs": [],
   "source": [
    "mean()"
   ]
  },
  {
   "cell_type": "markdown",
   "metadata": {},
   "source": [
    "--------------"
   ]
  },
  {
   "cell_type": "markdown",
   "metadata": {},
   "source": [
    "### Code here\n",
    "Try to define a function called `diff` that takes an input two arguments called `var1` and `var2` and gives as output the difference between `var2` and `var1`. Their difference should be stored in a variable called `difference`. Once you defined the function, use it to calculate the difference between two values of your choice. Don't forget to document what the function does!"
   ]
  },
  {
   "cell_type": "code",
   "execution_count": null,
   "metadata": {},
   "outputs": [],
   "source": [
    "# CODE HERE\n",
    "\n"
   ]
  },
  {
   "cell_type": "markdown",
   "metadata": {},
   "source": [
    "----------------"
   ]
  },
  {
   "cell_type": "markdown",
   "metadata": {},
   "source": [
    "Writing the docstring is **IMPORTANT**! If you don't write them, it will be difficult for other people, or future you (if you need to re-use your function after a long time) to remember what each function does. Once the docstrings are defined, they can be easily accessed using the command `help`."
   ]
  },
  {
   "cell_type": "code",
   "execution_count": null,
   "metadata": {},
   "outputs": [],
   "source": [
    "help(mean)"
   ]
  },
  {
   "cell_type": "markdown",
   "metadata": {},
   "source": [
    "An alternative to `help` is to just write directly the `?` in front of the name of the function"
   ]
  },
  {
   "cell_type": "code",
   "execution_count": null,
   "metadata": {},
   "outputs": [],
   "source": [
    "?mean"
   ]
  },
  {
   "cell_type": "markdown",
   "metadata": {},
   "source": [
    "Both `help` and `?` can be used for functions defined by the users, as well as built-in function. \n",
    "Try to check how the `diff` function you defined looks like.\n"
   ]
  },
  {
   "cell_type": "markdown",
   "metadata": {},
   "source": [
    "----------------"
   ]
  },
  {
   "cell_type": "markdown",
   "metadata": {},
   "source": [
    "### Code here\n",
    "\n",
    "Let's try to do something a bit more complex. Write a function called `read_sum` that takes as input three arguments: the `name of a file`, and `two integers`. The aim of the function is to calculate the difference between the two integers and then write the result inside a newly created file with the name of the file provided as argument.\n",
    "\n",
    "**IMPORTANT:** the file should be created only if it does NOT already exist\n",
    "\n",
    "**IMPORTANT #2:** the output of the difference is an integer or float, but to write inside a file you need strings..."
   ]
  },
  {
   "cell_type": "code",
   "execution_count": null,
   "metadata": {},
   "outputs": [],
   "source": [
    "# CODE HERE\n",
    "\n"
   ]
  },
  {
   "cell_type": "markdown",
   "metadata": {},
   "source": [
    "------------"
   ]
  }
 ],
 "metadata": {
  "kernelspec": {
   "display_name": "Python 3",
   "language": "python",
   "name": "python3"
  },
  "language_info": {
   "codemirror_mode": {
    "name": "ipython",
    "version": 3
   },
   "file_extension": ".py",
   "mimetype": "text/x-python",
   "name": "python",
   "nbconvert_exporter": "python",
   "pygments_lexer": "ipython3",
   "version": "3.8.5"
  },
  "vscode": {
   "interpreter": {
    "hash": "188d7afd7fc7c22ad8f9a56a388c3e64c4d7fffa0d0524714dee61643eb86a04"
   }
  }
 },
 "nbformat": 4,
 "nbformat_minor": 5
}
