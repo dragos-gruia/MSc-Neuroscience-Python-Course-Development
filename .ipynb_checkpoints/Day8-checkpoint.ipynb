{
 "cells": [
  {
   "cell_type": "markdown",
   "metadata": {},
   "source": [
    "# Introduction to Dataframes"
   ]
  },
  {
   "cell_type": "markdown",
   "metadata": {},
   "source": [
    "In this lecture, we will talk about `dataframes`. `dataframes` are one of the most important data structure in Python, which consists of a two dimensional labelled data structure with columns that can contain variables of potentially different types. It is the standard structure in which you would import most of the data in Python. To work with dataframes, it is necessary to import a new module which is called `pandas`."
   ]
  },
  {
   "cell_type": "code",
   "execution_count": 2,
   "metadata": {},
   "outputs": [],
   "source": [
    "import pandas as pd"
   ]
  },
  {
   "cell_type": "markdown",
   "metadata": {},
   "source": [
    "There are multiple ways to create dataframes. The standard approach is either with the function `pd.DataFrame` or to import `csv` files directly in the format of a dataframe.\n",
    "\n",
    "A standard input of `pd.DataFrame` is a dictionary that specifies the name of the columns as `keys` and the values that belong to each column as `list`, where the length of the each list corresponds to the numer of rows. All columns in a dataframe must have the same number of rows, so if you pass two lists with two different lengths then Python will return an error."
   ]
  },
  {
   "cell_type": "code",
   "execution_count": 10,
   "metadata": {},
   "outputs": [
    {
     "data": {
      "text/html": [
       "<div>\n",
       "<style scoped>\n",
       "    .dataframe tbody tr th:only-of-type {\n",
       "        vertical-align: middle;\n",
       "    }\n",
       "\n",
       "    .dataframe tbody tr th {\n",
       "        vertical-align: top;\n",
       "    }\n",
       "\n",
       "    .dataframe thead th {\n",
       "        text-align: right;\n",
       "    }\n",
       "</style>\n",
       "<table border=\"1\" class=\"dataframe\">\n",
       "  <thead>\n",
       "    <tr style=\"text-align: right;\">\n",
       "      <th></th>\n",
       "      <th>names</th>\n",
       "      <th>Grades</th>\n",
       "    </tr>\n",
       "  </thead>\n",
       "  <tbody>\n",
       "    <tr>\n",
       "      <th>0</th>\n",
       "      <td>Luke</td>\n",
       "      <td>56</td>\n",
       "    </tr>\n",
       "    <tr>\n",
       "      <th>1</th>\n",
       "      <td>Sara</td>\n",
       "      <td>78</td>\n",
       "    </tr>\n",
       "    <tr>\n",
       "      <th>2</th>\n",
       "      <td>Lucia</td>\n",
       "      <td>92</td>\n",
       "    </tr>\n",
       "  </tbody>\n",
       "</table>\n",
       "</div>"
      ],
      "text/plain": [
       "   names  Grades\n",
       "0   Luke      56\n",
       "1   Sara      78\n",
       "2  Lucia      92"
      ]
     },
     "execution_count": 10,
     "metadata": {},
     "output_type": "execute_result"
    }
   ],
   "source": [
    "dict_df = {\"names\": [\"Luke\", \"Sara\", \"Lucia\"], \"Grades\" : [56, 78, 92]}\n",
    "df = pd.DataFrame(dict_df)\n",
    "df"
   ]
  },
  {
   "cell_type": "markdown",
   "metadata": {},
   "source": [
    "As you can see, you now have a table (e.g. dataframe) with two columns and three rows. Dataframes, however, can have not only column headers but also row names. To add row names when creating a dataframe is possible to pass the argument `index`."
   ]
  },
  {
   "cell_type": "code",
   "execution_count": 53,
   "metadata": {},
   "outputs": [
    {
     "data": {
      "text/html": [
       "<div>\n",
       "<style scoped>\n",
       "    .dataframe tbody tr th:only-of-type {\n",
       "        vertical-align: middle;\n",
       "    }\n",
       "\n",
       "    .dataframe tbody tr th {\n",
       "        vertical-align: top;\n",
       "    }\n",
       "\n",
       "    .dataframe thead th {\n",
       "        text-align: right;\n",
       "    }\n",
       "</style>\n",
       "<table border=\"1\" class=\"dataframe\">\n",
       "  <thead>\n",
       "    <tr style=\"text-align: right;\">\n",
       "      <th></th>\n",
       "      <th>names</th>\n",
       "      <th>Grades</th>\n",
       "      <th>results</th>\n",
       "    </tr>\n",
       "  </thead>\n",
       "  <tbody>\n",
       "    <tr>\n",
       "      <th>row1</th>\n",
       "      <td>Luke</td>\n",
       "      <td>48</td>\n",
       "      <td>fail</td>\n",
       "    </tr>\n",
       "    <tr>\n",
       "      <th>row2</th>\n",
       "      <td>Sara</td>\n",
       "      <td>78</td>\n",
       "      <td>pass</td>\n",
       "    </tr>\n",
       "    <tr>\n",
       "      <th>row3</th>\n",
       "      <td>Lucia</td>\n",
       "      <td>92</td>\n",
       "      <td>pass</td>\n",
       "    </tr>\n",
       "  </tbody>\n",
       "</table>\n",
       "</div>"
      ],
      "text/plain": [
       "      names  Grades results\n",
       "row1   Luke      48    fail\n",
       "row2   Sara      78    pass\n",
       "row3  Lucia      92    pass"
      ]
     },
     "execution_count": 53,
     "metadata": {},
     "output_type": "execute_result"
    }
   ],
   "source": [
    "dict_df = {\"names\": [\"Luke\", \"Sara\", \"Lucia\"], \"Grades\" : [48, 78, 92], \"results\": [\"fail\", \"pass\", \"pass\"]}\n",
    "df = pd.DataFrame(dict_df, index = [\"row1\", \"row2\", \"row3\"])\n",
    "df"
   ]
  },
  {
   "cell_type": "markdown",
   "metadata": {},
   "source": [
    "Of course, there is also the possibility to change the column and row names once the dataframe was already created."
   ]
  },
  {
   "cell_type": "code",
   "execution_count": 54,
   "metadata": {},
   "outputs": [
    {
     "data": {
      "text/html": [
       "<div>\n",
       "<style scoped>\n",
       "    .dataframe tbody tr th:only-of-type {\n",
       "        vertical-align: middle;\n",
       "    }\n",
       "\n",
       "    .dataframe tbody tr th {\n",
       "        vertical-align: top;\n",
       "    }\n",
       "\n",
       "    .dataframe thead th {\n",
       "        text-align: right;\n",
       "    }\n",
       "</style>\n",
       "<table border=\"1\" class=\"dataframe\">\n",
       "  <thead>\n",
       "    <tr style=\"text-align: right;\">\n",
       "      <th></th>\n",
       "      <th>First_Names</th>\n",
       "      <th>Math_Grades</th>\n",
       "      <th>Final_results</th>\n",
       "    </tr>\n",
       "  </thead>\n",
       "  <tbody>\n",
       "    <tr>\n",
       "      <th>person1</th>\n",
       "      <td>Luke</td>\n",
       "      <td>48</td>\n",
       "      <td>fail</td>\n",
       "    </tr>\n",
       "    <tr>\n",
       "      <th>person2</th>\n",
       "      <td>Sara</td>\n",
       "      <td>78</td>\n",
       "      <td>pass</td>\n",
       "    </tr>\n",
       "    <tr>\n",
       "      <th>person3</th>\n",
       "      <td>Lucia</td>\n",
       "      <td>92</td>\n",
       "      <td>pass</td>\n",
       "    </tr>\n",
       "  </tbody>\n",
       "</table>\n",
       "</div>"
      ],
      "text/plain": [
       "        First_Names  Math_Grades Final_results\n",
       "person1        Luke           48          fail\n",
       "person2        Sara           78          pass\n",
       "person3       Lucia           92          pass"
      ]
     },
     "execution_count": 54,
     "metadata": {},
     "output_type": "execute_result"
    }
   ],
   "source": [
    "df.columns = [\"First_Names\", \"Math_Grades\", \"Final_results\"]\n",
    "df.index = [\"person1\", \"person2\", \"person3\"]\n",
    "df"
   ]
  },
  {
   "cell_type": "markdown",
   "metadata": {},
   "source": [
    "The same commands can be used to check the columns and row names"
   ]
  },
  {
   "cell_type": "code",
   "execution_count": 55,
   "metadata": {},
   "outputs": [
    {
     "name": "stdout",
     "output_type": "stream",
     "text": [
      "Index(['First_Names', 'Math_Grades', 'Final_results'], dtype='object')\n",
      "Index(['person1', 'person2', 'person3'], dtype='object')\n"
     ]
    }
   ],
   "source": [
    "print(df.columns)\n",
    "print(df.index)"
   ]
  },
  {
   "cell_type": "markdown",
   "metadata": {},
   "source": [
    "If you want to change the column names of only one (or a subset of colums), then a more complex command is required, which is `rename`. `rename` takes as input an argument columns that is a dictionary whose keys are the old column names and values are the new column names."
   ]
  },
  {
   "cell_type": "code",
   "execution_count": 56,
   "metadata": {},
   "outputs": [
    {
     "data": {
      "text/html": [
       "<div>\n",
       "<style scoped>\n",
       "    .dataframe tbody tr th:only-of-type {\n",
       "        vertical-align: middle;\n",
       "    }\n",
       "\n",
       "    .dataframe tbody tr th {\n",
       "        vertical-align: top;\n",
       "    }\n",
       "\n",
       "    .dataframe thead th {\n",
       "        text-align: right;\n",
       "    }\n",
       "</style>\n",
       "<table border=\"1\" class=\"dataframe\">\n",
       "  <thead>\n",
       "    <tr style=\"text-align: right;\">\n",
       "      <th></th>\n",
       "      <th>name</th>\n",
       "      <th>Math_Grades</th>\n",
       "      <th>Final_results</th>\n",
       "    </tr>\n",
       "  </thead>\n",
       "  <tbody>\n",
       "    <tr>\n",
       "      <th>person1</th>\n",
       "      <td>Luke</td>\n",
       "      <td>48</td>\n",
       "      <td>fail</td>\n",
       "    </tr>\n",
       "    <tr>\n",
       "      <th>person2</th>\n",
       "      <td>Sara</td>\n",
       "      <td>78</td>\n",
       "      <td>pass</td>\n",
       "    </tr>\n",
       "    <tr>\n",
       "      <th>person3</th>\n",
       "      <td>Lucia</td>\n",
       "      <td>92</td>\n",
       "      <td>pass</td>\n",
       "    </tr>\n",
       "  </tbody>\n",
       "</table>\n",
       "</div>"
      ],
      "text/plain": [
       "          name  Math_Grades Final_results\n",
       "person1   Luke           48          fail\n",
       "person2   Sara           78          pass\n",
       "person3  Lucia           92          pass"
      ]
     },
     "execution_count": 56,
     "metadata": {},
     "output_type": "execute_result"
    }
   ],
   "source": [
    "df.rename(columns = {\"First_Names\": \"name\"}, inplace = True)\n",
    "df"
   ]
  },
  {
   "cell_type": "markdown",
   "metadata": {},
   "source": [
    "If the  `inplace ` argument is not specified, then the output should be assigned to a new variable."
   ]
  },
  {
   "cell_type": "code",
   "execution_count": 57,
   "metadata": {},
   "outputs": [
    {
     "data": {
      "text/html": [
       "<div>\n",
       "<style scoped>\n",
       "    .dataframe tbody tr th:only-of-type {\n",
       "        vertical-align: middle;\n",
       "    }\n",
       "\n",
       "    .dataframe tbody tr th {\n",
       "        vertical-align: top;\n",
       "    }\n",
       "\n",
       "    .dataframe thead th {\n",
       "        text-align: right;\n",
       "    }\n",
       "</style>\n",
       "<table border=\"1\" class=\"dataframe\">\n",
       "  <thead>\n",
       "    <tr style=\"text-align: right;\">\n",
       "      <th></th>\n",
       "      <th>name</th>\n",
       "      <th>Math_Grades</th>\n",
       "      <th>Final_results</th>\n",
       "    </tr>\n",
       "  </thead>\n",
       "  <tbody>\n",
       "    <tr>\n",
       "      <th>person1</th>\n",
       "      <td>Luke</td>\n",
       "      <td>48</td>\n",
       "      <td>fail</td>\n",
       "    </tr>\n",
       "    <tr>\n",
       "      <th>person2</th>\n",
       "      <td>Sara</td>\n",
       "      <td>78</td>\n",
       "      <td>pass</td>\n",
       "    </tr>\n",
       "    <tr>\n",
       "      <th>person3</th>\n",
       "      <td>Lucia</td>\n",
       "      <td>92</td>\n",
       "      <td>pass</td>\n",
       "    </tr>\n",
       "  </tbody>\n",
       "</table>\n",
       "</div>"
      ],
      "text/plain": [
       "          name  Math_Grades Final_results\n",
       "person1   Luke           48          fail\n",
       "person2   Sara           78          pass\n",
       "person3  Lucia           92          pass"
      ]
     },
     "execution_count": 57,
     "metadata": {},
     "output_type": "execute_result"
    }
   ],
   "source": [
    "dfnew = df.rename(columns = {\"First_Names\": \"name\"})\n",
    "dfnew"
   ]
  },
  {
   "cell_type": "markdown",
   "metadata": {},
   "source": [
    "As alternative, it is possible to directly import data in Python in form of dataframes with the function `pd.read_csv`. We selected for you a publicly available dataset that contains information about some of the most played songs in Spotify. During this lecture, you will be required to work with this data during the small exercises, and as part of the theoretical part of the lecture."
   ]
  },
  {
   "cell_type": "code",
   "execution_count": 5,
   "metadata": {},
   "outputs": [
    {
     "data": {
      "text/html": [
       "<div>\n",
       "<style scoped>\n",
       "    .dataframe tbody tr th:only-of-type {\n",
       "        vertical-align: middle;\n",
       "    }\n",
       "\n",
       "    .dataframe tbody tr th {\n",
       "        vertical-align: top;\n",
       "    }\n",
       "\n",
       "    .dataframe thead th {\n",
       "        text-align: right;\n",
       "    }\n",
       "</style>\n",
       "<table border=\"1\" class=\"dataframe\">\n",
       "  <thead>\n",
       "    <tr style=\"text-align: right;\">\n",
       "      <th></th>\n",
       "      <th>id</th>\n",
       "      <th>danceability</th>\n",
       "      <th>energy</th>\n",
       "      <th>loudness</th>\n",
       "      <th>speechiness</th>\n",
       "      <th>duration_ms</th>\n",
       "      <th>acousticness</th>\n",
       "      <th>instrumentalness</th>\n",
       "      <th>liveness</th>\n",
       "      <th>valence</th>\n",
       "      <th>genre</th>\n",
       "      <th>song_name</th>\n",
       "    </tr>\n",
       "  </thead>\n",
       "  <tbody>\n",
       "    <tr>\n",
       "      <th>0</th>\n",
       "      <td>2Vc6NJ9PW9gD9q343XFRKx</td>\n",
       "      <td>0.831</td>\n",
       "      <td>0.814</td>\n",
       "      <td>-7.364</td>\n",
       "      <td>0.4200</td>\n",
       "      <td>124539</td>\n",
       "      <td>0.05980</td>\n",
       "      <td>0.013400</td>\n",
       "      <td>0.0556</td>\n",
       "      <td>0.3890</td>\n",
       "      <td>Dark Trap</td>\n",
       "      <td>Mercury: Retrograde</td>\n",
       "    </tr>\n",
       "    <tr>\n",
       "      <th>1</th>\n",
       "      <td>7pgJBLVz5VmnL7uGHmRj6p</td>\n",
       "      <td>0.719</td>\n",
       "      <td>0.493</td>\n",
       "      <td>-7.230</td>\n",
       "      <td>0.0794</td>\n",
       "      <td>224427</td>\n",
       "      <td>0.40100</td>\n",
       "      <td>0.000000</td>\n",
       "      <td>0.1180</td>\n",
       "      <td>0.1240</td>\n",
       "      <td>Dark Trap</td>\n",
       "      <td>Pathology</td>\n",
       "    </tr>\n",
       "    <tr>\n",
       "      <th>2</th>\n",
       "      <td>0vSWgAlfpye0WCGeNmuNhy</td>\n",
       "      <td>0.850</td>\n",
       "      <td>0.893</td>\n",
       "      <td>-4.783</td>\n",
       "      <td>0.0623</td>\n",
       "      <td>98821</td>\n",
       "      <td>0.01380</td>\n",
       "      <td>0.000004</td>\n",
       "      <td>0.3720</td>\n",
       "      <td>0.0391</td>\n",
       "      <td>Dark Trap</td>\n",
       "      <td>Symbiote</td>\n",
       "    </tr>\n",
       "    <tr>\n",
       "      <th>3</th>\n",
       "      <td>0VSXnJqQkwuH2ei1nOQ1nu</td>\n",
       "      <td>0.476</td>\n",
       "      <td>0.781</td>\n",
       "      <td>-4.710</td>\n",
       "      <td>0.1030</td>\n",
       "      <td>123661</td>\n",
       "      <td>0.02370</td>\n",
       "      <td>0.000000</td>\n",
       "      <td>0.1140</td>\n",
       "      <td>0.1750</td>\n",
       "      <td>Dark Trap</td>\n",
       "      <td>ProductOfDrugs (Prod. The Virus and Antidote)</td>\n",
       "    </tr>\n",
       "    <tr>\n",
       "      <th>4</th>\n",
       "      <td>4jCeguq9rMTlbMmPHuO7S3</td>\n",
       "      <td>0.798</td>\n",
       "      <td>0.624</td>\n",
       "      <td>-7.668</td>\n",
       "      <td>0.2930</td>\n",
       "      <td>123298</td>\n",
       "      <td>0.21700</td>\n",
       "      <td>0.000000</td>\n",
       "      <td>0.1660</td>\n",
       "      <td>0.5910</td>\n",
       "      <td>Dark Trap</td>\n",
       "      <td>Venom</td>\n",
       "    </tr>\n",
       "    <tr>\n",
       "      <th>...</th>\n",
       "      <td>...</td>\n",
       "      <td>...</td>\n",
       "      <td>...</td>\n",
       "      <td>...</td>\n",
       "      <td>...</td>\n",
       "      <td>...</td>\n",
       "      <td>...</td>\n",
       "      <td>...</td>\n",
       "      <td>...</td>\n",
       "      <td>...</td>\n",
       "      <td>...</td>\n",
       "      <td>...</td>\n",
       "    </tr>\n",
       "    <tr>\n",
       "      <th>21514</th>\n",
       "      <td>4YuGxSdxyL6fRD7uchn9dI</td>\n",
       "      <td>0.538</td>\n",
       "      <td>0.819</td>\n",
       "      <td>-6.780</td>\n",
       "      <td>0.4670</td>\n",
       "      <td>209582</td>\n",
       "      <td>0.00854</td>\n",
       "      <td>0.000000</td>\n",
       "      <td>0.1310</td>\n",
       "      <td>0.2520</td>\n",
       "      <td>Hiphop</td>\n",
       "      <td>Daddy's Girl</td>\n",
       "    </tr>\n",
       "    <tr>\n",
       "      <th>21515</th>\n",
       "      <td>034dSXepspHaYFW7rZZx1d</td>\n",
       "      <td>0.415</td>\n",
       "      <td>0.548</td>\n",
       "      <td>-8.563</td>\n",
       "      <td>0.2850</td>\n",
       "      <td>213898</td>\n",
       "      <td>0.22400</td>\n",
       "      <td>0.000000</td>\n",
       "      <td>0.1220</td>\n",
       "      <td>0.5280</td>\n",
       "      <td>Hiphop</td>\n",
       "      <td>'94</td>\n",
       "    </tr>\n",
       "    <tr>\n",
       "      <th>21516</th>\n",
       "      <td>7oCZpPJcPDZfeIy2t6gqSg</td>\n",
       "      <td>0.785</td>\n",
       "      <td>0.648</td>\n",
       "      <td>-6.907</td>\n",
       "      <td>0.2790</td>\n",
       "      <td>271867</td>\n",
       "      <td>0.01570</td>\n",
       "      <td>0.001980</td>\n",
       "      <td>0.1000</td>\n",
       "      <td>0.5060</td>\n",
       "      <td>Hiphop</td>\n",
       "      <td>Born 2 Live</td>\n",
       "    </tr>\n",
       "    <tr>\n",
       "      <th>21517</th>\n",
       "      <td>2kpwzDrLK5KoIk1S5wftX7</td>\n",
       "      <td>0.747</td>\n",
       "      <td>0.832</td>\n",
       "      <td>-5.737</td>\n",
       "      <td>0.1850</td>\n",
       "      <td>182040</td>\n",
       "      <td>0.23300</td>\n",
       "      <td>0.000014</td>\n",
       "      <td>0.1300</td>\n",
       "      <td>0.7330</td>\n",
       "      <td>Hiphop</td>\n",
       "      <td>Can't Hold On</td>\n",
       "    </tr>\n",
       "    <tr>\n",
       "      <th>21518</th>\n",
       "      <td>503OTo2dSqe7qk76rgsbep</td>\n",
       "      <td>0.816</td>\n",
       "      <td>0.775</td>\n",
       "      <td>-3.323</td>\n",
       "      <td>0.2340</td>\n",
       "      <td>270587</td>\n",
       "      <td>0.16000</td>\n",
       "      <td>0.000310</td>\n",
       "      <td>0.0543</td>\n",
       "      <td>0.5270</td>\n",
       "      <td>Hiphop</td>\n",
       "      <td>Still D.R.E.</td>\n",
       "    </tr>\n",
       "  </tbody>\n",
       "</table>\n",
       "<p>21519 rows × 12 columns</p>\n",
       "</div>"
      ],
      "text/plain": [
       "                           id  danceability  energy  loudness  speechiness  \\\n",
       "0      2Vc6NJ9PW9gD9q343XFRKx         0.831   0.814    -7.364       0.4200   \n",
       "1      7pgJBLVz5VmnL7uGHmRj6p         0.719   0.493    -7.230       0.0794   \n",
       "2      0vSWgAlfpye0WCGeNmuNhy         0.850   0.893    -4.783       0.0623   \n",
       "3      0VSXnJqQkwuH2ei1nOQ1nu         0.476   0.781    -4.710       0.1030   \n",
       "4      4jCeguq9rMTlbMmPHuO7S3         0.798   0.624    -7.668       0.2930   \n",
       "...                       ...           ...     ...       ...          ...   \n",
       "21514  4YuGxSdxyL6fRD7uchn9dI         0.538   0.819    -6.780       0.4670   \n",
       "21515  034dSXepspHaYFW7rZZx1d         0.415   0.548    -8.563       0.2850   \n",
       "21516  7oCZpPJcPDZfeIy2t6gqSg         0.785   0.648    -6.907       0.2790   \n",
       "21517  2kpwzDrLK5KoIk1S5wftX7         0.747   0.832    -5.737       0.1850   \n",
       "21518  503OTo2dSqe7qk76rgsbep         0.816   0.775    -3.323       0.2340   \n",
       "\n",
       "       duration_ms  acousticness  instrumentalness  liveness  valence  \\\n",
       "0           124539       0.05980          0.013400    0.0556   0.3890   \n",
       "1           224427       0.40100          0.000000    0.1180   0.1240   \n",
       "2            98821       0.01380          0.000004    0.3720   0.0391   \n",
       "3           123661       0.02370          0.000000    0.1140   0.1750   \n",
       "4           123298       0.21700          0.000000    0.1660   0.5910   \n",
       "...            ...           ...               ...       ...      ...   \n",
       "21514       209582       0.00854          0.000000    0.1310   0.2520   \n",
       "21515       213898       0.22400          0.000000    0.1220   0.5280   \n",
       "21516       271867       0.01570          0.001980    0.1000   0.5060   \n",
       "21517       182040       0.23300          0.000014    0.1300   0.7330   \n",
       "21518       270587       0.16000          0.000310    0.0543   0.5270   \n",
       "\n",
       "           genre                                      song_name  \n",
       "0      Dark Trap                            Mercury: Retrograde  \n",
       "1      Dark Trap                                      Pathology  \n",
       "2      Dark Trap                                       Symbiote  \n",
       "3      Dark Trap  ProductOfDrugs (Prod. The Virus and Antidote)  \n",
       "4      Dark Trap                                          Venom  \n",
       "...          ...                                            ...  \n",
       "21514     Hiphop                                   Daddy's Girl  \n",
       "21515     Hiphop                                            '94  \n",
       "21516     Hiphop                                    Born 2 Live  \n",
       "21517     Hiphop                                  Can't Hold On  \n",
       "21518     Hiphop                                   Still D.R.E.  \n",
       "\n",
       "[21519 rows x 12 columns]"
      ]
     },
     "execution_count": 5,
     "metadata": {},
     "output_type": "execute_result"
    }
   ],
   "source": [
    "songs = pd.read_csv(\"Data/Day9_data.csv\")\n",
    "songs"
   ]
  },
  {
   "cell_type": "markdown",
   "metadata": {},
   "source": [
    "Since this dataframe is bigger than the previous one, it is not possible to see it fully printed in the notebook. The bigger is the dataframe, the more memory and time is required to visualize. This is why, usually, it is better to just visailize a part of it. This is possible through the methods `head` and `tail`, that return repsectively the beginning and the end of the dataframe."
   ]
  },
  {
   "cell_type": "code",
   "execution_count": 20,
   "metadata": {},
   "outputs": [
    {
     "data": {
      "text/html": [
       "<div>\n",
       "<style scoped>\n",
       "    .dataframe tbody tr th:only-of-type {\n",
       "        vertical-align: middle;\n",
       "    }\n",
       "\n",
       "    .dataframe tbody tr th {\n",
       "        vertical-align: top;\n",
       "    }\n",
       "\n",
       "    .dataframe thead th {\n",
       "        text-align: right;\n",
       "    }\n",
       "</style>\n",
       "<table border=\"1\" class=\"dataframe\">\n",
       "  <thead>\n",
       "    <tr style=\"text-align: right;\">\n",
       "      <th></th>\n",
       "      <th>id</th>\n",
       "      <th>danceability</th>\n",
       "      <th>energy</th>\n",
       "      <th>loudness</th>\n",
       "      <th>speechiness</th>\n",
       "      <th>duration_ms</th>\n",
       "      <th>acousticness</th>\n",
       "      <th>instrumentalness</th>\n",
       "      <th>liveness</th>\n",
       "      <th>valence</th>\n",
       "      <th>genre</th>\n",
       "      <th>song_name</th>\n",
       "    </tr>\n",
       "  </thead>\n",
       "  <tbody>\n",
       "    <tr>\n",
       "      <th>0</th>\n",
       "      <td>2Vc6NJ9PW9gD9q343XFRKx</td>\n",
       "      <td>0.831</td>\n",
       "      <td>0.814</td>\n",
       "      <td>-7.364</td>\n",
       "      <td>0.4200</td>\n",
       "      <td>124539</td>\n",
       "      <td>0.0598</td>\n",
       "      <td>0.013400</td>\n",
       "      <td>0.0556</td>\n",
       "      <td>0.3890</td>\n",
       "      <td>Dark Trap</td>\n",
       "      <td>Mercury: Retrograde</td>\n",
       "    </tr>\n",
       "    <tr>\n",
       "      <th>1</th>\n",
       "      <td>7pgJBLVz5VmnL7uGHmRj6p</td>\n",
       "      <td>0.719</td>\n",
       "      <td>0.493</td>\n",
       "      <td>-7.230</td>\n",
       "      <td>0.0794</td>\n",
       "      <td>224427</td>\n",
       "      <td>0.4010</td>\n",
       "      <td>0.000000</td>\n",
       "      <td>0.1180</td>\n",
       "      <td>0.1240</td>\n",
       "      <td>Dark Trap</td>\n",
       "      <td>Pathology</td>\n",
       "    </tr>\n",
       "    <tr>\n",
       "      <th>2</th>\n",
       "      <td>0vSWgAlfpye0WCGeNmuNhy</td>\n",
       "      <td>0.850</td>\n",
       "      <td>0.893</td>\n",
       "      <td>-4.783</td>\n",
       "      <td>0.0623</td>\n",
       "      <td>98821</td>\n",
       "      <td>0.0138</td>\n",
       "      <td>0.000004</td>\n",
       "      <td>0.3720</td>\n",
       "      <td>0.0391</td>\n",
       "      <td>Dark Trap</td>\n",
       "      <td>Symbiote</td>\n",
       "    </tr>\n",
       "    <tr>\n",
       "      <th>3</th>\n",
       "      <td>0VSXnJqQkwuH2ei1nOQ1nu</td>\n",
       "      <td>0.476</td>\n",
       "      <td>0.781</td>\n",
       "      <td>-4.710</td>\n",
       "      <td>0.1030</td>\n",
       "      <td>123661</td>\n",
       "      <td>0.0237</td>\n",
       "      <td>0.000000</td>\n",
       "      <td>0.1140</td>\n",
       "      <td>0.1750</td>\n",
       "      <td>Dark Trap</td>\n",
       "      <td>ProductOfDrugs (Prod. The Virus and Antidote)</td>\n",
       "    </tr>\n",
       "    <tr>\n",
       "      <th>4</th>\n",
       "      <td>4jCeguq9rMTlbMmPHuO7S3</td>\n",
       "      <td>0.798</td>\n",
       "      <td>0.624</td>\n",
       "      <td>-7.668</td>\n",
       "      <td>0.2930</td>\n",
       "      <td>123298</td>\n",
       "      <td>0.2170</td>\n",
       "      <td>0.000000</td>\n",
       "      <td>0.1660</td>\n",
       "      <td>0.5910</td>\n",
       "      <td>Dark Trap</td>\n",
       "      <td>Venom</td>\n",
       "    </tr>\n",
       "  </tbody>\n",
       "</table>\n",
       "</div>"
      ],
      "text/plain": [
       "                       id  danceability  energy  loudness  speechiness  \\\n",
       "0  2Vc6NJ9PW9gD9q343XFRKx         0.831   0.814    -7.364       0.4200   \n",
       "1  7pgJBLVz5VmnL7uGHmRj6p         0.719   0.493    -7.230       0.0794   \n",
       "2  0vSWgAlfpye0WCGeNmuNhy         0.850   0.893    -4.783       0.0623   \n",
       "3  0VSXnJqQkwuH2ei1nOQ1nu         0.476   0.781    -4.710       0.1030   \n",
       "4  4jCeguq9rMTlbMmPHuO7S3         0.798   0.624    -7.668       0.2930   \n",
       "\n",
       "   duration_ms  acousticness  instrumentalness  liveness  valence      genre  \\\n",
       "0       124539        0.0598          0.013400    0.0556   0.3890  Dark Trap   \n",
       "1       224427        0.4010          0.000000    0.1180   0.1240  Dark Trap   \n",
       "2        98821        0.0138          0.000004    0.3720   0.0391  Dark Trap   \n",
       "3       123661        0.0237          0.000000    0.1140   0.1750  Dark Trap   \n",
       "4       123298        0.2170          0.000000    0.1660   0.5910  Dark Trap   \n",
       "\n",
       "                                       song_name  \n",
       "0                            Mercury: Retrograde  \n",
       "1                                      Pathology  \n",
       "2                                       Symbiote  \n",
       "3  ProductOfDrugs (Prod. The Virus and Antidote)  \n",
       "4                                          Venom  "
      ]
     },
     "execution_count": 20,
     "metadata": {},
     "output_type": "execute_result"
    }
   ],
   "source": [
    "songs.head()"
   ]
  },
  {
   "cell_type": "code",
   "execution_count": 27,
   "metadata": {},
   "outputs": [
    {
     "data": {
      "text/html": [
       "<div>\n",
       "<style scoped>\n",
       "    .dataframe tbody tr th:only-of-type {\n",
       "        vertical-align: middle;\n",
       "    }\n",
       "\n",
       "    .dataframe tbody tr th {\n",
       "        vertical-align: top;\n",
       "    }\n",
       "\n",
       "    .dataframe thead th {\n",
       "        text-align: right;\n",
       "    }\n",
       "</style>\n",
       "<table border=\"1\" class=\"dataframe\">\n",
       "  <thead>\n",
       "    <tr style=\"text-align: right;\">\n",
       "      <th></th>\n",
       "      <th>id</th>\n",
       "      <th>danceability</th>\n",
       "      <th>energy</th>\n",
       "      <th>loudness</th>\n",
       "      <th>speechiness</th>\n",
       "      <th>duration_ms</th>\n",
       "      <th>acousticness</th>\n",
       "      <th>instrumentalness</th>\n",
       "      <th>liveness</th>\n",
       "      <th>valence</th>\n",
       "      <th>genre</th>\n",
       "      <th>song_name</th>\n",
       "    </tr>\n",
       "  </thead>\n",
       "  <tbody>\n",
       "    <tr>\n",
       "      <th>21509</th>\n",
       "      <td>1t2ZxgMhUmOprCILh0UjlX</td>\n",
       "      <td>0.819</td>\n",
       "      <td>0.618</td>\n",
       "      <td>-6.144</td>\n",
       "      <td>0.168</td>\n",
       "      <td>265253</td>\n",
       "      <td>0.46000</td>\n",
       "      <td>0.148000</td>\n",
       "      <td>0.1050</td>\n",
       "      <td>0.851</td>\n",
       "      <td>Hiphop</td>\n",
       "      <td>Life of a Sinner</td>\n",
       "    </tr>\n",
       "    <tr>\n",
       "      <th>21510</th>\n",
       "      <td>5zEoohLO20ofIBg0fzPqhQ</td>\n",
       "      <td>0.812</td>\n",
       "      <td>0.658</td>\n",
       "      <td>-6.834</td>\n",
       "      <td>0.157</td>\n",
       "      <td>217187</td>\n",
       "      <td>0.00607</td>\n",
       "      <td>0.000000</td>\n",
       "      <td>0.1340</td>\n",
       "      <td>0.514</td>\n",
       "      <td>Hiphop</td>\n",
       "      <td>Get $ Paid</td>\n",
       "    </tr>\n",
       "    <tr>\n",
       "      <th>21511</th>\n",
       "      <td>6Nv73zhgxCrWigqzGWCfNA</td>\n",
       "      <td>0.719</td>\n",
       "      <td>0.444</td>\n",
       "      <td>-7.854</td>\n",
       "      <td>0.190</td>\n",
       "      <td>257853</td>\n",
       "      <td>0.05440</td>\n",
       "      <td>0.000000</td>\n",
       "      <td>0.1700</td>\n",
       "      <td>0.724</td>\n",
       "      <td>Hiphop</td>\n",
       "      <td>I'm Sorry Baby (Remix) [feat. Wadz &amp; Talkbox P...</td>\n",
       "    </tr>\n",
       "    <tr>\n",
       "      <th>21512</th>\n",
       "      <td>2ImuQo1g14CTR9hZAZD3aQ</td>\n",
       "      <td>0.804</td>\n",
       "      <td>0.443</td>\n",
       "      <td>-10.268</td>\n",
       "      <td>0.134</td>\n",
       "      <td>203027</td>\n",
       "      <td>0.03120</td>\n",
       "      <td>0.022500</td>\n",
       "      <td>0.1120</td>\n",
       "      <td>0.580</td>\n",
       "      <td>Hiphop</td>\n",
       "      <td>This D.J.</td>\n",
       "    </tr>\n",
       "    <tr>\n",
       "      <th>21513</th>\n",
       "      <td>54v6Kv41W8AKToCb14PmJD</td>\n",
       "      <td>0.526</td>\n",
       "      <td>0.819</td>\n",
       "      <td>-6.728</td>\n",
       "      <td>0.298</td>\n",
       "      <td>281886</td>\n",
       "      <td>0.00206</td>\n",
       "      <td>0.000003</td>\n",
       "      <td>0.3360</td>\n",
       "      <td>0.581</td>\n",
       "      <td>Hiphop</td>\n",
       "      <td>H20 (feat. Pharoahe Monch, Rakaa Iriscience, &amp;...</td>\n",
       "    </tr>\n",
       "    <tr>\n",
       "      <th>21514</th>\n",
       "      <td>4YuGxSdxyL6fRD7uchn9dI</td>\n",
       "      <td>0.538</td>\n",
       "      <td>0.819</td>\n",
       "      <td>-6.780</td>\n",
       "      <td>0.467</td>\n",
       "      <td>209582</td>\n",
       "      <td>0.00854</td>\n",
       "      <td>0.000000</td>\n",
       "      <td>0.1310</td>\n",
       "      <td>0.252</td>\n",
       "      <td>Hiphop</td>\n",
       "      <td>Daddy's Girl</td>\n",
       "    </tr>\n",
       "    <tr>\n",
       "      <th>21515</th>\n",
       "      <td>034dSXepspHaYFW7rZZx1d</td>\n",
       "      <td>0.415</td>\n",
       "      <td>0.548</td>\n",
       "      <td>-8.563</td>\n",
       "      <td>0.285</td>\n",
       "      <td>213898</td>\n",
       "      <td>0.22400</td>\n",
       "      <td>0.000000</td>\n",
       "      <td>0.1220</td>\n",
       "      <td>0.528</td>\n",
       "      <td>Hiphop</td>\n",
       "      <td>'94</td>\n",
       "    </tr>\n",
       "    <tr>\n",
       "      <th>21516</th>\n",
       "      <td>7oCZpPJcPDZfeIy2t6gqSg</td>\n",
       "      <td>0.785</td>\n",
       "      <td>0.648</td>\n",
       "      <td>-6.907</td>\n",
       "      <td>0.279</td>\n",
       "      <td>271867</td>\n",
       "      <td>0.01570</td>\n",
       "      <td>0.001980</td>\n",
       "      <td>0.1000</td>\n",
       "      <td>0.506</td>\n",
       "      <td>Hiphop</td>\n",
       "      <td>Born 2 Live</td>\n",
       "    </tr>\n",
       "    <tr>\n",
       "      <th>21517</th>\n",
       "      <td>2kpwzDrLK5KoIk1S5wftX7</td>\n",
       "      <td>0.747</td>\n",
       "      <td>0.832</td>\n",
       "      <td>-5.737</td>\n",
       "      <td>0.185</td>\n",
       "      <td>182040</td>\n",
       "      <td>0.23300</td>\n",
       "      <td>0.000014</td>\n",
       "      <td>0.1300</td>\n",
       "      <td>0.733</td>\n",
       "      <td>Hiphop</td>\n",
       "      <td>Can't Hold On</td>\n",
       "    </tr>\n",
       "    <tr>\n",
       "      <th>21518</th>\n",
       "      <td>503OTo2dSqe7qk76rgsbep</td>\n",
       "      <td>0.816</td>\n",
       "      <td>0.775</td>\n",
       "      <td>-3.323</td>\n",
       "      <td>0.234</td>\n",
       "      <td>270587</td>\n",
       "      <td>0.16000</td>\n",
       "      <td>0.000310</td>\n",
       "      <td>0.0543</td>\n",
       "      <td>0.527</td>\n",
       "      <td>Hiphop</td>\n",
       "      <td>Still D.R.E.</td>\n",
       "    </tr>\n",
       "  </tbody>\n",
       "</table>\n",
       "</div>"
      ],
      "text/plain": [
       "                           id  danceability  energy  loudness  speechiness  \\\n",
       "21509  1t2ZxgMhUmOprCILh0UjlX         0.819   0.618    -6.144        0.168   \n",
       "21510  5zEoohLO20ofIBg0fzPqhQ         0.812   0.658    -6.834        0.157   \n",
       "21511  6Nv73zhgxCrWigqzGWCfNA         0.719   0.444    -7.854        0.190   \n",
       "21512  2ImuQo1g14CTR9hZAZD3aQ         0.804   0.443   -10.268        0.134   \n",
       "21513  54v6Kv41W8AKToCb14PmJD         0.526   0.819    -6.728        0.298   \n",
       "21514  4YuGxSdxyL6fRD7uchn9dI         0.538   0.819    -6.780        0.467   \n",
       "21515  034dSXepspHaYFW7rZZx1d         0.415   0.548    -8.563        0.285   \n",
       "21516  7oCZpPJcPDZfeIy2t6gqSg         0.785   0.648    -6.907        0.279   \n",
       "21517  2kpwzDrLK5KoIk1S5wftX7         0.747   0.832    -5.737        0.185   \n",
       "21518  503OTo2dSqe7qk76rgsbep         0.816   0.775    -3.323        0.234   \n",
       "\n",
       "       duration_ms  acousticness  instrumentalness  liveness  valence   genre  \\\n",
       "21509       265253       0.46000          0.148000    0.1050    0.851  Hiphop   \n",
       "21510       217187       0.00607          0.000000    0.1340    0.514  Hiphop   \n",
       "21511       257853       0.05440          0.000000    0.1700    0.724  Hiphop   \n",
       "21512       203027       0.03120          0.022500    0.1120    0.580  Hiphop   \n",
       "21513       281886       0.00206          0.000003    0.3360    0.581  Hiphop   \n",
       "21514       209582       0.00854          0.000000    0.1310    0.252  Hiphop   \n",
       "21515       213898       0.22400          0.000000    0.1220    0.528  Hiphop   \n",
       "21516       271867       0.01570          0.001980    0.1000    0.506  Hiphop   \n",
       "21517       182040       0.23300          0.000014    0.1300    0.733  Hiphop   \n",
       "21518       270587       0.16000          0.000310    0.0543    0.527  Hiphop   \n",
       "\n",
       "                                               song_name  \n",
       "21509                                   Life of a Sinner  \n",
       "21510                                         Get $ Paid  \n",
       "21511  I'm Sorry Baby (Remix) [feat. Wadz & Talkbox P...  \n",
       "21512                                          This D.J.  \n",
       "21513  H20 (feat. Pharoahe Monch, Rakaa Iriscience, &...  \n",
       "21514                                       Daddy's Girl  \n",
       "21515                                                '94  \n",
       "21516                                        Born 2 Live  \n",
       "21517                                      Can't Hold On  \n",
       "21518                                       Still D.R.E.  "
      ]
     },
     "execution_count": 27,
     "metadata": {},
     "output_type": "execute_result"
    }
   ],
   "source": [
    "songs.tail(10)"
   ]
  },
  {
   "cell_type": "markdown",
   "metadata": {},
   "source": [
    "As you can see, by specifying a number in the parenthesis, you can decide how many rows of the dataframe are printed. "
   ]
  },
  {
   "cell_type": "markdown",
   "metadata": {},
   "source": [
    "## Get information about your dataframe"
   ]
  },
  {
   "cell_type": "markdown",
   "metadata": {},
   "source": [
    "There are a few useful functions that allow you to understand the characteristics of your dataframe and its columns. The first is `shape` which returns the (number of rows, number of columnss)."
   ]
  },
  {
   "cell_type": "code",
   "execution_count": 58,
   "metadata": {},
   "outputs": [
    {
     "data": {
      "text/plain": [
       "(3, 3)"
      ]
     },
     "execution_count": 58,
     "metadata": {},
     "output_type": "execute_result"
    }
   ],
   "source": [
    "df.shape"
   ]
  },
  {
   "cell_type": "markdown",
   "metadata": {},
   "source": [
    "What if you want to know what is the types of each column? Then you can use wither the function `dtype` or `info`, where the former returns only the type and the latter also other information such as the number of missing values and the memory usage of the dataframe.\n",
    "\n",
    "**IMPORTANT**: in case of dataframes, if the column contains `strings` then the type is `object`"
   ]
  },
  {
   "cell_type": "code",
   "execution_count": 64,
   "metadata": {},
   "outputs": [
    {
     "name": "stdout",
     "output_type": "stream",
     "text": [
      "<class 'pandas.core.frame.DataFrame'>\n",
      "Index: 3 entries, person1 to person3\n",
      "Data columns (total 3 columns):\n",
      " #   Column         Non-Null Count  Dtype \n",
      "---  ------         --------------  ----- \n",
      " 0   name           3 non-null      object\n",
      " 1   Math_Grades    3 non-null      int64 \n",
      " 2   Final_results  3 non-null      object\n",
      "dtypes: int64(1), object(2)\n",
      "memory usage: 96.0+ bytes\n"
     ]
    }
   ],
   "source": [
    "df.info()"
   ]
  },
  {
   "cell_type": "code",
   "execution_count": 60,
   "metadata": {},
   "outputs": [
    {
     "data": {
      "text/plain": [
       "name             object\n",
       "Math_Grades       int64\n",
       "Final_results    object\n",
       "dtype: object"
      ]
     },
     "execution_count": 60,
     "metadata": {},
     "output_type": "execute_result"
    }
   ],
   "source": [
    "df.dtypes"
   ]
  },
  {
   "cell_type": "markdown",
   "metadata": {},
   "source": [
    "Finally, in case of columns with strings values, it is possible to check how many times each string appears in the dataframe, by selecting a specific column and using the function `value_counts`"
   ]
  },
  {
   "cell_type": "code",
   "execution_count": 65,
   "metadata": {},
   "outputs": [
    {
     "data": {
      "text/plain": [
       "pass    2\n",
       "fail    1\n",
       "Name: Final_results, dtype: int64"
      ]
     },
     "execution_count": 65,
     "metadata": {},
     "output_type": "execute_result"
    }
   ],
   "source": [
    "df[\"Final_results\"].value_counts()"
   ]
  },
  {
   "cell_type": "markdown",
   "metadata": {},
   "source": [
    "---------------------\n",
    "\n",
    "### Code here\n",
    "\n",
    "Now that we imported the dataframe, try to:\n",
    "1. Check what are the columns and index available\n",
    "2. Replace the column headers `song_name` and `liveness` with respectively `song` and `live`\n",
    "3. Check the shape of the dataframe to see how many rows and columns there are\n",
    "4. Check the data type of each columns\n",
    "5. Check how many songs there are for each genre"
   ]
  },
  {
   "cell_type": "code",
   "execution_count": 14,
   "metadata": {},
   "outputs": [],
   "source": [
    "# Code here\n",
    "\n"
   ]
  },
  {
   "cell_type": "markdown",
   "metadata": {},
   "source": [
    "## Access and update the data from a dataframe"
   ]
  },
  {
   "cell_type": "markdown",
   "metadata": {},
   "source": [
    "There are multiple ways to access the elements in a dataframe. The first approach allows you to extract a specific column by simply using the column header - this is the same thing we did before when using the function `value_counts`. Interestingly, if you check the type of the column using the function `type`, you will obtain the `series`. `series` are the basic structures of pandas dataframe and each column is a series. \n",
    "\n",
    "**IMPORTANT**: the difference between `dtype` and `type` is that the latter gives you the data type of the column, while the former of the variables in the column."
   ]
  },
  {
   "cell_type": "code",
   "execution_count": 85,
   "metadata": {},
   "outputs": [
    {
     "name": "stdout",
     "output_type": "stream",
     "text": [
      "person1    Dragos\n",
      "person2    Andrea\n",
      "person3      Luke\n",
      "Name: name, dtype: object\n",
      "<class 'pandas.core.series.Series'>\n"
     ]
    }
   ],
   "source": [
    "print(df[\"name\"])\n",
    "print(type(df[\"name\"]))"
   ]
  },
  {
   "cell_type": "markdown",
   "metadata": {},
   "source": [
    "By using this method, it is also possible to modify the values in a specific columns"
   ]
  },
  {
   "cell_type": "code",
   "execution_count": 79,
   "metadata": {},
   "outputs": [
    {
     "data": {
      "text/html": [
       "<div>\n",
       "<style scoped>\n",
       "    .dataframe tbody tr th:only-of-type {\n",
       "        vertical-align: middle;\n",
       "    }\n",
       "\n",
       "    .dataframe tbody tr th {\n",
       "        vertical-align: top;\n",
       "    }\n",
       "\n",
       "    .dataframe thead th {\n",
       "        text-align: right;\n",
       "    }\n",
       "</style>\n",
       "<table border=\"1\" class=\"dataframe\">\n",
       "  <thead>\n",
       "    <tr style=\"text-align: right;\">\n",
       "      <th></th>\n",
       "      <th>name</th>\n",
       "      <th>Math_Grades</th>\n",
       "      <th>Final_results</th>\n",
       "    </tr>\n",
       "  </thead>\n",
       "  <tbody>\n",
       "    <tr>\n",
       "      <th>person1</th>\n",
       "      <td>Dragos</td>\n",
       "      <td>48</td>\n",
       "      <td>fail</td>\n",
       "    </tr>\n",
       "    <tr>\n",
       "      <th>person2</th>\n",
       "      <td>Andrea</td>\n",
       "      <td>78</td>\n",
       "      <td>pass</td>\n",
       "    </tr>\n",
       "    <tr>\n",
       "      <th>person3</th>\n",
       "      <td>Luke</td>\n",
       "      <td>92</td>\n",
       "      <td>pass</td>\n",
       "    </tr>\n",
       "  </tbody>\n",
       "</table>\n",
       "</div>"
      ],
      "text/plain": [
       "           name  Math_Grades Final_results\n",
       "person1  Dragos           48          fail\n",
       "person2  Andrea           78          pass\n",
       "person3    Luke           92          pass"
      ]
     },
     "execution_count": 79,
     "metadata": {},
     "output_type": "execute_result"
    }
   ],
   "source": [
    "df[\"name\"] = [\"Dragos\", \"Andrea\", \"Luke\"]\n",
    "df"
   ]
  },
  {
   "cell_type": "markdown",
   "metadata": {},
   "source": [
    "If you prefer to extract a column but keep the data structure as dataframe, then you need to filter the dataframe using a list."
   ]
  },
  {
   "cell_type": "code",
   "execution_count": 76,
   "metadata": {},
   "outputs": [
    {
     "name": "stdout",
     "output_type": "stream",
     "text": [
      "<class 'pandas.core.frame.DataFrame'>\n"
     ]
    },
    {
     "data": {
      "text/html": [
       "<div>\n",
       "<style scoped>\n",
       "    .dataframe tbody tr th:only-of-type {\n",
       "        vertical-align: middle;\n",
       "    }\n",
       "\n",
       "    .dataframe tbody tr th {\n",
       "        vertical-align: top;\n",
       "    }\n",
       "\n",
       "    .dataframe thead th {\n",
       "        text-align: right;\n",
       "    }\n",
       "</style>\n",
       "<table border=\"1\" class=\"dataframe\">\n",
       "  <thead>\n",
       "    <tr style=\"text-align: right;\">\n",
       "      <th></th>\n",
       "      <th>name</th>\n",
       "    </tr>\n",
       "  </thead>\n",
       "  <tbody>\n",
       "    <tr>\n",
       "      <th>person1</th>\n",
       "      <td>Luke</td>\n",
       "    </tr>\n",
       "    <tr>\n",
       "      <th>person2</th>\n",
       "      <td>Sara</td>\n",
       "    </tr>\n",
       "    <tr>\n",
       "      <th>person3</th>\n",
       "      <td>Lucia</td>\n",
       "    </tr>\n",
       "  </tbody>\n",
       "</table>\n",
       "</div>"
      ],
      "text/plain": [
       "          name\n",
       "person1   Luke\n",
       "person2   Sara\n",
       "person3  Lucia"
      ]
     },
     "execution_count": 76,
     "metadata": {},
     "output_type": "execute_result"
    }
   ],
   "source": [
    "print(type(df[[\"name\"]]))\n",
    "df[[\"name\"]]"
   ]
  },
  {
   "cell_type": "markdown",
   "metadata": {},
   "source": [
    "The good thing about extracting the data using a list is that you can provide the name of as many columns as you want and extract them at once. "
   ]
  },
  {
   "cell_type": "code",
   "execution_count": 68,
   "metadata": {},
   "outputs": [
    {
     "data": {
      "text/html": [
       "<div>\n",
       "<style scoped>\n",
       "    .dataframe tbody tr th:only-of-type {\n",
       "        vertical-align: middle;\n",
       "    }\n",
       "\n",
       "    .dataframe tbody tr th {\n",
       "        vertical-align: top;\n",
       "    }\n",
       "\n",
       "    .dataframe thead th {\n",
       "        text-align: right;\n",
       "    }\n",
       "</style>\n",
       "<table border=\"1\" class=\"dataframe\">\n",
       "  <thead>\n",
       "    <tr style=\"text-align: right;\">\n",
       "      <th></th>\n",
       "      <th>name</th>\n",
       "      <th>Final_results</th>\n",
       "    </tr>\n",
       "  </thead>\n",
       "  <tbody>\n",
       "    <tr>\n",
       "      <th>person1</th>\n",
       "      <td>Luke</td>\n",
       "      <td>fail</td>\n",
       "    </tr>\n",
       "    <tr>\n",
       "      <th>person2</th>\n",
       "      <td>Sara</td>\n",
       "      <td>pass</td>\n",
       "    </tr>\n",
       "    <tr>\n",
       "      <th>person3</th>\n",
       "      <td>Lucia</td>\n",
       "      <td>pass</td>\n",
       "    </tr>\n",
       "  </tbody>\n",
       "</table>\n",
       "</div>"
      ],
      "text/plain": [
       "          name Final_results\n",
       "person1   Luke          fail\n",
       "person2   Sara          pass\n",
       "person3  Lucia          pass"
      ]
     },
     "execution_count": 68,
     "metadata": {},
     "output_type": "execute_result"
    }
   ],
   "source": [
    "df[[\"name\", \"Final_results\"]]"
   ]
  },
  {
   "cell_type": "markdown",
   "metadata": {},
   "source": [
    "Now, what if we want to extract data by **rows**? In this case, you need to use either `iloc` or `loc`. The difference between the two is that:\n",
    "1. loc locates the right row by name\n",
    "2. iloc locates the right row by index\n",
    "\n",
    "**IMPORTANT**: Remember that also in pandas the first row has index 0"
   ]
  },
  {
   "cell_type": "code",
   "execution_count": 84,
   "metadata": {},
   "outputs": [
    {
     "data": {
      "text/plain": [
       "name             Andrea\n",
       "Math_Grades          78\n",
       "Final_results      pass\n",
       "Name: person2, dtype: object"
      ]
     },
     "execution_count": 84,
     "metadata": {},
     "output_type": "execute_result"
    }
   ],
   "source": [
    "df.loc[\"person2\"]"
   ]
  },
  {
   "cell_type": "code",
   "execution_count": 73,
   "metadata": {},
   "outputs": [
    {
     "data": {
      "text/plain": [
       "name             Sara\n",
       "Math_Grades        78\n",
       "Final_results    pass\n",
       "Name: person2, dtype: object"
      ]
     },
     "execution_count": 73,
     "metadata": {},
     "output_type": "execute_result"
    }
   ],
   "source": [
    "df.iloc[1]"
   ]
  },
  {
   "cell_type": "markdown",
   "metadata": {},
   "source": [
    "Both iloc and loc can extract a set (or slice) of rows instead of a unique one. In this sense, they behave similar to lists."
   ]
  },
  {
   "cell_type": "code",
   "execution_count": 83,
   "metadata": {},
   "outputs": [
    {
     "data": {
      "text/html": [
       "<div>\n",
       "<style scoped>\n",
       "    .dataframe tbody tr th:only-of-type {\n",
       "        vertical-align: middle;\n",
       "    }\n",
       "\n",
       "    .dataframe tbody tr th {\n",
       "        vertical-align: top;\n",
       "    }\n",
       "\n",
       "    .dataframe thead th {\n",
       "        text-align: right;\n",
       "    }\n",
       "</style>\n",
       "<table border=\"1\" class=\"dataframe\">\n",
       "  <thead>\n",
       "    <tr style=\"text-align: right;\">\n",
       "      <th></th>\n",
       "      <th>name</th>\n",
       "      <th>Math_Grades</th>\n",
       "      <th>Final_results</th>\n",
       "    </tr>\n",
       "  </thead>\n",
       "  <tbody>\n",
       "    <tr>\n",
       "      <th>person2</th>\n",
       "      <td>Andrea</td>\n",
       "      <td>78</td>\n",
       "      <td>pass</td>\n",
       "    </tr>\n",
       "  </tbody>\n",
       "</table>\n",
       "</div>"
      ],
      "text/plain": [
       "           name  Math_Grades Final_results\n",
       "person2  Andrea           78          pass"
      ]
     },
     "execution_count": 83,
     "metadata": {},
     "output_type": "execute_result"
    }
   ],
   "source": [
    "df.iloc[1:2]"
   ]
  },
  {
   "cell_type": "code",
   "execution_count": 82,
   "metadata": {},
   "outputs": [
    {
     "data": {
      "text/html": [
       "<div>\n",
       "<style scoped>\n",
       "    .dataframe tbody tr th:only-of-type {\n",
       "        vertical-align: middle;\n",
       "    }\n",
       "\n",
       "    .dataframe tbody tr th {\n",
       "        vertical-align: top;\n",
       "    }\n",
       "\n",
       "    .dataframe thead th {\n",
       "        text-align: right;\n",
       "    }\n",
       "</style>\n",
       "<table border=\"1\" class=\"dataframe\">\n",
       "  <thead>\n",
       "    <tr style=\"text-align: right;\">\n",
       "      <th></th>\n",
       "      <th>name</th>\n",
       "      <th>Math_Grades</th>\n",
       "      <th>Final_results</th>\n",
       "    </tr>\n",
       "  </thead>\n",
       "  <tbody>\n",
       "    <tr>\n",
       "      <th>person1</th>\n",
       "      <td>Dragos</td>\n",
       "      <td>48</td>\n",
       "      <td>fail</td>\n",
       "    </tr>\n",
       "    <tr>\n",
       "      <th>person2</th>\n",
       "      <td>Andrea</td>\n",
       "      <td>78</td>\n",
       "      <td>pass</td>\n",
       "    </tr>\n",
       "  </tbody>\n",
       "</table>\n",
       "</div>"
      ],
      "text/plain": [
       "           name  Math_Grades Final_results\n",
       "person1  Dragos           48          fail\n",
       "person2  Andrea           78          pass"
      ]
     },
     "execution_count": 82,
     "metadata": {},
     "output_type": "execute_result"
    }
   ],
   "source": [
    "df.loc[\"person1\":\"person2\"]"
   ]
  },
  {
   "cell_type": "code",
   "execution_count": null,
   "metadata": {},
   "outputs": [],
   "source": [
    "An important difference"
   ]
  },
  {
   "cell_type": "code",
   "execution_count": null,
   "metadata": {},
   "outputs": [],
   "source": [
    "# drop\n",
    "# loc\n",
    "# nrmal columns"
   ]
  },
  {
   "cell_type": "markdown",
   "metadata": {},
   "source": [
    "---------------------\n",
    "\n",
    "### Code here\n",
    "\n",
    "1. Check oh"
   ]
  }
 ],
 "metadata": {
  "kernelspec": {
   "display_name": "Python3.7 (project1)",
   "language": "python",
   "name": "python3_project1"
  },
  "language_info": {
   "codemirror_mode": {
    "name": "ipython",
    "version": 3
   },
   "file_extension": ".py",
   "mimetype": "text/x-python",
   "name": "python",
   "nbconvert_exporter": "python",
   "pygments_lexer": "ipython3",
   "version": "3.7.1"
  }
 },
 "nbformat": 4,
 "nbformat_minor": 4
}
