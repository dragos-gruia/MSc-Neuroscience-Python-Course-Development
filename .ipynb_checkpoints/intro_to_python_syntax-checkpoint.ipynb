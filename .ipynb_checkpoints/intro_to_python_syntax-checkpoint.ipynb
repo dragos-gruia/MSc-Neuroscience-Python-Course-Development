{
 "cells": [
  {
   "cell_type": "markdown",
   "metadata": {},
   "source": [
    "# Introduction to Jupyter Notebook"
   ]
  },
  {
   "cell_type": "markdown",
   "metadata": {},
   "source": [
    "**Jupyter Notebook**\n",
    "\n",
    "- `shift + enter` : run the current cell\n",
    "- command or control + S: save the notebook"
   ]
  },
  {
   "cell_type": "markdown",
   "metadata": {},
   "source": [
    "Jupyter notebooks can be used to code in Python or many other languages. Here, however, we will focus exclusively on how to use python or bash. Bash is the default language of the command line, or terminal, which you used already to install your conda environment and set up the jupyter notebook."
   ]
  },
  {
   "cell_type": "code",
   "execution_count": 52,
   "metadata": {},
   "outputs": [
    {
     "name": "stdout",
     "output_type": "stream",
     "text": [
      "/Users/valentinagiunchiglia/Desktop/MSc-Neuroscience-Python-Course-Development\n"
     ]
    }
   ],
   "source": [
    "! pwd"
   ]
  },
  {
   "cell_type": "markdown",
   "metadata": {},
   "source": [
    "# Introduction to Python Syntax:"
   ]
  },
  {
   "cell_type": "markdown",
   "metadata": {},
   "source": [
    "The first thing we are going to learn in Python is:\n",
    "- How to store data \n",
    "- What different types of data we got out there\n",
    "- How we can manipulate that data to perform various (basic) types of operations\n",
    "- How to work with files"
   ]
  },
  {
   "cell_type": "markdown",
   "metadata": {},
   "source": [
    "`Comments` will be used throughout the tutorial to indicate that we do not want Python to execute a specific line of code.  \n",
    "Other times, a comment may be used to explain what a certain line of code is doing or even on entire blocks of code.\n",
    "You can indicate that a line of code is a comment by adding the `#` sign at the beginning of that line, or you can add `#` in the middle of a line to ignore any text starting from that point."
   ]
  },
  {
   "cell_type": "code",
   "execution_count": 1,
   "metadata": {},
   "outputs": [
    {
     "data": {
      "text/plain": [
       "4"
      ]
     },
     "execution_count": 1,
     "metadata": {},
     "output_type": "execute_result"
    }
   ],
   "source": [
    "# This is a comment\n",
    "2 + 2 # This is another comment"
   ]
  },
  {
   "cell_type": "markdown",
   "metadata": {},
   "source": [
    "## Variables"
   ]
  },
  {
   "cell_type": "markdown",
   "metadata": {},
   "source": [
    "Python and all other programming languages use variables to store data. In Python you use the following syntax `variable_name` = `variable_value`, such that the name of the variable is followed by an equal sign, which is in turn followed by the value we want to assign to it. There are many different types of data:"
   ]
  },
  {
   "cell_type": "code",
   "execution_count": 12,
   "metadata": {},
   "outputs": [],
   "source": [
    "age = 60  # Integer number\n",
    "height = 1.75 # Float number\n",
    "gender = \"Male\" # String\n",
    "pregnant = False # This is not a string, but a special type of data called boolean\n",
    "# Booleans can only take the value True or False."
   ]
  },
  {
   "cell_type": "markdown",
   "metadata": {},
   "source": [
    "It is also possible to assign the same value to multiple variables, which will end up being the same"
   ]
  },
  {
   "cell_type": "code",
   "execution_count": 24,
   "metadata": {},
   "outputs": [],
   "source": [
    "age = 60\n",
    "updated_age = age"
   ]
  },
  {
   "cell_type": "markdown",
   "metadata": {},
   "source": [
    "Once a value is assigned to a variable, it is possible to simply use the variable for the following steps of the analysis. If needed, to visualise what the meaning of each variable is, Python has a very useful feature called `print()`. `print()` can be used to visualise one variable at a time, or multiple variables together. In the latter case, the variables need to be separated by a comma."
   ]
  },
  {
   "cell_type": "code",
   "execution_count": 22,
   "metadata": {},
   "outputs": [
    {
     "name": "stdout",
     "output_type": "stream",
     "text": [
      "Male\n",
      "60 60\n"
     ]
    }
   ],
   "source": [
    "print(gender)\n",
    "print(age, updated_age)"
   ]
  },
  {
   "cell_type": "markdown",
   "metadata": {},
   "source": [
    "As you can see, age and updated_age are exactly the same, as expected. If you end a code chunk with a specific variable, then the print statement is called automatically"
   ]
  },
  {
   "cell_type": "code",
   "execution_count": 23,
   "metadata": {},
   "outputs": [
    {
     "data": {
      "text/plain": [
       "'Male'"
      ]
     },
     "execution_count": 23,
     "metadata": {},
     "output_type": "execute_result"
    }
   ],
   "source": [
    "gender"
   ]
  },
  {
   "cell_type": "markdown",
   "metadata": {},
   "source": [
    "It is important to notice that numbers can be stored as strings, as well as integers and floats, which can create problems in the downstream analysis. Try to check what `var1` and `var2` look like by printing them in the notebook."
   ]
  },
  {
   "cell_type": "code",
   "execution_count": 9,
   "metadata": {},
   "outputs": [
    {
     "name": "stdout",
     "output_type": "stream",
     "text": [
      "60 60\n"
     ]
    }
   ],
   "source": [
    "var1 = \"60\"\n",
    "var2 = 60\n",
    "print(var1, var2)"
   ]
  },
  {
   "cell_type": "markdown",
   "metadata": {},
   "source": [
    "As you can see, both `var1` and `var2` look exactly the same, but if you check the type of the variable with the function `type`, you will notice that the variable type is different, with `var1` being a string and `var2` being an integer. It is important to always double check the type of variables."
   ]
  },
  {
   "cell_type": "code",
   "execution_count": 10,
   "metadata": {},
   "outputs": [
    {
     "name": "stdout",
     "output_type": "stream",
     "text": [
      "var1 is: <class 'str'>\n",
      "var2 is: <class 'int'>\n"
     ]
    }
   ],
   "source": [
    "print(\"var1 is:\", type(var1))\n",
    "print(\"var2 is:\", type(var2))"
   ]
  },
  {
   "cell_type": "markdown",
   "metadata": {},
   "source": [
    "Once you have defined your variables you can perform a wide range of `arithmetic operations` with them. For instance:"
   ]
  },
  {
   "cell_type": "code",
   "execution_count": null,
   "metadata": {},
   "outputs": [],
   "source": [
    "var_A = 5\n",
    "var_B = 10\n",
    "var_A + var_B\n",
    "var_A - var_B\n",
    "var_A / var_B # used for division\n",
    "var_A * var_B # used for multiplication\n",
    "var_A ** var_B # used for exponentiation\n",
    "var_A % var_B # used for modulus (which outputs the remainder of the operation) \n"
   ]
  },
  {
   "cell_type": "markdown",
   "metadata": {},
   "source": [
    "Let's look at the output of one of the previous operations using `print`"
   ]
  },
  {
   "cell_type": "code",
   "execution_count": null,
   "metadata": {},
   "outputs": [],
   "source": [
    "print(var_A)\n",
    "print(var_A ** var_B)"
   ]
  },
  {
   "cell_type": "markdown",
   "metadata": {},
   "source": [
    "Now let's try to use what you have learn above to complete the following exercise."
   ]
  },
  {
   "cell_type": "markdown",
   "metadata": {},
   "source": [
    "-----------------\n",
    "### Code here\n",
    "The current temperature is 27 degrees Celcius. How many degrees are there in Fahrenheit? Store the temperature in celcius as a variable called `celcius`and then use it to obtain the temperature in Fahrenait, which should be stored in a variable called `fahrenheit`. The equation to convert from C to F is: \n",
    "$$ \n",
    "    F^\\circ = C^\\circ \\times 1.8 + 32\n",
    "$$"
   ]
  },
  {
   "cell_type": "code",
   "execution_count": 60,
   "metadata": {},
   "outputs": [],
   "source": [
    "## CODE HERE: \n",
    "\n"
   ]
  },
  {
   "cell_type": "markdown",
   "metadata": {},
   "source": [
    "-------------------"
   ]
  },
  {
   "cell_type": "markdown",
   "metadata": {},
   "source": [
    "You can also use a similar logic to `concatenate strings`"
   ]
  },
  {
   "cell_type": "code",
   "execution_count": null,
   "metadata": {},
   "outputs": [],
   "source": [
    "var_A = \"Hello\"\n",
    "var_B = \"World\"\n",
    "print(var_A + var_B)"
   ]
  },
  {
   "cell_type": "markdown",
   "metadata": {},
   "source": [
    "Note that the result of the print statement came as `HelloWorld`. That is because Python does not add a space between words, unless it is specifically told to do so. So what if we wanted the output to be `Hello World`? \n",
    "We could simply add a space at the end of the first string."
   ]
  },
  {
   "cell_type": "code",
   "execution_count": null,
   "metadata": {},
   "outputs": [],
   "source": []
  },
  {
   "cell_type": "markdown",
   "metadata": {},
   "source": [
    "# Common Python Errors"
   ]
  },
  {
   "cell_type": "markdown",
   "metadata": {},
   "source": [
    "What would happen if you tried to divide or multiply one string by another?"
   ]
  },
  {
   "cell_type": "code",
   "execution_count": 25,
   "metadata": {
    "collapsed": true,
    "jupyter": {
     "outputs_hidden": true
    }
   },
   "outputs": [
    {
     "ename": "TypeError",
     "evalue": "unsupported operand type(s) for /: 'str' and 'str'",
     "output_type": "error",
     "traceback": [
      "\u001b[0;31m---------------------------------------------------------------------------\u001b[0m",
      "\u001b[0;31mTypeError\u001b[0m                                 Traceback (most recent call last)",
      "\u001b[0;32m<ipython-input-25-5dde39ec0968>\u001b[0m in \u001b[0;36m<module>\u001b[0;34m\u001b[0m\n\u001b[1;32m      1\u001b[0m \u001b[0mvar_A\u001b[0m \u001b[0;34m=\u001b[0m \u001b[0;34m\"Hello \"\u001b[0m\u001b[0;34m\u001b[0m\u001b[0;34m\u001b[0m\u001b[0m\n\u001b[1;32m      2\u001b[0m \u001b[0mvar_B\u001b[0m \u001b[0;34m=\u001b[0m \u001b[0;34m\"World\"\u001b[0m\u001b[0;34m\u001b[0m\u001b[0;34m\u001b[0m\u001b[0m\n\u001b[0;32m----> 3\u001b[0;31m \u001b[0mprint\u001b[0m\u001b[0;34m(\u001b[0m\u001b[0mvar_A\u001b[0m \u001b[0;34m/\u001b[0m \u001b[0mvar_B\u001b[0m\u001b[0;34m)\u001b[0m\u001b[0;34m\u001b[0m\u001b[0;34m\u001b[0m\u001b[0m\n\u001b[0m",
      "\u001b[0;31mTypeError\u001b[0m: unsupported operand type(s) for /: 'str' and 'str'"
     ]
    }
   ],
   "source": [
    "var_A = \"Hello \"\n",
    "var_B = \"World\"\n",
    "print(var_A / var_B)"
   ]
  },
  {
   "cell_type": "markdown",
   "metadata": {},
   "source": [
    "You would get an error. Python only allows you to add strings together but you cannot subtract them, divide them or multiply each other in the same way that you do with numbers. \n",
    "Similarly, you cannot add a string and a number together"
   ]
  },
  {
   "cell_type": "code",
   "execution_count": 26,
   "metadata": {
    "collapsed": true,
    "jupyter": {
     "outputs_hidden": true
    }
   },
   "outputs": [
    {
     "ename": "TypeError",
     "evalue": "can only concatenate str (not \"int\") to str",
     "output_type": "error",
     "traceback": [
      "\u001b[0;31m---------------------------------------------------------------------------\u001b[0m",
      "\u001b[0;31mTypeError\u001b[0m                                 Traceback (most recent call last)",
      "\u001b[0;32m<ipython-input-26-562336a19aeb>\u001b[0m in \u001b[0;36m<module>\u001b[0;34m\u001b[0m\n\u001b[0;32m----> 1\u001b[0;31m \u001b[0;34m\"hello\"\u001b[0m \u001b[0;34m+\u001b[0m \u001b[0;36m4\u001b[0m\u001b[0;34m\u001b[0m\u001b[0;34m\u001b[0m\u001b[0m\n\u001b[0m",
      "\u001b[0;31mTypeError\u001b[0m: can only concatenate str (not \"int\") to str"
     ]
    }
   ],
   "source": [
    "\"hello\" + 4"
   ]
  },
  {
   "cell_type": "markdown",
   "metadata": {},
   "source": [
    "Or divide a number by zero"
   ]
  },
  {
   "cell_type": "code",
   "execution_count": 27,
   "metadata": {
    "collapsed": true,
    "jupyter": {
     "outputs_hidden": true
    }
   },
   "outputs": [
    {
     "ename": "ZeroDivisionError",
     "evalue": "division by zero",
     "output_type": "error",
     "traceback": [
      "\u001b[0;31m---------------------------------------------------------------------------\u001b[0m",
      "\u001b[0;31mZeroDivisionError\u001b[0m                         Traceback (most recent call last)",
      "\u001b[0;32m<ipython-input-27-e9e866a10e2a>\u001b[0m in \u001b[0;36m<module>\u001b[0;34m\u001b[0m\n\u001b[0;32m----> 1\u001b[0;31m \u001b[0;36m100\u001b[0m \u001b[0;34m/\u001b[0m \u001b[0;36m0\u001b[0m\u001b[0;34m\u001b[0m\u001b[0;34m\u001b[0m\u001b[0m\n\u001b[0m",
      "\u001b[0;31mZeroDivisionError\u001b[0m: division by zero"
     ]
    }
   ],
   "source": [
    "100 / 0"
   ]
  },
  {
   "cell_type": "markdown",
   "metadata": {},
   "source": [
    "One tricky error is related to data types. Two numbers cannot be added together if their data types are different (e.g. one is a string and the other is integer)"
   ]
  },
  {
   "cell_type": "code",
   "execution_count": null,
   "metadata": {},
   "outputs": [],
   "source": [
    "5 + \"5\"\n",
    "\n",
    "#Python cannot recognise that they are both numbers and will assume that you are trying to add together a string and a number\n",
    "#Thus it will throw an error\n",
    "\n",
    "\"True\" + True # Similar concept here but the addition is between a string and a boolean value"
   ]
  },
  {
   "cell_type": "markdown",
   "metadata": {},
   "source": [
    "As you progress through the course, you will encounter many coding errors. It is a natural part of being a coder. One of the most useful tools you can have is being able to figure out where the errros are coming from and what it is causing them. One way in which you could do that is to pay attention to the type of error that Python is outputting. \n",
    "In general, there are 4 main types of coding errors: `type error`, `syntax error`, `name error` and `logic error` .\n",
    "The first error can be seen in the code above where we tried to add 5 + \"5\" together. `Type error` is short for data type error, which suggests that you may be performing operations using incompatible data types. "
   ]
  },
  {
   "cell_type": "markdown",
   "metadata": {},
   "source": [
    "The second one relates to using incorrect `syntax` in your code. For example, if you try to create a variable and assign it the value 1 via the following method"
   ]
  },
  {
   "cell_type": "code",
   "execution_count": 28,
   "metadata": {
    "collapsed": true,
    "jupyter": {
     "outputs_hidden": true
    }
   },
   "outputs": [
    {
     "ename": "SyntaxError",
     "evalue": "invalid syntax (<ipython-input-28-b3fdbd5ae899>, line 1)",
     "output_type": "error",
     "traceback": [
      "\u001b[0;36m  File \u001b[0;32m\"<ipython-input-28-b3fdbd5ae899>\"\u001b[0;36m, line \u001b[0;32m1\u001b[0m\n\u001b[0;31m    variable_1 === 1\u001b[0m\n\u001b[0m                 ^\u001b[0m\n\u001b[0;31mSyntaxError\u001b[0m\u001b[0;31m:\u001b[0m invalid syntax\n"
     ]
    }
   ],
   "source": [
    "variable_1 === 1"
   ]
  },
  {
   "cell_type": "markdown",
   "metadata": {},
   "source": [
    "This code will return an error as that is not the correct syntax for assigning a value to a variable. \n",
    "The third error often occurs when you try to use a variable that was not previously defined, or in other words you try to `name` something that does not exist. "
   ]
  },
  {
   "cell_type": "code",
   "execution_count": 29,
   "metadata": {
    "collapsed": true,
    "jupyter": {
     "outputs_hidden": true
    }
   },
   "outputs": [
    {
     "ename": "NameError",
     "evalue": "name 'this_is_a_new_variable' is not defined",
     "output_type": "error",
     "traceback": [
      "\u001b[0;31m---------------------------------------------------------------------------\u001b[0m",
      "\u001b[0;31mNameError\u001b[0m                                 Traceback (most recent call last)",
      "\u001b[0;32m<ipython-input-29-66c6e90e0e43>\u001b[0m in \u001b[0;36m<module>\u001b[0;34m\u001b[0m\n\u001b[0;32m----> 1\u001b[0;31m \u001b[0mprint\u001b[0m\u001b[0;34m(\u001b[0m\u001b[0mthis_is_a_new_variable\u001b[0m\u001b[0;34m)\u001b[0m\u001b[0;34m\u001b[0m\u001b[0;34m\u001b[0m\u001b[0m\n\u001b[0m",
      "\u001b[0;31mNameError\u001b[0m: name 'this_is_a_new_variable' is not defined"
     ]
    }
   ],
   "source": [
    "print(this_is_a_new_variable)"
   ]
  },
  {
   "cell_type": "markdown",
   "metadata": {},
   "source": [
    "The above code produces as an error as the variable within the print() statement was not previously given a value, so Python does not know what to print. If we instead used this:"
   ]
  },
  {
   "cell_type": "code",
   "execution_count": null,
   "metadata": {},
   "outputs": [],
   "source": [
    "this_is_a_new_variable = \"I hold information\"\n",
    "print(this_is_a_new_variable)"
   ]
  },
  {
   "cell_type": "markdown",
   "metadata": {},
   "source": [
    "The code will now run succesfully."
   ]
  },
  {
   "cell_type": "markdown",
   "metadata": {},
   "source": [
    "The final type of error, called `logic error` is the most difficult to identify. A logic error occurs when the code or program runs until the end (without any error), but it doesn't do what it is expected to do. This is the hardest error to identify, because it will look like the code has run smoothly. Just to give an example: let's say you want to see what's the result of 3 raised to the second power, but you accidentally forget the second asterisk"
   ]
  },
  {
   "cell_type": "code",
   "execution_count": 31,
   "metadata": {},
   "outputs": [
    {
     "name": "stdout",
     "output_type": "stream",
     "text": [
      "9\n",
      "6\n"
     ]
    }
   ],
   "source": [
    "print(3**2)\n",
    "print(3*2)"
   ]
  },
  {
   "cell_type": "markdown",
   "metadata": {},
   "source": [
    "As you can see both lines of code run without error, but only the first gives the result you need. To prevent this error, try to add print statements thoughout your code to be sure that ever step is doing exactly what you expect"
   ]
  },
  {
   "cell_type": "markdown",
   "metadata": {},
   "source": [
    "# Relational Operators"
   ]
  },
  {
   "cell_type": "markdown",
   "metadata": {},
   "source": [
    "\n",
    "\n",
    "There is a set of 'relational' operators that can be applied to compare numeric variables. If the evaluation is correct, these will output the value `True`, otherwise they will output the value `False`.\n",
    "\n",
    "- `=`: Set value\n",
    "- `==`         Is equal to?\n",
    "- `!=`\t       Is not equal to?\n",
    "- `>`\t       Is greater than?\n",
    "- `<`\t       Is less than?\n",
    "- `>=`\t       Greater than or equal to?\n",
    "- `<=`\t       Less than or equal to?\n",
    "\n",
    "Try applying some of the relational operators. Below are some examples."
   ]
  },
  {
   "cell_type": "code",
   "execution_count": 32,
   "metadata": {},
   "outputs": [
    {
     "name": "stdout",
     "output_type": "stream",
     "text": [
      "True\n",
      "True\n",
      "False\n",
      "True\n"
     ]
    }
   ],
   "source": [
    "print(1 != 2)\n",
    "print(1 <= 2)\n",
    "print(10 > 10)\n",
    "print(4 == 2 * 2)"
   ]
  },
  {
   "cell_type": "markdown",
   "metadata": {},
   "source": [
    "# Logical Operators\n",
    "\n",
    "Logical operators can be used to evaluate conjunctions of other operators. These are the `AND` operator and the `OR` operator.\n",
    "\n",
    "The `AND` operator will only return `True`, if all of the other operators in the command return `True`. For example:"
   ]
  },
  {
   "cell_type": "code",
   "execution_count": 43,
   "metadata": {},
   "outputs": [
    {
     "name": "stdout",
     "output_type": "stream",
     "text": [
      "False True\n",
      "False\n",
      "True True\n",
      "True\n"
     ]
    }
   ],
   "source": [
    "print(1 == 2, 1 == 1)\n",
    "print(1 == 2 and 1 == 1)  #Will output False as the left side operation returned false and the rigt side returned true\n",
    "\n",
    "print(5 == 5 , 10/2 == 5)\n",
    "print(5 == 5 and 10/2 == 5) #will output True as both operations returned true"
   ]
  },
  {
   "cell_type": "markdown",
   "metadata": {},
   "source": [
    "The `OR` operator will return `True` if either or both of the other operators in the command return `True`. "
   ]
  },
  {
   "cell_type": "code",
   "execution_count": 38,
   "metadata": {},
   "outputs": [
    {
     "name": "stdout",
     "output_type": "stream",
     "text": [
      "True False\n",
      "True\n",
      "True False\n",
      "False\n"
     ]
    }
   ],
   "source": [
    "print(1 == 1, 2 == 1)\n",
    "print(1 == 1 or 2 == 1)\n",
    "\n",
    "print(1 == 1, 2 == 1)\n",
    "print(1 == 1 and 2 == 1)\n"
   ]
  },
  {
   "cell_type": "markdown",
   "metadata": {},
   "source": [
    "# Working with files "
   ]
  },
  {
   "cell_type": "markdown",
   "metadata": {},
   "source": [
    "Now that we know how to interact with data, let's see how we can import data from a file. Python has a specific syntax for opening and creating files."
   ]
  },
  {
   "cell_type": "code",
   "execution_count": 48,
   "metadata": {},
   "outputs": [],
   "source": [
    "file = open(\"hello_world.txt\", \"w\")\n",
    "file.write(\"Hello World!\")\n",
    "file.close()"
   ]
  },
  {
   "cell_type": "markdown",
   "metadata": {},
   "source": [
    "To create a new file we have to use the command `open()` with the name of the file in parenthesis as first input and the `w` as second. The `w` means that you are *writing* the file, which implies that if a file with the same name is already there, then it will be simply overwritten. If you want to add another line to the file, then you have to replace `w` with  `a`, which means that you are *appending* new information to the already created file.\n",
    "\n",
    "When writing the file name you can provide either the name of the file, or a path. If you just specify a path, then the file will be saved in the current working directory. If you specify a path, then the file will be created in that specific path. After creating the file, you can write things in it - in this case \"Hello World!\" - using the write function. Once you are done working with the file, you need to close the connection. If `.close()` is not called, then some data might be lost. "
   ]
  },
  {
   "cell_type": "markdown",
   "metadata": {},
   "source": [
    "---------\n",
    "### Code here\n",
    "Now try to create a new file, call it `lecture_one.txt` and write a sentence of what you have learnt so far in this lecture. Remember to close the connection to the file when you are done!"
   ]
  },
  {
   "cell_type": "code",
   "execution_count": 67,
   "metadata": {},
   "outputs": [],
   "source": [
    "# CODE HERE: create a file called lecture_one.txt and write a sentence in the file that summarises what you have learnt so far in this lecture\n",
    "# 1. Open the file\n",
    "# 2. Write sentence in the file\n",
    "# 3. Close the file\n",
    "\n"
   ]
  },
  {
   "cell_type": "markdown",
   "metadata": {},
   "source": [
    "Now, try to add a new line to the file you already created, which specifies the date of today."
   ]
  },
  {
   "cell_type": "code",
   "execution_count": 66,
   "metadata": {},
   "outputs": [],
   "source": [
    "# CODE HERE: \n",
    "# 1. Open the file (with append)\n",
    "# 2. Write the date of today\n",
    "# 3. Close the file\n",
    "\n"
   ]
  },
  {
   "cell_type": "markdown",
   "metadata": {},
   "source": [
    "--------------"
   ]
  },
  {
   "cell_type": "markdown",
   "metadata": {},
   "source": [
    "If you want to import the file you created, you can follow a similar pattern, but this time you would write `r` as second input and not `w`, because you are *reading* the file. If you didn't create the file before, then you will get an error, so be sure to complete the section above! After *reading* the file, you can read it with the `read()` function and save it within the Python environment in a variable of your choice (in this case, the variable is called `file_object`). Once you are done, you have to close the connection with the file as mentioned above"
   ]
  },
  {
   "cell_type": "code",
   "execution_count": 54,
   "metadata": {},
   "outputs": [],
   "source": [
    "file = open(\"lecture_one.txt\", \"r\")\n",
    "file_object = file.read()\n",
    "file.close()"
   ]
  },
  {
   "cell_type": "markdown",
   "metadata": {},
   "source": [
    "The issue of `read()` is that it imports the entire file at once, which can require a lot of memory and overwhelm your computer if the file is big. One alternative is to use `readline()` which loads one line at a time by using what is called an *iterator*. `readline()` is used in the same way as `read()` above. "
   ]
  },
  {
   "cell_type": "code",
   "execution_count": 57,
   "metadata": {
    "collapsed": true,
    "jupyter": {
     "outputs_hidden": true
    }
   },
   "outputs": [
    {
     "ename": "FileNotFoundError",
     "evalue": "[Errno 2] No such file or directory: 'lecture_one.txt'",
     "output_type": "error",
     "traceback": [
      "\u001b[0;31m---------------------------------------------------------------------------\u001b[0m",
      "\u001b[0;31mFileNotFoundError\u001b[0m                         Traceback (most recent call last)",
      "\u001b[0;32m<ipython-input-57-c300052bc5f5>\u001b[0m in \u001b[0;36m<module>\u001b[0;34m\u001b[0m\n\u001b[0;32m----> 1\u001b[0;31m \u001b[0mfile\u001b[0m \u001b[0;34m=\u001b[0m \u001b[0mopen\u001b[0m\u001b[0;34m(\u001b[0m\u001b[0;34m\"lecture_one.txt\"\u001b[0m\u001b[0;34m,\u001b[0m \u001b[0;34m\"r\"\u001b[0m\u001b[0;34m)\u001b[0m\u001b[0;34m\u001b[0m\u001b[0;34m\u001b[0m\u001b[0m\n\u001b[0m\u001b[1;32m      2\u001b[0m \u001b[0mfile_object\u001b[0m \u001b[0;34m=\u001b[0m \u001b[0mfile\u001b[0m\u001b[0;34m.\u001b[0m\u001b[0mreadline\u001b[0m\u001b[0;34m(\u001b[0m\u001b[0;34m)\u001b[0m\u001b[0;34m\u001b[0m\u001b[0;34m\u001b[0m\u001b[0m\n\u001b[1;32m      3\u001b[0m \u001b[0mfile\u001b[0m\u001b[0;34m.\u001b[0m\u001b[0mclose\u001b[0m\u001b[0;34m(\u001b[0m\u001b[0;34m)\u001b[0m\u001b[0;34m\u001b[0m\u001b[0;34m\u001b[0m\u001b[0m\n",
      "\u001b[0;31mFileNotFoundError\u001b[0m: [Errno 2] No such file or directory: 'lecture_one.txt'"
     ]
    }
   ],
   "source": [
    "file = open(\"lecture_one.txt\", \"r\")\n",
    "file_object = file.readline()\n",
    "file.close()"
   ]
  },
  {
   "cell_type": "markdown",
   "metadata": {},
   "source": [
    "As you may have noticed already, you are always required to open and close the file. An better, and preferred, alternative is to use `context managers`.`context managers` are temporary environments where some variable can be used, files can be accessed or, more in general, things behave in a specific way. In this context, they can be used to open the file within the `context manager` and then close it once you are outside of that specfically created environment"
   ]
  },
  {
   "cell_type": "code",
   "execution_count": 63,
   "metadata": {},
   "outputs": [],
   "source": [
    "with open('hello_world.txt', \"w\") as file:\n",
    "    file.write(\"Hello World!\")"
   ]
  },
  {
   "cell_type": "markdown",
   "metadata": {},
   "source": [
    "As you can see, to set up the context manager, in this case you have to combine `with` and `as`. Also notice that we used `line identation` (i.e. adding space via TAB at the beginning of the second line). Identation is very important in Python, and we will discuss this in more detail in the next lesson. For now, all you need to know is that if you want to work with the file you just opened, you need to add identation to each line of code. Once you stop identing your code, Python will assume that you finished working with the file and it will close it, e.g. it will exit the context manager"
   ]
  },
  {
   "cell_type": "markdown",
   "metadata": {},
   "source": [
    "---------\n",
    "### Code here\n",
    "Now try to create the `lecture_one.txt` file as above, but using a context manager. Once you have created the file, try to read it with `read()` or `readline()` and store it in a variable called `lecture_file`"
   ]
  },
  {
   "cell_type": "code",
   "execution_count": null,
   "metadata": {},
   "outputs": [],
   "source": [
    "# CODE HERE\n",
    "\n"
   ]
  },
  {
   "cell_type": "markdown",
   "metadata": {},
   "source": [
    "---------"
   ]
  },
  {
   "cell_type": "markdown",
   "metadata": {},
   "source": [
    "To read the whole file as a string and save it in a variable, you can use the `read()` method:"
   ]
  },
  {
   "cell_type": "code",
   "execution_count": 49,
   "metadata": {},
   "outputs": [],
   "source": [
    "with open('hello_world.txt', \"r\") as file_object:\n",
    "    file_object = file_object.read()"
   ]
  },
  {
   "cell_type": "markdown",
   "metadata": {},
   "source": [
    "To read only the first line of a file, you can use the `readline()` method"
   ]
  },
  {
   "cell_type": "code",
   "execution_count": 56,
   "metadata": {},
   "outputs": [
    {
     "name": "stdout",
     "output_type": "stream",
     "text": [
      "Hello World!\n"
     ]
    }
   ],
   "source": [
    "with open('hello_world.txt') as file_object:\n",
    "    print(file_object.readline())\n",
    "    "
   ]
  },
  {
   "cell_type": "markdown",
   "metadata": {},
   "source": [
    "To `append information` to an existing file, without overwriting what is already there, use the `a` argument instead."
   ]
  },
  {
   "cell_type": "code",
   "execution_count": null,
   "metadata": {},
   "outputs": [],
   "source": [
    "with open('intro_to_python.txt','a') as diary:\n",
    "  diary.write('Learning how to write information to files')"
   ]
  }
 ],
 "metadata": {
  "kernelspec": {
   "display_name": "Python 3",
   "language": "python",
   "name": "python3"
  },
  "language_info": {
   "codemirror_mode": {
    "name": "ipython",
    "version": 3
   },
   "file_extension": ".py",
   "mimetype": "text/x-python",
   "name": "python",
   "nbconvert_exporter": "python",
   "pygments_lexer": "ipython3",
   "version": "3.8.5"
  },
  "vscode": {
   "interpreter": {
    "hash": "188d7afd7fc7c22ad8f9a56a388c3e64c4d7fffa0d0524714dee61643eb86a04"
   }
  }
 },
 "nbformat": 4,
 "nbformat_minor": 5
}
