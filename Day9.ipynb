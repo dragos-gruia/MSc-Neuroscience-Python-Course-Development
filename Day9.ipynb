{
 "cells": [
  {
   "cell_type": "markdown",
   "metadata": {},
   "source": [
    "# Introduction to Summary Statistics and Hypothesis Testing in Python"
   ]
  },
  {
   "cell_type": "markdown",
   "metadata": {},
   "source": [
    "In this section, we will take you through some of the main concepts in statistics. This tutorial should only be taken after the student has completed the theoretical part of the course, as here we will focus on applying those concepts using Python."
   ]
  },
  {
   "cell_type": "markdown",
   "metadata": {},
   "source": [
    "Before analysing any data, it's important to distinguish between the different types of variables that you might come across in your projects.\n",
    "\n",
    "![datatypes.png]  \n",
    "\n",
    "source: https://www.graphpad.com/"
   ]
  },
  {
   "cell_type": "markdown",
   "metadata": {},
   "source": [
    "Generally speaking, we can split variables into two types: numerical or categorical. It is important to consider these distinctions before we analyse our data, as specific statistical tests often do not work on all variable types. In fact, some of the statistical tests assume that you have a certain type of data, so if your data does not meet those assumptions, the results of the statistical tests will not be accurate."
   ]
  },
  {
   "cell_type": "markdown",
   "metadata": {},
   "source": [
    "Thus, one of the first steps in your data analysis should be to look at your variable types and think what analysis would be most appropiate for them. Thankfully Python makes it very easy for us to do this. But first, let's load a dataset. Today's dataset includes 721 Pokemon, including their number, name, first and second type, and basic stats: HP, Attack, Defense, Special Attack, Special Defense, and Speed. Let's see what we can learn about these Pokemon by using statistics!"
   ]
  },
  {
   "cell_type": "code",
   "execution_count": 54,
   "metadata": {},
   "outputs": [],
   "source": [
    "import pandas as pd\n",
    "import statsmodels.api as sm\n",
    "from scipy import stats\n",
    "import numpy as np\n",
    "import os"
   ]
  },
  {
   "cell_type": "code",
   "execution_count": 55,
   "metadata": {},
   "outputs": [],
   "source": [
    "path = os.getcwd() # this gives us the current working directory\n",
    "path = path + '/Data/Pokemon.csv'\n",
    "df = pd.read_csv(path) #Loads our data in a dataframe\n",
    "\n"
   ]
  },
  {
   "cell_type": "markdown",
   "metadata": {},
   "source": [
    "Now that the data is loaded, we can easily inspect our variables using `head()` and `dtypes`. The former function shows you the first 5 rows of your dataframe so you can inspect what it is that they are measuring. The latter shows us the data type of each variable. Note that `dtypes` is not a function because pandas dataframe contain built in information of what variable type, so you just need to access that information."
   ]
  },
  {
   "cell_type": "code",
   "execution_count": 56,
   "metadata": {},
   "outputs": [
    {
     "data": {
      "text/html": [
       "<div>\n",
       "<style scoped>\n",
       "    .dataframe tbody tr th:only-of-type {\n",
       "        vertical-align: middle;\n",
       "    }\n",
       "\n",
       "    .dataframe tbody tr th {\n",
       "        vertical-align: top;\n",
       "    }\n",
       "\n",
       "    .dataframe thead th {\n",
       "        text-align: right;\n",
       "    }\n",
       "</style>\n",
       "<table border=\"1\" class=\"dataframe\">\n",
       "  <thead>\n",
       "    <tr style=\"text-align: right;\">\n",
       "      <th></th>\n",
       "      <th>#</th>\n",
       "      <th>Name</th>\n",
       "      <th>Type 1</th>\n",
       "      <th>Type 2</th>\n",
       "      <th>Total</th>\n",
       "      <th>HP</th>\n",
       "      <th>Attack</th>\n",
       "      <th>Defense</th>\n",
       "      <th>Sp. Atk</th>\n",
       "      <th>Sp. Def</th>\n",
       "      <th>Speed</th>\n",
       "      <th>Generation</th>\n",
       "      <th>Legendary</th>\n",
       "    </tr>\n",
       "  </thead>\n",
       "  <tbody>\n",
       "    <tr>\n",
       "      <th>0</th>\n",
       "      <td>1</td>\n",
       "      <td>Bulbasaur</td>\n",
       "      <td>Grass</td>\n",
       "      <td>Poison</td>\n",
       "      <td>318</td>\n",
       "      <td>45</td>\n",
       "      <td>49</td>\n",
       "      <td>49</td>\n",
       "      <td>65</td>\n",
       "      <td>65</td>\n",
       "      <td>45</td>\n",
       "      <td>1</td>\n",
       "      <td>False</td>\n",
       "    </tr>\n",
       "    <tr>\n",
       "      <th>1</th>\n",
       "      <td>2</td>\n",
       "      <td>Ivysaur</td>\n",
       "      <td>Grass</td>\n",
       "      <td>Poison</td>\n",
       "      <td>405</td>\n",
       "      <td>60</td>\n",
       "      <td>62</td>\n",
       "      <td>63</td>\n",
       "      <td>80</td>\n",
       "      <td>80</td>\n",
       "      <td>60</td>\n",
       "      <td>1</td>\n",
       "      <td>False</td>\n",
       "    </tr>\n",
       "    <tr>\n",
       "      <th>2</th>\n",
       "      <td>3</td>\n",
       "      <td>Venusaur</td>\n",
       "      <td>Grass</td>\n",
       "      <td>Poison</td>\n",
       "      <td>525</td>\n",
       "      <td>80</td>\n",
       "      <td>82</td>\n",
       "      <td>83</td>\n",
       "      <td>100</td>\n",
       "      <td>100</td>\n",
       "      <td>80</td>\n",
       "      <td>1</td>\n",
       "      <td>False</td>\n",
       "    </tr>\n",
       "    <tr>\n",
       "      <th>3</th>\n",
       "      <td>3</td>\n",
       "      <td>VenusaurMega Venusaur</td>\n",
       "      <td>Grass</td>\n",
       "      <td>Poison</td>\n",
       "      <td>625</td>\n",
       "      <td>80</td>\n",
       "      <td>100</td>\n",
       "      <td>123</td>\n",
       "      <td>122</td>\n",
       "      <td>120</td>\n",
       "      <td>80</td>\n",
       "      <td>1</td>\n",
       "      <td>False</td>\n",
       "    </tr>\n",
       "    <tr>\n",
       "      <th>4</th>\n",
       "      <td>4</td>\n",
       "      <td>Charmander</td>\n",
       "      <td>Fire</td>\n",
       "      <td>NaN</td>\n",
       "      <td>309</td>\n",
       "      <td>39</td>\n",
       "      <td>52</td>\n",
       "      <td>43</td>\n",
       "      <td>60</td>\n",
       "      <td>50</td>\n",
       "      <td>65</td>\n",
       "      <td>1</td>\n",
       "      <td>False</td>\n",
       "    </tr>\n",
       "  </tbody>\n",
       "</table>\n",
       "</div>"
      ],
      "text/plain": [
       "   #                   Name Type 1  Type 2  Total  HP  Attack  Defense  \\\n",
       "0  1              Bulbasaur  Grass  Poison    318  45      49       49   \n",
       "1  2                Ivysaur  Grass  Poison    405  60      62       63   \n",
       "2  3               Venusaur  Grass  Poison    525  80      82       83   \n",
       "3  3  VenusaurMega Venusaur  Grass  Poison    625  80     100      123   \n",
       "4  4             Charmander   Fire     NaN    309  39      52       43   \n",
       "\n",
       "   Sp. Atk  Sp. Def  Speed  Generation  Legendary  \n",
       "0       65       65     45           1      False  \n",
       "1       80       80     60           1      False  \n",
       "2      100      100     80           1      False  \n",
       "3      122      120     80           1      False  \n",
       "4       60       50     65           1      False  "
      ]
     },
     "execution_count": 56,
     "metadata": {},
     "output_type": "execute_result"
    }
   ],
   "source": [
    "df.head()"
   ]
  },
  {
   "cell_type": "markdown",
   "metadata": {},
   "source": [
    "Below you can find more information about your data\n",
    "\n",
    "#: ID for each pokemon <br />\n",
    "Name: Name of each pokemon <br />\n",
    "Type 1: Each pokemon has a type, this determines weakness/resistance to attacks <br />\n",
    "Type 2: Some pokemon are dual type and have 2 <br />\n",
    "Total: sum of all stats that come after this, a general guide to how strong a pokemon is <br />\n",
    "HP: hit points, or health, defines how much damage a pokemon can withstand before fainting <br />\n",
    "Attack: the base modifier for normal attacks (eg. Scratch, Punch) <br />\n",
    "Defense: the base damage resistance against normal attacks <br />\n",
    "SP Atk: special attack, the base modifier for special attacks (e.g. fire blast, bubble beam) <br />\n",
    "SP Def: the base damage resistance against special attacks <br />\n",
    "Speed: determines which pokemon attacks first each round <br />\n",
    "Generation: Generations are used in the Pokémon to denote the chronological divisions of Pokémon canon. Each generation usually denotes a new setting, new Pokémon, and new characters. <br />\n",
    "Legendary: Whether or not the Pokemon is legendary."
   ]
  },
  {
   "cell_type": "code",
   "execution_count": 57,
   "metadata": {},
   "outputs": [
    {
     "data": {
      "text/plain": [
       "#              int64\n",
       "Name          object\n",
       "Type 1        object\n",
       "Type 2        object\n",
       "Total          int64\n",
       "HP             int64\n",
       "Attack         int64\n",
       "Defense        int64\n",
       "Sp. Atk        int64\n",
       "Sp. Def        int64\n",
       "Speed          int64\n",
       "Generation     int64\n",
       "Legendary       bool\n",
       "dtype: object"
      ]
     },
     "execution_count": 57,
     "metadata": {},
     "output_type": "execute_result"
    }
   ],
   "source": [
    "df.dtypes"
   ]
  },
  {
   "cell_type": "markdown",
   "metadata": {},
   "source": [
    "Sometimes, when we load our data, the variables get saved as the wrong data type. In those cases, we want a quick and easy way to tell Python to change their data type. This can be done via the `astype()` method, where you need to specify what data type you want for you variable instead."
   ]
  },
  {
   "cell_type": "code",
   "execution_count": 58,
   "metadata": {},
   "outputs": [
    {
     "data": {
      "text/plain": [
       "#                int64\n",
       "Name            object\n",
       "Type 1          object\n",
       "Type 2          object\n",
       "Total            int64\n",
       "HP               int64\n",
       "Attack           int64\n",
       "Defense          int64\n",
       "Sp. Atk          int64\n",
       "Sp. Def          int64\n",
       "Speed            int64\n",
       "Generation    category\n",
       "Legendary         bool\n",
       "dtype: object"
      ]
     },
     "execution_count": 58,
     "metadata": {},
     "output_type": "execute_result"
    }
   ],
   "source": [
    "df['Generation'] = df['Generation'].astype('category') # Here we changed the type of Generation from integer to category\n",
    "df.dtypes"
   ]
  },
  {
   "cell_type": "markdown",
   "metadata": {},
   "source": [
    "Now if you print that column, you can see what are all the Generations found in this dataset"
   ]
  },
  {
   "cell_type": "code",
   "execution_count": 59,
   "metadata": {},
   "outputs": [
    {
     "data": {
      "text/plain": [
       "0      1\n",
       "1      1\n",
       "2      1\n",
       "3      1\n",
       "4      1\n",
       "      ..\n",
       "795    6\n",
       "796    6\n",
       "797    6\n",
       "798    6\n",
       "799    6\n",
       "Name: Generation, Length: 800, dtype: category\n",
       "Categories (6, int64): [1, 2, 3, 4, 5, 6]"
      ]
     },
     "execution_count": 59,
     "metadata": {},
     "output_type": "execute_result"
    }
   ],
   "source": [
    "df.Generation"
   ]
  },
  {
   "cell_type": "markdown",
   "metadata": {},
   "source": [
    "## Summarising numerical data"
   ]
  },
  {
   "cell_type": "markdown",
   "metadata": {},
   "source": [
    "The most common methods of summarising numerical data are the `mean()`, `median()` and `mode()`. We might also be interested in measures of variance or standard deviation, which can be computed via `var()` and `std()` respectively. Let's have a look at how we can use these to find out about how powerful the average Pokemon is."
   ]
  },
  {
   "cell_type": "code",
   "execution_count": 60,
   "metadata": {},
   "outputs": [
    {
     "name": "stdout",
     "output_type": "stream",
     "text": [
      "435.1025\n",
      "450.0\n",
      "0    600\n",
      "Name: Total, dtype: int64\n",
      "14391.13090738423\n",
      "119.96303975551899\n"
     ]
    }
   ],
   "source": [
    "print(df.Total.mean())\n",
    "print(df.Total.median())\n",
    "print(df.Total.mode())\n",
    "print(df.Total.var())\n",
    "print(df.Total.std())\n",
    "\n"
   ]
  },
  {
   "cell_type": "markdown",
   "metadata": {},
   "source": [
    "Note that dataframes have built in methods such as `mean()` which allow us to compute summary variables with ease. However, if you work with other data structures that might not be the case. In those scenarios, you can use the `numpy` module that we showed you earlier. The two are equivalent, so it is up to you which one you prefer to use."
   ]
  },
  {
   "cell_type": "code",
   "execution_count": 111,
   "metadata": {},
   "outputs": [
    {
     "data": {
      "text/plain": [
       "435.1025"
      ]
     },
     "execution_count": 111,
     "metadata": {},
     "output_type": "execute_result"
    }
   ],
   "source": [
    "\n",
    "np.mean(df.Total)"
   ]
  },
  {
   "cell_type": "markdown",
   "metadata": {},
   "source": [
    "The above mentioned code gives us some information about all Pokemon. But what if we wanted to know how powerful a Pokemon is based on their Type? Psychic Pokemon are usually known to be stronger than other types."
   ]
  },
  {
   "cell_type": "code",
   "execution_count": null,
   "metadata": {},
   "outputs": [],
   "source": [
    "# CODE HERE\n",
    "\n",
    "\n",
    "\n",
    "\n"
   ]
  },
  {
   "cell_type": "markdown",
   "metadata": {},
   "source": [
    "### Plotting numerical data"
   ]
  },
  {
   "cell_type": "markdown",
   "metadata": {},
   "source": [
    "Before we do any analysis, it's really useful to look at the distribution of our data. Let's use what you learnt in the previous lesson to plot the distribution of a Pokemon's total power and also their attack and speed. You should also show some box plots and compare the two approaches; check if one plot provides you with more information than the other."
   ]
  },
  {
   "cell_type": "code",
   "execution_count": null,
   "metadata": {},
   "outputs": [],
   "source": [
    "## CODE HERE\n",
    "\n",
    "\n",
    "\n",
    "\n"
   ]
  },
  {
   "cell_type": "markdown",
   "metadata": {},
   "source": [
    "## Summarising Categorical Data"
   ]
  },
  {
   "cell_type": "markdown",
   "metadata": {},
   "source": [
    "With non-numerical data, widely used measures of mean and standard deviation do not work. Instead, we use measures of frequency or spread (e.g. percentiles and range) depending on whether our categorical data can be ordered or not. Median can also be used in categorical data, given that the data can be ordered, otherwise it won't be meaningful."
   ]
  },
  {
   "cell_type": "markdown",
   "metadata": {},
   "source": [
    "Frequencies can be calculated by counting the number of occurences. One way to do that in Python is via the `value_counts()` method. "
   ]
  },
  {
   "cell_type": "code",
   "execution_count": null,
   "metadata": {},
   "outputs": [
    {
     "data": {
      "text/plain": [
       "Water       112\n",
       "Normal       98\n",
       "Grass        70\n",
       "Bug          69\n",
       "Psychic      57\n",
       "Fire         52\n",
       "Electric     44\n",
       "Rock         44\n",
       "Dragon       32\n",
       "Ground       32\n",
       "Ghost        32\n",
       "Dark         31\n",
       "Poison       28\n",
       "Steel        27\n",
       "Fighting     27\n",
       "Ice          24\n",
       "Fairy        17\n",
       "Flying        4\n",
       "Name: Type 1, dtype: int64"
      ]
     },
     "execution_count": 31,
     "metadata": {},
     "output_type": "execute_result"
    }
   ],
   "source": [
    "df['Legendary'].value_counts()"
   ]
  },
  {
   "cell_type": "markdown",
   "metadata": {},
   "source": [
    "Can you figure out how to plot the total power of the legendary Pokemon?"
   ]
  },
  {
   "cell_type": "markdown",
   "metadata": {},
   "source": [
    "Sometimes the overall count can be hard to interpret or misleasing, so we we can change the representation of the data to a proportion."
   ]
  },
  {
   "cell_type": "code",
   "execution_count": null,
   "metadata": {},
   "outputs": [
    {
     "data": {
      "text/plain": [
       "False    0.91875\n",
       "True     0.08125\n",
       "Name: Legendary, dtype: float64"
      ]
     },
     "execution_count": 30,
     "metadata": {},
     "output_type": "execute_result"
    }
   ],
   "source": [
    "df['Legendary'].value_counts(normalize = True)"
   ]
  },
  {
   "cell_type": "markdown",
   "metadata": {},
   "source": [
    "Sometimes, when we want to run specific statistics, we want our categoricald data to be binarised into column containing zero or one, where the latter only occurs when a specific category is found. This is called hot-encode and can be done via the `get_dummies()` method in pandas, by simply specifying which columns you want to binarise."
   ]
  },
  {
   "cell_type": "code",
   "execution_count": null,
   "metadata": {},
   "outputs": [
    {
     "data": {
      "text/html": [
       "<div>\n",
       "<style scoped>\n",
       "    .dataframe tbody tr th:only-of-type {\n",
       "        vertical-align: middle;\n",
       "    }\n",
       "\n",
       "    .dataframe tbody tr th {\n",
       "        vertical-align: top;\n",
       "    }\n",
       "\n",
       "    .dataframe thead th {\n",
       "        text-align: right;\n",
       "    }\n",
       "</style>\n",
       "<table border=\"1\" class=\"dataframe\">\n",
       "  <thead>\n",
       "    <tr style=\"text-align: right;\">\n",
       "      <th></th>\n",
       "      <th>#</th>\n",
       "      <th>Name</th>\n",
       "      <th>Type 2</th>\n",
       "      <th>Total</th>\n",
       "      <th>HP</th>\n",
       "      <th>Attack</th>\n",
       "      <th>Defense</th>\n",
       "      <th>Sp. Atk</th>\n",
       "      <th>Sp. Def</th>\n",
       "      <th>Speed</th>\n",
       "      <th>...</th>\n",
       "      <th>Type 1_Ghost</th>\n",
       "      <th>Type 1_Grass</th>\n",
       "      <th>Type 1_Ground</th>\n",
       "      <th>Type 1_Ice</th>\n",
       "      <th>Type 1_Normal</th>\n",
       "      <th>Type 1_Poison</th>\n",
       "      <th>Type 1_Psychic</th>\n",
       "      <th>Type 1_Rock</th>\n",
       "      <th>Type 1_Steel</th>\n",
       "      <th>Type 1_Water</th>\n",
       "    </tr>\n",
       "  </thead>\n",
       "  <tbody>\n",
       "    <tr>\n",
       "      <th>0</th>\n",
       "      <td>1</td>\n",
       "      <td>Bulbasaur</td>\n",
       "      <td>Poison</td>\n",
       "      <td>318</td>\n",
       "      <td>45</td>\n",
       "      <td>49</td>\n",
       "      <td>49</td>\n",
       "      <td>65</td>\n",
       "      <td>65</td>\n",
       "      <td>45</td>\n",
       "      <td>...</td>\n",
       "      <td>0</td>\n",
       "      <td>1</td>\n",
       "      <td>0</td>\n",
       "      <td>0</td>\n",
       "      <td>0</td>\n",
       "      <td>0</td>\n",
       "      <td>0</td>\n",
       "      <td>0</td>\n",
       "      <td>0</td>\n",
       "      <td>0</td>\n",
       "    </tr>\n",
       "    <tr>\n",
       "      <th>1</th>\n",
       "      <td>2</td>\n",
       "      <td>Ivysaur</td>\n",
       "      <td>Poison</td>\n",
       "      <td>405</td>\n",
       "      <td>60</td>\n",
       "      <td>62</td>\n",
       "      <td>63</td>\n",
       "      <td>80</td>\n",
       "      <td>80</td>\n",
       "      <td>60</td>\n",
       "      <td>...</td>\n",
       "      <td>0</td>\n",
       "      <td>1</td>\n",
       "      <td>0</td>\n",
       "      <td>0</td>\n",
       "      <td>0</td>\n",
       "      <td>0</td>\n",
       "      <td>0</td>\n",
       "      <td>0</td>\n",
       "      <td>0</td>\n",
       "      <td>0</td>\n",
       "    </tr>\n",
       "    <tr>\n",
       "      <th>2</th>\n",
       "      <td>3</td>\n",
       "      <td>Venusaur</td>\n",
       "      <td>Poison</td>\n",
       "      <td>525</td>\n",
       "      <td>80</td>\n",
       "      <td>82</td>\n",
       "      <td>83</td>\n",
       "      <td>100</td>\n",
       "      <td>100</td>\n",
       "      <td>80</td>\n",
       "      <td>...</td>\n",
       "      <td>0</td>\n",
       "      <td>1</td>\n",
       "      <td>0</td>\n",
       "      <td>0</td>\n",
       "      <td>0</td>\n",
       "      <td>0</td>\n",
       "      <td>0</td>\n",
       "      <td>0</td>\n",
       "      <td>0</td>\n",
       "      <td>0</td>\n",
       "    </tr>\n",
       "    <tr>\n",
       "      <th>3</th>\n",
       "      <td>3</td>\n",
       "      <td>VenusaurMega Venusaur</td>\n",
       "      <td>Poison</td>\n",
       "      <td>625</td>\n",
       "      <td>80</td>\n",
       "      <td>100</td>\n",
       "      <td>123</td>\n",
       "      <td>122</td>\n",
       "      <td>120</td>\n",
       "      <td>80</td>\n",
       "      <td>...</td>\n",
       "      <td>0</td>\n",
       "      <td>1</td>\n",
       "      <td>0</td>\n",
       "      <td>0</td>\n",
       "      <td>0</td>\n",
       "      <td>0</td>\n",
       "      <td>0</td>\n",
       "      <td>0</td>\n",
       "      <td>0</td>\n",
       "      <td>0</td>\n",
       "    </tr>\n",
       "    <tr>\n",
       "      <th>4</th>\n",
       "      <td>4</td>\n",
       "      <td>Charmander</td>\n",
       "      <td>NaN</td>\n",
       "      <td>309</td>\n",
       "      <td>39</td>\n",
       "      <td>52</td>\n",
       "      <td>43</td>\n",
       "      <td>60</td>\n",
       "      <td>50</td>\n",
       "      <td>65</td>\n",
       "      <td>...</td>\n",
       "      <td>0</td>\n",
       "      <td>0</td>\n",
       "      <td>0</td>\n",
       "      <td>0</td>\n",
       "      <td>0</td>\n",
       "      <td>0</td>\n",
       "      <td>0</td>\n",
       "      <td>0</td>\n",
       "      <td>0</td>\n",
       "      <td>0</td>\n",
       "    </tr>\n",
       "    <tr>\n",
       "      <th>...</th>\n",
       "      <td>...</td>\n",
       "      <td>...</td>\n",
       "      <td>...</td>\n",
       "      <td>...</td>\n",
       "      <td>...</td>\n",
       "      <td>...</td>\n",
       "      <td>...</td>\n",
       "      <td>...</td>\n",
       "      <td>...</td>\n",
       "      <td>...</td>\n",
       "      <td>...</td>\n",
       "      <td>...</td>\n",
       "      <td>...</td>\n",
       "      <td>...</td>\n",
       "      <td>...</td>\n",
       "      <td>...</td>\n",
       "      <td>...</td>\n",
       "      <td>...</td>\n",
       "      <td>...</td>\n",
       "      <td>...</td>\n",
       "      <td>...</td>\n",
       "    </tr>\n",
       "    <tr>\n",
       "      <th>795</th>\n",
       "      <td>719</td>\n",
       "      <td>Diancie</td>\n",
       "      <td>Fairy</td>\n",
       "      <td>600</td>\n",
       "      <td>50</td>\n",
       "      <td>100</td>\n",
       "      <td>150</td>\n",
       "      <td>100</td>\n",
       "      <td>150</td>\n",
       "      <td>50</td>\n",
       "      <td>...</td>\n",
       "      <td>0</td>\n",
       "      <td>0</td>\n",
       "      <td>0</td>\n",
       "      <td>0</td>\n",
       "      <td>0</td>\n",
       "      <td>0</td>\n",
       "      <td>0</td>\n",
       "      <td>1</td>\n",
       "      <td>0</td>\n",
       "      <td>0</td>\n",
       "    </tr>\n",
       "    <tr>\n",
       "      <th>796</th>\n",
       "      <td>719</td>\n",
       "      <td>DiancieMega Diancie</td>\n",
       "      <td>Fairy</td>\n",
       "      <td>700</td>\n",
       "      <td>50</td>\n",
       "      <td>160</td>\n",
       "      <td>110</td>\n",
       "      <td>160</td>\n",
       "      <td>110</td>\n",
       "      <td>110</td>\n",
       "      <td>...</td>\n",
       "      <td>0</td>\n",
       "      <td>0</td>\n",
       "      <td>0</td>\n",
       "      <td>0</td>\n",
       "      <td>0</td>\n",
       "      <td>0</td>\n",
       "      <td>0</td>\n",
       "      <td>1</td>\n",
       "      <td>0</td>\n",
       "      <td>0</td>\n",
       "    </tr>\n",
       "    <tr>\n",
       "      <th>797</th>\n",
       "      <td>720</td>\n",
       "      <td>HoopaHoopa Confined</td>\n",
       "      <td>Ghost</td>\n",
       "      <td>600</td>\n",
       "      <td>80</td>\n",
       "      <td>110</td>\n",
       "      <td>60</td>\n",
       "      <td>150</td>\n",
       "      <td>130</td>\n",
       "      <td>70</td>\n",
       "      <td>...</td>\n",
       "      <td>0</td>\n",
       "      <td>0</td>\n",
       "      <td>0</td>\n",
       "      <td>0</td>\n",
       "      <td>0</td>\n",
       "      <td>0</td>\n",
       "      <td>1</td>\n",
       "      <td>0</td>\n",
       "      <td>0</td>\n",
       "      <td>0</td>\n",
       "    </tr>\n",
       "    <tr>\n",
       "      <th>798</th>\n",
       "      <td>720</td>\n",
       "      <td>HoopaHoopa Unbound</td>\n",
       "      <td>Dark</td>\n",
       "      <td>680</td>\n",
       "      <td>80</td>\n",
       "      <td>160</td>\n",
       "      <td>60</td>\n",
       "      <td>170</td>\n",
       "      <td>130</td>\n",
       "      <td>80</td>\n",
       "      <td>...</td>\n",
       "      <td>0</td>\n",
       "      <td>0</td>\n",
       "      <td>0</td>\n",
       "      <td>0</td>\n",
       "      <td>0</td>\n",
       "      <td>0</td>\n",
       "      <td>1</td>\n",
       "      <td>0</td>\n",
       "      <td>0</td>\n",
       "      <td>0</td>\n",
       "    </tr>\n",
       "    <tr>\n",
       "      <th>799</th>\n",
       "      <td>721</td>\n",
       "      <td>Volcanion</td>\n",
       "      <td>Water</td>\n",
       "      <td>600</td>\n",
       "      <td>80</td>\n",
       "      <td>110</td>\n",
       "      <td>120</td>\n",
       "      <td>130</td>\n",
       "      <td>90</td>\n",
       "      <td>70</td>\n",
       "      <td>...</td>\n",
       "      <td>0</td>\n",
       "      <td>0</td>\n",
       "      <td>0</td>\n",
       "      <td>0</td>\n",
       "      <td>0</td>\n",
       "      <td>0</td>\n",
       "      <td>0</td>\n",
       "      <td>0</td>\n",
       "      <td>0</td>\n",
       "      <td>0</td>\n",
       "    </tr>\n",
       "  </tbody>\n",
       "</table>\n",
       "<p>800 rows × 30 columns</p>\n",
       "</div>"
      ],
      "text/plain": [
       "       #                   Name  Type 2  Total  HP  Attack  Defense  Sp. Atk  \\\n",
       "0      1              Bulbasaur  Poison    318  45      49       49       65   \n",
       "1      2                Ivysaur  Poison    405  60      62       63       80   \n",
       "2      3               Venusaur  Poison    525  80      82       83      100   \n",
       "3      3  VenusaurMega Venusaur  Poison    625  80     100      123      122   \n",
       "4      4             Charmander     NaN    309  39      52       43       60   \n",
       "..   ...                    ...     ...    ...  ..     ...      ...      ...   \n",
       "795  719                Diancie   Fairy    600  50     100      150      100   \n",
       "796  719    DiancieMega Diancie   Fairy    700  50     160      110      160   \n",
       "797  720    HoopaHoopa Confined   Ghost    600  80     110       60      150   \n",
       "798  720     HoopaHoopa Unbound    Dark    680  80     160       60      170   \n",
       "799  721              Volcanion   Water    600  80     110      120      130   \n",
       "\n",
       "     Sp. Def  Speed  ... Type 1_Ghost  Type 1_Grass  Type 1_Ground  \\\n",
       "0         65     45  ...            0             1              0   \n",
       "1         80     60  ...            0             1              0   \n",
       "2        100     80  ...            0             1              0   \n",
       "3        120     80  ...            0             1              0   \n",
       "4         50     65  ...            0             0              0   \n",
       "..       ...    ...  ...          ...           ...            ...   \n",
       "795      150     50  ...            0             0              0   \n",
       "796      110    110  ...            0             0              0   \n",
       "797      130     70  ...            0             0              0   \n",
       "798      130     80  ...            0             0              0   \n",
       "799       90     70  ...            0             0              0   \n",
       "\n",
       "     Type 1_Ice  Type 1_Normal  Type 1_Poison  Type 1_Psychic  Type 1_Rock  \\\n",
       "0             0              0              0               0            0   \n",
       "1             0              0              0               0            0   \n",
       "2             0              0              0               0            0   \n",
       "3             0              0              0               0            0   \n",
       "4             0              0              0               0            0   \n",
       "..          ...            ...            ...             ...          ...   \n",
       "795           0              0              0               0            1   \n",
       "796           0              0              0               0            1   \n",
       "797           0              0              0               1            0   \n",
       "798           0              0              0               1            0   \n",
       "799           0              0              0               0            0   \n",
       "\n",
       "     Type 1_Steel  Type 1_Water  \n",
       "0               0             0  \n",
       "1               0             0  \n",
       "2               0             0  \n",
       "3               0             0  \n",
       "4               0             0  \n",
       "..            ...           ...  \n",
       "795             0             0  \n",
       "796             0             0  \n",
       "797             0             0  \n",
       "798             0             0  \n",
       "799             0             0  \n",
       "\n",
       "[800 rows x 30 columns]"
      ]
     },
     "execution_count": 32,
     "metadata": {},
     "output_type": "execute_result"
    }
   ],
   "source": [
    "df = pd.get_dummies(data = df, columns= ['Type 1'])\n",
    "df"
   ]
  },
  {
   "cell_type": "markdown",
   "metadata": {},
   "source": [
    "Now, we can look at the frequency of a Pokemon type in a similar way."
   ]
  },
  {
   "cell_type": "code",
   "execution_count": null,
   "metadata": {},
   "outputs": [
    {
     "data": {
      "text/plain": [
       "0    743\n",
       "1     57\n",
       "Name: Type 1_Psychic, dtype: int64"
      ]
     },
     "execution_count": 35,
     "metadata": {},
     "output_type": "execute_result"
    }
   ],
   "source": [
    "df['Type 1_Psychic'].value_counts()\n"
   ]
  },
  {
   "cell_type": "code",
   "execution_count": null,
   "metadata": {},
   "outputs": [
    {
     "data": {
      "text/plain": [
       "0    0.92875\n",
       "1    0.07125\n",
       "Name: Type 1_Psychic, dtype: float64"
      ]
     },
     "execution_count": 34,
     "metadata": {},
     "output_type": "execute_result"
    }
   ],
   "source": [
    "df['Type 1_Psychic'].value_counts(normalize=True)"
   ]
  },
  {
   "cell_type": "markdown",
   "metadata": {},
   "source": [
    "### Plotting categorical data"
   ]
  },
  {
   "cell_type": "markdown",
   "metadata": {},
   "source": [
    "Let's also visualise our categorical data. Let's use what you learnt in the previous lesson to plot the number of Pokemon in each generation, via a bar chart and a pie chart. Which one do you think is more useful to visualise this data and why?"
   ]
  },
  {
   "cell_type": "code",
   "execution_count": null,
   "metadata": {},
   "outputs": [],
   "source": [
    "## CODE HERE\n",
    "\n",
    "\n",
    "\n",
    "\n"
   ]
  },
  {
   "cell_type": "markdown",
   "metadata": {},
   "source": [
    "## Hypothesis testing and statistical tests"
   ]
  },
  {
   "cell_type": "markdown",
   "metadata": {},
   "source": [
    "In this section we will introduce some of the most widely used statistical tests. These should have already been covered (theoretically) in the stats materials, so in this section we will show you how to use Python to calculate those statistics."
   ]
  },
  {
   "cell_type": "markdown",
   "metadata": {},
   "source": [
    "One thing we might want to examine is, are legendary Pokemon more powerful than regular Pokemon? But before we decide to run any statistics we need to check if our data is normally distributed"
   ]
  },
  {
   "cell_type": "code",
   "execution_count": null,
   "metadata": {},
   "outputs": [
    {
     "data": {
      "text/plain": [
       "(array([ 29.,  73., 154.,  97., 115., 198.,  49.,  52.,  27.,   6.]),\n",
       " array([180., 240., 300., 360., 420., 480., 540., 600., 660., 720., 780.]),\n",
       " <BarContainer object of 10 artists>)"
      ]
     },
     "execution_count": 39,
     "metadata": {},
     "output_type": "execute_result"
    },
    {
     "data": {
      "image/png": "[encoded data removed]",
      "text/plain": [
       "<Figure size 432x288 with 1 Axes>"
      ]
     },
     "metadata": {
      "needs_background": "light"
     },
     "output_type": "display_data"
    }
   ],
   "source": [
    "from matplotlib import pyplot as plt\n",
    "\n",
    "plt.hist(df.Total)"
   ]
  },
  {
   "cell_type": "markdown",
   "metadata": {},
   "source": [
    "On a first glance, the data looks somewhat normally distributed. So, one might be tempted to assume that is the case and start the analysis. A more robust way to make this decision is to use a test for normality. One of the most common ones is the `Shapiro test`. If the test has a p-value lower than 0.05 it means the distribution is not normal.  "
   ]
  },
  {
   "cell_type": "code",
   "execution_count": null,
   "metadata": {},
   "outputs": [
    {
     "data": {
      "text/plain": [
       "ShapiroResult(statistic=0.9817450642585754, pvalue=1.9297360154268972e-08)"
      ]
     },
     "execution_count": 51,
     "metadata": {},
     "output_type": "execute_result"
    }
   ],
   "source": [
    "scipy.stats.shapiro(df.Total)"
   ]
  },
  {
   "cell_type": "markdown",
   "metadata": {},
   "source": [
    "We can see that based on `Shapiro`, the sample is not normally distributed. One thing we can do is apply a rank-inverse transformation on our data to improve its normality. Feel free to look up how the rank inverse transformation works but this is not essential for the current workshop"
   ]
  },
  {
   "cell_type": "code",
   "execution_count": null,
   "metadata": {},
   "outputs": [],
   "source": [
    "import rank_inv\n",
    "plt.hist(rank_inv.rank_INT(df.Total))"
   ]
  },
  {
   "cell_type": "markdown",
   "metadata": {},
   "source": [
    "Please note that rank_inv is a function we created ourselves, so you can also import functions that you created in python and then use them. Moreover, we can now see that the sample looks a lot closer to normal distribution. Let's run the shapiro test on it again and check."
   ]
  },
  {
   "cell_type": "code",
   "execution_count": null,
   "metadata": {},
   "outputs": [
    {
     "data": {
      "text/plain": [
       "ShapiroResult(statistic=0.9998800158500671, pvalue=1.0)"
      ]
     },
     "execution_count": 52,
     "metadata": {},
     "output_type": "execute_result"
    }
   ],
   "source": [
    "scipy.stats.shapiro(rank_inv.rank_INT(df.Total))"
   ]
  },
  {
   "cell_type": "markdown",
   "metadata": {},
   "source": [
    "Perfect, the sample is now normally distributed. Let's replace the raw values from our dataset with the new values we obtained from the rank inverse transformation"
   ]
  },
  {
   "cell_type": "code",
   "execution_count": null,
   "metadata": {},
   "outputs": [],
   "source": [
    "df.Total = rank_inv.rank_INT(df.Total)"
   ]
  },
  {
   "cell_type": "markdown",
   "metadata": {},
   "source": [
    "Now that we know our sample is normally distributed, we can run some interesting statistics on it. First we might be interested to see if legendary Pokemon are stronger on average than regular pokemon. We can do this via a two-sample t-test"
   ]
  },
  {
   "cell_type": "code",
   "execution_count": 66,
   "metadata": {},
   "outputs": [
    {
     "name": "stdout",
     "output_type": "stream",
     "text": [
      "3.0952457469652825e-52\n",
      "16.386116965872425\n",
      "637.3846153846154\n",
      "417.21360544217686\n"
     ]
    }
   ],
   "source": [
    "legendary = df.Total[df.Legendary == True]\n",
    "not_legendary = df.Total[df.Legendary == False]\n",
    "\n",
    "tstat, pval = stats.ttest_ind(legendary, not_legendary)\n",
    "print(pval)\n",
    "print(tstat)\n",
    "\n",
    "print(np.mean(legendary))\n",
    "print(np.mean(not_legendary))"
   ]
  },
  {
   "cell_type": "markdown",
   "metadata": {},
   "source": [
    "As expected we can see there is a statistically significant difference between legendary pokemon and regular Pokemon, when it comes to overall strength. By inspecting the mean of each group, we can tell the direction of this difference. We can see that legendary pokemon are about 50% stronger on average than regular Pokemon!"
   ]
  },
  {
   "cell_type": "markdown",
   "metadata": {},
   "source": [
    "But what if we did not want to normalize our data using rank inverse transformation? The alternative to doing that is using non-parametric tests which do not require our data to be normally distributed."
   ]
  },
  {
   "cell_type": "markdown",
   "metadata": {},
   "source": [
    "One of the most flexible and robust non-parametric tests is called a permutation test. Due to the nature of the test, it can be pretty much adapted to any analysis, we can even run permutations on regressions and on ANOVAs! Permutations should have been explained in the theoretical part of the statistical course, however I recommend going through this resource if you don't think you understand how it works. I find it very nice and interactive https://patrickvossler18.github.io/buad_312_files/permutation_test/index.html"
   ]
  },
  {
   "cell_type": "markdown",
   "metadata": {},
   "source": [
    "For demonstration purposes, below is how you run a permutation analysis in Python, using 10000 permutations. However, as your data is already normalized, using this would not be necessary."
   ]
  },
  {
   "cell_type": "code",
   "execution_count": 117,
   "metadata": {},
   "outputs": [
    {
     "name": "stdout",
     "output_type": "stream",
     "text": [
      "9.999000099990002e-05\n"
     ]
    }
   ],
   "source": [
    "from mlxtend.evaluate import permutation_test\n",
    "p_value = permutation_test(legendary, not_legendary, method='approximate', num_rounds=10000,  seed=0)\n",
    "print(p_value)"
   ]
  },
  {
   "cell_type": "markdown",
   "metadata": {},
   "source": [
    "## Correlation analysis\n",
    "\n",
    "Correlation can be easily done in Python. One question we might ask is, how does a Pokemon's overall Health relate to their attack power? Let's apply the same process as before to check whether the data is normally distributed then update our variables.\n"
   ]
  },
  {
   "cell_type": "code",
   "execution_count": 68,
   "metadata": {},
   "outputs": [
    {
     "data": {
      "text/plain": [
       "ShapiroResult(statistic=0.915830135345459, pvalue=1.1517375274678524e-20)"
      ]
     },
     "execution_count": 68,
     "metadata": {},
     "output_type": "execute_result"
    }
   ],
   "source": [
    "scipy.stats.shapiro(df.HP)"
   ]
  },
  {
   "cell_type": "code",
   "execution_count": 69,
   "metadata": {},
   "outputs": [
    {
     "data": {
      "text/plain": [
       "ShapiroResult(statistic=0.9789285063743591, pvalue=2.46944176218733e-09)"
      ]
     },
     "execution_count": 69,
     "metadata": {},
     "output_type": "execute_result"
    }
   ],
   "source": [
    "scipy.stats.shapiro(df.Attack)"
   ]
  },
  {
   "cell_type": "code",
   "execution_count": 71,
   "metadata": {},
   "outputs": [
    {
     "data": {
      "text/plain": [
       "ShapiroResult(statistic=0.9998800158500671, pvalue=1.0)"
      ]
     },
     "execution_count": 71,
     "metadata": {},
     "output_type": "execute_result"
    }
   ],
   "source": [
    "df.HP = rank_inv.rank_INT(df.HP)\n",
    "df.Attack = rank_inv.rank_INT(df.Attack)\n",
    "scipy.stats.shapiro(df.Attack)\n",
    "scipy.stats.shapiro(df.HP)"
   ]
  },
  {
   "cell_type": "code",
   "execution_count": 76,
   "metadata": {},
   "outputs": [
    {
     "name": "stdout",
     "output_type": "stream",
     "text": [
      "0.5166010772579395\n",
      "8.745946831157745e-56\n"
     ]
    },
    {
     "data": {
      "text/plain": [
       "<matplotlib.collections.PathCollection at 0x17f914640>"
      ]
     },
     "execution_count": 76,
     "metadata": {},
     "output_type": "execute_result"
    },
    {
     "data": {
      "image/png": "[encoded data removed]",
      "text/plain": [
       "<Figure size 432x288 with 1 Axes>"
      ]
     },
     "metadata": {
      "needs_background": "light"
     },
     "output_type": "display_data"
    }
   ],
   "source": [
    "rvalue, pvalue = stats.pearsonr(df.HP, df.Attack)\n",
    "print(rvalue)\n",
    "print(pvalue)\n",
    "plt.scatter(df.HP, df.Attack)\n"
   ]
  },
  {
   "cell_type": "markdown",
   "metadata": {},
   "source": [
    "The data shows that the higher the attack of a Pokemon, the higher their HP seems to be. But since the correlation is only moderate in effect, this pattern will not apply to all Pokemon. We can see that there are some Pokemon with very high attack but low HP."
   ]
  },
  {
   "cell_type": "markdown",
   "metadata": {},
   "source": [
    "Since our data is normally distributed, we can easily use a Pearson correlation, however if that was not the case, we would have to use a non-parametric alternative. The most common one is the Spearman Correlation. We show how to run it below for demonstration purposes."
   ]
  },
  {
   "cell_type": "code",
   "execution_count": null,
   "metadata": {},
   "outputs": [],
   "source": [
    "rvalue, pvalue = stats.spearmanr(df.HP, df.Attack)"
   ]
  },
  {
   "cell_type": "markdown",
   "metadata": {},
   "source": [
    "Try to run this on the data before we rank inverse transformed it. Are the results different?"
   ]
  },
  {
   "cell_type": "markdown",
   "metadata": {},
   "source": [
    "Now, let's say we want to run 10 more other correlations to look at associations between different stats. It is important to consider that when we do that, we increase our False Positive rate. In other words, we increase the chances of finding a significant p-value by chance. <br />\n",
    "\n",
    "To account for this, a commonly used method is called the Bonferroni correction. This works by taking your p-threshold (e.g. 0.05) and dividing it by the number of tests that you are planning to run (in our case, 10 correlation analyses). <br />\n",
    "\n",
    "After we divide the p-threshold by the number of tests, we obtain a new p-value <br />"
   ]
  },
  {
   "cell_type": "code",
   "execution_count": 82,
   "metadata": {},
   "outputs": [
    {
     "name": "stdout",
     "output_type": "stream",
     "text": [
      "0.005\n"
     ]
    }
   ],
   "source": [
    "new_p_value = 0.05 / 10\n",
    "print(new_p_value)"
   ]
  },
  {
   "cell_type": "markdown",
   "metadata": {},
   "source": [
    "Once the new value has been computed, we now use this as our significance threshold in all our analyses. So, unless our correlation analyses have a p-value lower than 0.005 (in this case), we would not consider them statistically significant correlations."
   ]
  },
  {
   "cell_type": "markdown",
   "metadata": {},
   "source": [
    "## Linear Regression"
   ]
  },
  {
   "cell_type": "markdown",
   "metadata": {},
   "source": [
    "In this section, we will use a linear regression to predict a Pokemon's overall strength, by using their HP and Attack, while also controlling for the generation of the Pokemon."
   ]
  },
  {
   "cell_type": "code",
   "execution_count": 80,
   "metadata": {},
   "outputs": [
    {
     "name": "stdout",
     "output_type": "stream",
     "text": [
      "                            OLS Regression Results                            \n",
      "==============================================================================\n",
      "Dep. Variable:                  Total   R-squared:                       0.674\n",
      "Model:                            OLS   Adj. R-squared:                  0.671\n",
      "Method:                 Least Squares   F-statistic:                     233.4\n",
      "Date:                Wed, 28 Sep 2022   Prob (F-statistic):          1.11e-187\n",
      "Time:                        22:06:10   Log-Likelihood:                -4516.7\n",
      "No. Observations:                 800   AIC:                             9049.\n",
      "Df Residuals:                     792   BIC:                             9087.\n",
      "Df Model:                           7                                         \n",
      "Covariance Type:            nonrobust                                         \n",
      "===================================================================================\n",
      "                      coef    std err          t      P>|t|      [0.025      0.975]\n",
      "-----------------------------------------------------------------------------------\n",
      "Intercept         440.1187      5.364     82.057      0.000     429.590     450.647\n",
      "Generation[T.2]    -8.5930      8.615     -0.997      0.319     -25.505       8.319\n",
      "Generation[T.3]    -2.1040      7.634     -0.276      0.783     -17.089      12.881\n",
      "Generation[T.4]     2.3825      8.276      0.288      0.774     -13.864      18.629\n",
      "Generation[T.5]   -18.8823      7.611     -2.481      0.013     -33.822      -3.943\n",
      "Generation[T.6]     0.7547      9.309      0.081      0.935     -17.518      19.027\n",
      "Attack             61.9841      2.874     21.564      0.000      56.342      67.627\n",
      "HP                 51.1533      2.880     17.762      0.000      45.500      56.807\n",
      "==============================================================================\n",
      "Omnibus:                       40.729   Durbin-Watson:                   1.257\n",
      "Prob(Omnibus):                  0.000   Jarque-Bera (JB):               56.763\n",
      "Skew:                           0.445   Prob(JB):                     4.72e-13\n",
      "Kurtosis:                       3.955   Cond. No.                         7.29\n",
      "==============================================================================\n",
      "\n",
      "Notes:\n",
      "[1] Standard Errors assume that the covariance matrix of the errors is correctly specified.\n"
     ]
    }
   ],
   "source": [
    "\n",
    "model = sm.OLS.from_formula('Total ~ Attack + HP + Generation', data = df) #Here we mention the variable names we want to include and the dataset\n",
    "results = model.fit() #Then we run the regression model\n",
    "print(results.summary()) #Finally, we tell Python to create a summary of all the results and print it"
   ]
  },
  {
   "cell_type": "markdown",
   "metadata": {},
   "source": [
    "From this we can look at a few summary statistics. We can see that the Attack and HP are statistically significant at P<.0.05, and their coeff are positive. This means that the higher the Attack and HP of a Pokemon the higher their overall strength, which makes sense. <br /> <br />\n",
    "By looking at the Generation variable, we can also see that Python automatically binarises this variable. In addition all generations are compared to Generation 1 (how do I know that? Generation 1 is the only one not shown in the table, so it must mean that all the other generations are compared to it). We can see that the generation of the Pokemon does not have an effect on the results most of the times, with the exception of Generation 5. Here, given the negative coefficient, the results indicate that generation 5 Pokemon (as opposed to generation 1) have lower overall strength. This may be because Generation 5 Pokemon are weaker on average than Generation 1. <br /> <br />\n",
    "Another useful statistic is the R-squared. This tell us how much of the variation in Pokemon strength is explained by our independent variables (Pokemon Attack, HP and Generation). Higher R-values are generally better; in this scenario our model is able to explain 67.4% of the variation in Pokemon strength, only using 2 out of the 6 stats variables provided by the dataset."
   ]
  },
  {
   "cell_type": "markdown",
   "metadata": {},
   "source": [
    "## One-way Anova"
   ]
  },
  {
   "cell_type": "markdown",
   "metadata": {},
   "source": [
    "From our previous analyses we found out that some Pokemon generations may vary in strength. Let's look at this in more detail using an ANOVA. Here we will perform a one-way anova to see if there is significant variation in Pokemon total strength across 6 different generations."
   ]
  },
  {
   "cell_type": "markdown",
   "metadata": {},
   "source": [
    "First we split our data in 6 variables, each containing the total scores for each generation. Then, we input these in our ANOVA"
   ]
  },
  {
   "cell_type": "code",
   "execution_count": 90,
   "metadata": {},
   "outputs": [
    {
     "data": {
      "text/plain": [
       "82"
      ]
     },
     "execution_count": 90,
     "metadata": {},
     "output_type": "execute_result"
    }
   ],
   "source": [
    "total_gen1 = df.Total[df.Generation == 1]\n",
    "total_gen2 = df.Total[df.Generation == 2]\n",
    "total_gen3 = df.Total[df.Generation == 3]\n",
    "total_gen4 = df.Total[df.Generation == 4]\n",
    "total_gen5 = df.Total[df.Generation == 5]\n",
    "total_gen6 = df.Total[df.Generation == 6]"
   ]
  },
  {
   "cell_type": "code",
   "execution_count": 93,
   "metadata": {},
   "outputs": [
    {
     "name": "stdout",
     "output_type": "stream",
     "text": [
      "1.5468886194072942 0.1728665457411497\n"
     ]
    }
   ],
   "source": [
    "fstat, pval = stats.f_oneway(total_gen1, total_gen2, total_gen3, total_gen4, total_gen5, total_gen6)\n",
    "print(fstat,pval)"
   ]
  },
  {
   "cell_type": "markdown",
   "metadata": {},
   "source": [
    "The results show that our p-value is non-significant at p>0.05. Normally, under these circumstances, we would not continue with any follow-up tests. However, for demonstration purposes, let's say we had a strong hypothesis that generation 1 and 6 would be different, where generation Pokemon are a lot weaker on average. To test this hypothesis, we can run a Tukey's test."
   ]
  },
  {
   "cell_type": "code",
   "execution_count": 101,
   "metadata": {},
   "outputs": [
    {
     "name": "stdout",
     "output_type": "stream",
     "text": [
      " Multiple Comparison of Means - Tukey HSD, FWER=0.05 \n",
      "=====================================================\n",
      "group1 group2 meandiff p-adj   lower    upper  reject\n",
      "-----------------------------------------------------\n",
      "     1      2  -8.5302 0.9928 -51.0652 34.0047  False\n",
      "     1      3   9.4117 0.9808 -28.4904 47.3139  False\n",
      "     1      4  32.2033 0.2164   -8.691 73.0976  False\n",
      "     1      5   8.1746 0.9895 -29.4339 45.7832  False\n",
      "     1      6   9.5648 0.9916  -36.613 55.7426  False\n",
      "     2      3   17.942 0.8387 -24.9027 60.7866  False\n",
      "     2      4  40.7335 0.1094  -4.7795 86.2466  False\n",
      "     2      5  16.7049 0.8729 -25.8803   59.29  False\n",
      "     2      6   18.095 0.9087 -32.2188 68.4089  False\n",
      "     3      4  22.7915 0.6123 -18.4248 64.0078  False\n",
      "     3      5  -1.2371    1.0 -39.1956 36.7213  False\n",
      "     3      6    0.153    1.0 -46.3102 46.6163  False\n",
      "     4      5 -24.0287 0.5479 -64.9752 16.9179  False\n",
      "     4      6 -22.6385 0.7731 -71.5732 26.2962  False\n",
      "     5      6   1.3902    1.0 -44.8339 47.6142  False\n",
      "-----------------------------------------------------\n"
     ]
    }
   ],
   "source": [
    "tukey = sm.stats.multicomp.pairwise_tukeyhsd(endog=df['Total'], groups=df['Generation'], alpha=0.05)\n",
    "print(tukey)"
   ]
  },
  {
   "cell_type": "markdown",
   "metadata": {},
   "source": [
    "Here we ran the test on all possible comparisons, just so you can see that there is essentially no effect of Pokemon Generation on the overall strength of the Pokemon. You can also run Tukey's on only one comparison that is of interest to you."
   ]
  },
  {
   "cell_type": "markdown",
   "metadata": {},
   "source": [
    "You can also plot this to visualise it better. When a horizontal line crosses the vertical dotten line, it means that the comparison is not statistically significant."
   ]
  },
  {
   "cell_type": "code",
   "execution_count": 104,
   "metadata": {},
   "outputs": [
    {
     "data": {
      "image/png": "[encoded data removed]",
      "text/plain": [
       "<Figure size 432x288 with 1 Axes>"
      ]
     },
     "metadata": {
      "needs_background": "light"
     },
     "output_type": "display_data"
    }
   ],
   "source": [
    "rows = tukey.summary().data[1:]\n",
    "plt.hlines( range(len(rows)), [row[4] for row in rows], [row[5] for row in rows] )\n",
    "plt.vlines( 0, -1, len( rows )-1, linestyles='dashed' )\n",
    "plt.gca().set_yticks( range( len( rows ) ) )\n",
    "plt.gca().set_yticklabels( [ f'{x[0]}-{x[1]}' for x in rows ] )\n",
    "plt.show()"
   ]
  },
  {
   "cell_type": "markdown",
   "metadata": {},
   "source": [
    "We also have a lot of information on the Pokemon Type (e.g. Fire, Psychic, Ghost). Try to run your own ANOVA analysis on that data to examine whether certain Pokemon types are stronger on average.\n",
    "\n",
    "HINT: make sure you change the datatype of the `Type 1` variable to category before you do any analyses on it. Certain Python functions only work on certain types of data, so it's important to make sure the format of your data is compatible with them"
   ]
  },
  {
   "cell_type": "code",
   "execution_count": null,
   "metadata": {},
   "outputs": [],
   "source": [
    "#CODE HERE\n",
    "\n",
    "\n",
    "\n",
    "\n",
    "\n",
    "\n",
    "\n",
    "\n",
    "\n"
   ]
  }
 ],
 "metadata": {
  "kernelspec": {
   "display_name": "Python 3.10.5 64-bit",
   "language": "python",
   "name": "python3"
  },
  "language_info": {
   "codemirror_mode": {
    "name": "ipython",
    "version": 3
   },
   "file_extension": ".py",
   "mimetype": "text/x-python",
   "name": "python",
   "nbconvert_exporter": "python",
   "pygments_lexer": "ipython3",
   "version": "3.10.5"
  },
  "orig_nbformat": 4,
  "vscode": {
   "interpreter": {
    "hash": "aee8b7b246df8f9039afb4144a1f6fd8d2ca17a180786b69acc140d282b71a49"
   }
  }
 },
 "nbformat": 4,
 "nbformat_minor": 2
}
