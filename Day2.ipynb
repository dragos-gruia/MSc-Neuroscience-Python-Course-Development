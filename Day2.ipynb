{
 "cells": [
  {
   "cell_type": "markdown",
   "id": "210cb5bc-c6df-4287-900b-8ac2c35778c0",
   "metadata": {},
   "source": [
    "# Introduction to Functions"
   ]
  },
  {
   "cell_type": "markdown",
   "id": "eb737c0a",
   "metadata": {},
   "source": [
    "`Things to add - \n",
    "Section on why we use identation within the function. \n",
    "Show that you can call a function without any arguments as well as with loads of arguments.\n",
    "Maybe give a few more examples of functions that python uses before introducing how to create a function, for people to understand better what the purpose of functions is. Like, show how you can use the mean function that is already built in python, then show how you can built it yourself using the below blueprint (well, the simplified version with 3 arguments that is shown below).`"
   ]
  },
  {
   "cell_type": "markdown",
   "id": "c986c992-70a8-4409-af0b-a9a5a9d0271d",
   "metadata": {},
   "source": [
    "A **function** can be defined as a block of code, which is run only when it is called. Functions are commonly used to:\n",
    "1. Avoid repeating code\n",
    "2. Create easy-to-read and easy-to-share code\n",
    "3. Write code that needs to be run multiple times while changing only a couple of parameters\n",
    "\n",
    "Python has some built in functions that can be easily accessed. If you remember from lecture one, `bool` and `type` are just two examples of built in functions.\n",
    "\n",
    "Apart from built in functions, users can define their own functions, using a specific structure"
   ]
  },
  {
   "cell_type": "code",
   "execution_count": null,
   "id": "a974ca0f-2476-47ee-afbf-d4c6d708d643",
   "metadata": {},
   "outputs": [],
   "source": [
    "def name_function(input1, input2, ..., inputn = 2):\n",
    "    '''\n",
    "    Docstrings that describe the aim of the functions, \n",
    "    its outputs and the input parameters\n",
    "    '''\n",
    "    < code of the function >\n",
    "    return output1, output2, ..., outputN\n",
    "\n",
    "# Call function\n",
    "name_function(input1 = 1, input2 = 4, ..., inputn = 2)"
   ]
  },
  {
   "cell_type": "markdown",
   "id": "bef42a83-57a3-40e2-b60e-1e4a3a1dbf24",
   "metadata": {},
   "source": [
    "As can be observed in the cell above, the structure used to define a function is really specific:\n",
    "1. Define the name of the function and the input arguments. The input arguments can be from one up to N, where N is as many arguments as are needed to be able to properly run the  function.\n",
    "2. The input arguments can have a default value (e.g. `inputn = 2`) or not; input arguments with default values must be defined always **after** the arguments without default values. A default value means that if no alternative value is provided when calling the function, then the default value will be used. If no default value is provided, then the function cannot be called without specifying a value for that specific argument\n",
    "3. Docstrings can be used to describe what a function does and what the input/output parameters are\n",
    "4. Code of the function that tells the function what to do\n",
    "5. `return` statement that specifies what the output of the function is. The return statement is not compulsory - you can have functions that don't necessarily return anything but just compute specific lines of code when being called.\n",
    "\n",
    "Let's try to define a function that takes the `mean` of three inputs:"
   ]
  },
  {
   "cell_type": "code",
   "execution_count": 34,
   "id": "792deee1-b367-4de7-9b05-afe9f5a52b68",
   "metadata": {},
   "outputs": [],
   "source": [
    "def mean(var1, var2, var3): #Name of the function\n",
    "    '''\n",
    "    The aim of the function is to calculate the mean\n",
    "    of three given input variables.\n",
    "    Example Parameters:\n",
    "    var1 (int): value 1\n",
    "    var2 (int): value 2\n",
    "    var3 (int): value 3\n",
    "    '''\n",
    "    sum_vars = var1+var2+var3 #code of the function\n",
    "    mean = sum_vars/3 #code of the function\n",
    "    return mean #output"
   ]
  },
  {
   "cell_type": "markdown",
   "id": "e3175e79-8f3f-4014-ae61-18d8c015bc2b",
   "metadata": {},
   "source": [
    "Now we can call the function and print the output with the `print` command"
   ]
  },
  {
   "cell_type": "code",
   "execution_count": 35,
   "id": "2ba67a9f-c81c-4ccd-93bd-4a34c35b6c89",
   "metadata": {},
   "outputs": [
    {
     "name": "stdout",
     "output_type": "stream",
     "text": [
      "3.3333333333333335\n"
     ]
    }
   ],
   "source": [
    "print(mean(var1 = 3, var2 = 4, var3 = 3))"
   ]
  },
  {
   "cell_type": "markdown",
   "id": "8aa1bb27-395c-4f9b-a2af-0afc33f14f17",
   "metadata": {},
   "source": [
    "As alternative, the function can be called as follows:"
   ]
  },
  {
   "cell_type": "code",
   "execution_count": 36,
   "id": "948a21a7-d7c0-46fa-a932-483098ca1500",
   "metadata": {},
   "outputs": [
    {
     "name": "stdout",
     "output_type": "stream",
     "text": [
      "3.3333333333333335\n"
     ]
    }
   ],
   "source": [
    "print(mean(3, 4, 3))"
   ]
  },
  {
   "cell_type": "markdown",
   "id": "2e2326b3-76a8-4cfd-b9ac-77792f1d4565",
   "metadata": {},
   "source": [
    "If `var1`, `var2`, and `var3` are not specified, then Python will automatically assume that the values provided when the function is called are in the same positional order of the arguments specified in the definition of the function. In this case, the function will assume that 3 is `var1`, 4 is `var2` and 3 is `var3`."
   ]
  },
  {
   "cell_type": "markdown",
   "id": "0128718b-c506-4052-aeb5-6b235361f929",
   "metadata": {},
   "source": [
    "As you can see in the definition of `mean`, we create a variable called `sum_vars`. Try to print what is it's value"
   ]
  },
  {
   "cell_type": "code",
   "execution_count": null,
   "id": "6cf16645-9b1a-4692-ab2f-2a36197b5146",
   "metadata": {},
   "outputs": [],
   "source": [
    "print(sum_vars)"
   ]
  },
  {
   "cell_type": "markdown",
   "id": "b3fe5f98-3674-4117-a67b-5f2ae873a1ea",
   "metadata": {},
   "source": [
    "Python gives you an error and tells you that the variable is not defined. The reason is that all variables you define within a function will be defined only within that specific environment/context. Once you exit the function, the variables are no longer defined, and the only output of the function that is kept is what is returned after the `return` statement."
   ]
  },
  {
   "cell_type": "markdown",
   "id": "6a128770-42f8-4c8a-a426-c07083a4d3dc",
   "metadata": {},
   "source": [
    "--------------"
   ]
  },
  {
   "cell_type": "markdown",
   "id": "54ad4e15-06f0-4281-8a96-8751a2c151ec",
   "metadata": {},
   "source": [
    "### Code here\n",
    "Try to define a function called `diff` that takes an input two arguments called `var1` and `var2` and gives as output the difference between `var2` and `var1`. Their difference should be stored in a variable called `difference`. Once you defined the function, use it to calculate the difference between two values of your choice. Don't forget to document what the function does!"
   ]
  },
  {
   "cell_type": "code",
   "execution_count": null,
   "id": "bda3d537-9d04-4aa2-8cfe-08d1b446f4ae",
   "metadata": {},
   "outputs": [],
   "source": [
    "# CODE HERE\n",
    "\n"
   ]
  },
  {
   "cell_type": "markdown",
   "id": "cf27edcf-1f33-44bb-8301-e435cf77807d",
   "metadata": {},
   "source": [
    "----------------"
   ]
  },
  {
   "cell_type": "markdown",
   "id": "f12ef2de-9dcf-4c78-a5eb-16812479f18c",
   "metadata": {},
   "source": [
    "Writing the docstring is **IMPORTANT**! If you don't write them, it will be difficult for other people, or future you (if you need to re-use your function after a long time) to remember what each function does. Once the docstrings are defined, they can be easily accessed using the command `help`."
   ]
  },
  {
   "cell_type": "code",
   "execution_count": null,
   "id": "71d4a3dc-6ad9-4efe-a78d-7418156b56a7",
   "metadata": {},
   "outputs": [],
   "source": [
    "help(mean)"
   ]
  },
  {
   "cell_type": "markdown",
   "id": "fb3947a4-c935-4d69-a1ef-44b6b879f75d",
   "metadata": {},
   "source": [
    "An alternative to `help` is to just write directly the `?` in front of the name of the function"
   ]
  },
  {
   "cell_type": "code",
   "execution_count": null,
   "id": "c2dd34a3-5fad-4f5c-a79a-9821c1e82624",
   "metadata": {},
   "outputs": [],
   "source": [
    "?mean"
   ]
  },
  {
   "cell_type": "markdown",
   "id": "c59cee05-95ac-46a3-b053-c61c6ba44673",
   "metadata": {},
   "source": [
    "Both `help` and `?` can be used for functions defined by the users, as well as built-in function. \n",
    "Try to check how the `diff` function you defined looks like.\n"
   ]
  },
  {
   "cell_type": "markdown",
   "id": "a1401e12-bb96-41f2-8bd7-c76f4760e3ec",
   "metadata": {},
   "source": [
    "----------------"
   ]
  },
  {
   "cell_type": "markdown",
   "id": "bd98101b-7106-4856-af2d-78f06cc6ecdd",
   "metadata": {},
   "source": [
    "### Code here\n",
    "\n",
    "Let's try to do something a bit more complex. Write a function called `read_sum` that takes as input three arguments: the `name of a file`, and `two integers`. The aim of the function is to calculate the difference between the two integers and then write the result inside a newly created file with the name of the file provided as argument.\n",
    "\n",
    "**IMPORTANT:** the file should be created only if it does NOT already exist\n",
    "\n",
    "**IMPORTANT #2:** the output of the difference is an integer or float, but to write inside a file you need strings..."
   ]
  },
  {
   "cell_type": "code",
   "execution_count": null,
   "id": "3a6c4c7e-fece-4504-8349-8580b79f93b5",
   "metadata": {},
   "outputs": [],
   "source": [
    "# CODE HERE\n",
    "\n"
   ]
  },
  {
   "cell_type": "markdown",
   "id": "d5c2519a-c86b-44ca-ae05-2a486a3ba0c3",
   "metadata": {},
   "source": [
    "------------"
   ]
  },
  {
   "cell_type": "code",
   "execution_count": null,
   "id": "9b8d5022-e9dc-4468-86c1-da994f71877e",
   "metadata": {},
   "outputs": [],
   "source": [
    "## "
   ]
  }
 ],
 "metadata": {
  "kernelspec": {
   "display_name": "Python 3 (ipykernel)",
   "language": "python",
   "name": "python3"
  },
  "language_info": {
   "codemirror_mode": {
    "name": "ipython",
    "version": 3
   },
   "file_extension": ".py",
   "mimetype": "text/x-python",
   "name": "python",
   "nbconvert_exporter": "python",
   "pygments_lexer": "ipython3",
   "version": "3.9.12"
  },
  "vscode": {
   "interpreter": {
    "hash": "188d7afd7fc7c22ad8f9a56a388c3e64c4d7fffa0d0524714dee61643eb86a04"
   }
  }
 },
 "nbformat": 4,
 "nbformat_minor": 5
}
