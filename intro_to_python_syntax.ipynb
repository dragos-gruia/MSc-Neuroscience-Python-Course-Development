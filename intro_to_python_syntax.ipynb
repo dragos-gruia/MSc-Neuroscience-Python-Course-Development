{
 "cells": [
  {
   "cell_type": "markdown",
   "id": "7ac921d1",
   "metadata": {},
   "source": [
    "# Introduction to Python Syntax:"
   ]
  },
  {
   "cell_type": "markdown",
   "id": "84c02393",
   "metadata": {},
   "source": [
    "The first thing we are going to learn in Python is how to store data, what different types of data we got out there and how we can manipulate that data to perform various types of operations."
   ]
  },
  {
   "cell_type": "markdown",
   "id": "0ac2412f",
   "metadata": {},
   "source": [
    "`Comments` will be used throughout the tutorial to indicate that we do not want Python to execute a specific line of code.  \n",
    "Other times, a comment may be used to explain what a certain line of code is doing or even on entire blocks of code.\n",
    "You can indicate that a line of code is a comment by adding the `#` sign at the beginning of that line, or you can add `#` in the middle of a line to ignore any text starting from that point."
   ]
  },
  {
   "cell_type": "code",
   "execution_count": null,
   "id": "11bff91d",
   "metadata": {},
   "outputs": [],
   "source": [
    "# This is a comment\n",
    "2 + 2 # This is another comment"
   ]
  },
  {
   "cell_type": "markdown",
   "id": "05392afb",
   "metadata": {},
   "source": [
    "## Variables"
   ]
  },
  {
   "cell_type": "markdown",
   "id": "f767242c",
   "metadata": {},
   "source": [
    "Python and all other programming languages use variables to store data. In Python you use the following syntax `variable_name` = `variable_value`, such that the name of the variable is followed by an equal sign, which is in turn followed by the value we want to assign to it. There are many different types of data:"
   ]
  },
  {
   "cell_type": "code",
   "execution_count": null,
   "id": "6cc2bda1",
   "metadata": {},
   "outputs": [],
   "source": [
    "age = 60  # Integer number\n",
    "height = 1.75 # Float number\n",
    "gender = \"Male\" # String\n",
    "pregnant = False # This is not a string, but a special type of data called boolean\n",
    "# Booleans can only take the value True or False."
   ]
  },
  {
   "cell_type": "markdown",
   "id": "24974af2",
   "metadata": {},
   "source": [
    "Once you have defined your variables you can perform a wide range of `arithmetic operations` with them. For instance:"
   ]
  },
  {
   "cell_type": "code",
   "execution_count": null,
   "id": "5d9b17e9",
   "metadata": {},
   "outputs": [],
   "source": [
    "var_A = 5\n",
    "var_B = 10\n",
    "var_A + var_B\n",
    "var_A - var_B\n",
    "var_A / var_B # used for division\n",
    "var_A * var_B # used for multiplication\n",
    "var_A ** var_B # used for exponentiation\n",
    "var_A % var_B # used for modulus (which outputs the remainder of the operation) \n"
   ]
  },
  {
   "cell_type": "markdown",
   "id": "35fb18b0",
   "metadata": {},
   "source": [
    "If you want to see the output of an operation, Python has a very useful feature called print(), which allows you to see either what is inside a variable or the results of specific operations."
   ]
  },
  {
   "cell_type": "code",
   "execution_count": null,
   "id": "b83439df",
   "metadata": {},
   "outputs": [],
   "source": [
    "print(var_A)\n",
    "print(var_A ** var_B)"
   ]
  },
  {
   "cell_type": "markdown",
   "id": "ae0c91af",
   "metadata": {},
   "source": [
    "You can also use a similar logic to `concatenate strings`"
   ]
  },
  {
   "cell_type": "code",
   "execution_count": null,
   "id": "d51890fc",
   "metadata": {},
   "outputs": [],
   "source": [
    "var_A = \"Hello\"\n",
    "var_B = \"World\"\n",
    "print(var_A + var_B)"
   ]
  },
  {
   "cell_type": "markdown",
   "id": "b791a601",
   "metadata": {},
   "source": [
    "Note that the result of the print statement came as `HelloWorld`. That is because Python does not add a space between words, unless it is specifically told to do so. So what if we wanted the output to be `Hello World`? \n",
    "We could simply add a space at the end of the first string."
   ]
  },
  {
   "cell_type": "code",
   "execution_count": null,
   "id": "afab146c",
   "metadata": {},
   "outputs": [],
   "source": [
    "var_A = \"Hello \"\n",
    "var_B = \"World\"\n",
    "print(var_A + var_B)"
   ]
  },
  {
   "cell_type": "markdown",
   "id": "6df7876c",
   "metadata": {},
   "source": [
    "# Common Python Errors"
   ]
  },
  {
   "cell_type": "markdown",
   "id": "233b22ea",
   "metadata": {},
   "source": [
    "What would happen if you tried to divide or multiply one string by another?"
   ]
  },
  {
   "cell_type": "code",
   "execution_count": null,
   "id": "81777f68",
   "metadata": {},
   "outputs": [],
   "source": [
    "var_A = \"Hello \"\n",
    "var_B = \"World\"\n",
    "print(var_A / var_B)"
   ]
  },
  {
   "cell_type": "markdown",
   "id": "aaa5bbb5",
   "metadata": {},
   "source": [
    "You would get an error. Python only allows you to add strings together but you cannot subtract them, divide them or multiply each other in the same way that you do with numbers. \n",
    "Similarly, you cannot add a string and a number together"
   ]
  },
  {
   "cell_type": "code",
   "execution_count": null,
   "id": "8a9e5d58",
   "metadata": {},
   "outputs": [],
   "source": [
    "\"hello\" + 4"
   ]
  },
  {
   "cell_type": "markdown",
   "id": "a8878ef2",
   "metadata": {},
   "source": [
    "Or divide a number by zero"
   ]
  },
  {
   "cell_type": "code",
   "execution_count": null,
   "id": "1902eb36",
   "metadata": {},
   "outputs": [],
   "source": [
    "100 / 0"
   ]
  },
  {
   "cell_type": "markdown",
   "id": "069ec5ce",
   "metadata": {},
   "source": [
    "One tricky error is related to data types. Two numbers cannot be added together if their data types are different (e.g. one is a string and the other is integer)"
   ]
  },
  {
   "cell_type": "code",
   "execution_count": null,
   "id": "3ba54f41",
   "metadata": {},
   "outputs": [],
   "source": [
    "5 + \"5\"\n",
    "\n",
    "#Python cannot recognise that they are both numbers and will assume that you are trying to add together a string and a number\n",
    "#Thus it will throw an error\n",
    "\n",
    "\"True\" + True # Similar concept here but the addition is between a string and a boolean value"
   ]
  },
  {
   "cell_type": "markdown",
   "id": "49df789b",
   "metadata": {},
   "source": [
    "As you progress through the course, you will encounter many coding errors. It is a natural part of being a coder. One of the most useful tools you can have is being able to figure out where the errros are coming from and what it is causing them. One way in which you could do that is to pay attention to the type of error that Python is outputting. \n",
    "In general, there are 3 main types of coding errors: `type error`, `syntax error` and `name error`.\n",
    "The first error can be seen in the code above where we tried to add 5 + \"5\" together. `Type error` is short for data type error, which suggests that you may be performing operations using incompatible data types. "
   ]
  },
  {
   "cell_type": "markdown",
   "id": "481d1776",
   "metadata": {},
   "source": [
    "The second one relates to using incorrect `syntax` in your code. For example, say I tried to create a variable and assign it the value 1 via the following method"
   ]
  },
  {
   "cell_type": "code",
   "execution_count": null,
   "id": "c1db30b9",
   "metadata": {},
   "outputs": [],
   "source": [
    "variable_1 === 1"
   ]
  },
  {
   "cell_type": "markdown",
   "id": "1971986d",
   "metadata": {},
   "source": [
    "This code will return an error as that is not the correct syntax for assigning a value to a variable. \n",
    "The third error often occurs when you try to use a variable that was not previously defined, or in other words you try to `name` something that does not exist. "
   ]
  },
  {
   "cell_type": "code",
   "execution_count": null,
   "id": "812706e2",
   "metadata": {},
   "outputs": [],
   "source": [
    "print(this_is_a_new_variable)"
   ]
  },
  {
   "cell_type": "markdown",
   "id": "31ee0aaa",
   "metadata": {},
   "source": [
    "The above code produces as an error as the variable within the print() statement was not previously given a value, so Python does not know what to print. If we instead used this:"
   ]
  },
  {
   "cell_type": "code",
   "execution_count": null,
   "id": "17c09252",
   "metadata": {},
   "outputs": [],
   "source": [
    "this_is_a_new_variable = \"I hold information\"\n",
    "print(this_is_a_new_variable)"
   ]
  },
  {
   "cell_type": "markdown",
   "id": "b0397ec4",
   "metadata": {},
   "source": [
    "The code will now run succesfully."
   ]
  },
  {
   "cell_type": "markdown",
   "id": "11461dc5",
   "metadata": {},
   "source": [
    "# Relational Operators"
   ]
  },
  {
   "cell_type": "markdown",
   "id": "26c81460",
   "metadata": {},
   "source": [
    "\n",
    "\n",
    "There is a set of 'relational' operators that can be applied to compare numeric variables. If the evaluation is correct, these will output the value `True`, otherwise they will output the value `False`.\n",
    "\n",
    "- `=`: Set value\n",
    "- `==`         Is equal to?\n",
    "- `!=`\t       Is not equal to?\n",
    "- `>`\t       Is greater than?\n",
    "- `<`\t       Is less than?\n",
    "- `>=`\t       Greater than or equal to?\n",
    "- `<=`\t       Less than or equal to?\n",
    "\n",
    "Try applying some of the relational operators. Below are some examples."
   ]
  },
  {
   "cell_type": "code",
   "execution_count": null,
   "id": "16effc3b",
   "metadata": {},
   "outputs": [],
   "source": [
    "print(1 != 2)\n",
    "print(1 <= 2)\n",
    "print(10 > 10)\n",
    "print(4 == 2 * 2)"
   ]
  },
  {
   "cell_type": "markdown",
   "id": "07be808a",
   "metadata": {},
   "source": [
    "# Logical Operators\n",
    "\n",
    "Logical operators can be used to evaluate conjunctions of other operators. These are the `AND` operator and the `OR` operator.\n",
    "\n",
    "The `AND` operator will only return `True`, if all of the other operators in the command return `True`. For example:"
   ]
  },
  {
   "cell_type": "code",
   "execution_count": null,
   "id": "0003fa8a",
   "metadata": {},
   "outputs": [],
   "source": [
    "print(1 == 2 and 1 == 1)  #Will output False as the left side operation returned false and the rigt side returned true\n",
    "\n",
    "print(5 == 5 and 10/2 == 5) #will output True as both operations returned true"
   ]
  },
  {
   "cell_type": "markdown",
   "id": "78751740",
   "metadata": {},
   "source": [
    "The `OR` operator will return `True` if either or both of the other operators in the command return `True`. "
   ]
  },
  {
   "cell_type": "code",
   "execution_count": null,
   "id": "adb602c3",
   "metadata": {},
   "outputs": [],
   "source": [
    "print(1 == 1 or 2 == 1)\n",
    "print(1 == 1 and 2 == 1)\n"
   ]
  },
  {
   "cell_type": "markdown",
   "id": "fc4c36aa",
   "metadata": {},
   "source": [
    "# Working with files "
   ]
  },
  {
   "cell_type": "markdown",
   "id": "e0e45f17",
   "metadata": {},
   "source": [
    "Now that we know how to interact with data, let's see how we can import data from a file.\n",
    "Python has a specific syntax for opening and creating files."
   ]
  },
  {
   "cell_type": "code",
   "execution_count": null,
   "id": "6170d900",
   "metadata": {},
   "outputs": [],
   "source": [
    "with open('hello_world.txt') as file_object:\n",
    "    print(file_object)"
   ]
  },
  {
   "cell_type": "markdown",
   "id": "d38c665d",
   "metadata": {},
   "source": [
    "Notice we use `open()` to indicate what file we want to open from your computer, then we save that data within the Python environment in a variable of our choosing (in this case, the variable is called `file_object`). Then, we go ahead and `print` the data in file_object.\n",
    "Also notice that we used `line identation` (i.e. adding space via TAB at the beginning of the second line). Identation is very important in Python, and we will discuss this in more detail in the next lesson. For now, all you need to know is that if you want to work with the file you just opened, you need to add identation to each line of code. Once you stop identing your code, Python will assume that you finished working with the file and it will close it."
   ]
  },
  {
   "cell_type": "markdown",
   "id": "bca4969a",
   "metadata": {},
   "source": [
    "To read the whole file as a string and save it in a variable, you can use the `read()` method:"
   ]
  },
  {
   "cell_type": "code",
   "execution_count": null,
   "id": "98587680",
   "metadata": {},
   "outputs": [],
   "source": [
    "with open('hello_world.txt') as file_object:\n",
    "    file_object = file_object.read()"
   ]
  },
  {
   "cell_type": "markdown",
   "id": "b7e1ff31",
   "metadata": {},
   "source": [
    "To read only the first line of a file, you can use the `readline()` method"
   ]
  },
  {
   "cell_type": "code",
   "execution_count": null,
   "id": "c6f0de7f",
   "metadata": {},
   "outputs": [],
   "source": [
    "with open('hello_world.txt') as file_object:\n",
    "    print(file_object.readline())\n",
    "    "
   ]
  },
  {
   "cell_type": "markdown",
   "id": "297e3d3b",
   "metadata": {},
   "source": [
    "To `write to a file`, first open the file with write permission via the `w` argument. Then use the `write()` method to write to the file. If the file already exists, all prior content will be overwritten. If the files does not exist, Python will create a new one with the given name."
   ]
  },
  {
   "cell_type": "code",
   "execution_count": null,
   "id": "13ad6875",
   "metadata": {},
   "outputs": [],
   "source": [
    "with open('intro_to_python.txt','w') as diary:\n",
    "  diary.write('Learning how to write information to files')"
   ]
  },
  {
   "cell_type": "markdown",
   "id": "2f4283a0",
   "metadata": {},
   "source": [
    "To `append information` to an existing file, without overwriting what is already there, use the `a` argument instead."
   ]
  },
  {
   "cell_type": "code",
   "execution_count": null,
   "id": "968770f3",
   "metadata": {},
   "outputs": [],
   "source": [
    "with open('intro_to_python.txt','a') as diary:\n",
    "  diary.write('Learning how to write information to files')"
   ]
  }
 ],
 "metadata": {
  "kernelspec": {
   "display_name": "Python 3.10.5 ('ic3env': venv)",
   "language": "python",
   "name": "python3"
  },
  "language_info": {
   "codemirror_mode": {
    "name": "ipython",
    "version": 3
   },
   "file_extension": ".py",
   "mimetype": "text/x-python",
   "name": "python",
   "nbconvert_exporter": "python",
   "pygments_lexer": "ipython3",
   "version": "3.10.5"
  },
  "vscode": {
   "interpreter": {
    "hash": "188d7afd7fc7c22ad8f9a56a388c3e64c4d7fffa0d0524714dee61643eb86a04"
   }
  }
 },
 "nbformat": 4,
 "nbformat_minor": 5
}
