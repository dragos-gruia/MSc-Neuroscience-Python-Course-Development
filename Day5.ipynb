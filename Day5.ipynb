{
 "cells": [
  {
   "cell_type": "markdown",
   "metadata": {},
   "source": [
    "                                                           Notebook created by Dragos Gruia and Valentina Giunchiglia"
   ]
  },
  {
   "cell_type": "markdown",
   "metadata": {},
   "source": [
    "# Introduction to Loops"
   ]
  },
  {
   "cell_type": "code",
   "execution_count": 29,
   "metadata": {},
   "outputs": [],
   "source": [
    "import numpy as np"
   ]
  },
  {
   "cell_type": "markdown",
   "metadata": {},
   "source": [
    "In Python, loops are used to iterate through an `iterable` object and execute the same command for each entry. There are two major types of loops:\n",
    "1. `FOR` loops\n",
    "2. `WHILE` loops"
   ]
  },
  {
   "cell_type": "markdown",
   "metadata": {},
   "source": [
    "## FOR loops\n",
    "\n",
    "### Looping over lists\n",
    "\n",
    "The basic structure of for loops is the following:\n",
    "\n",
    "```\n",
    "for element in list:\n",
    "    run some code\n",
    "```"
   ]
  },
  {
   "cell_type": "markdown",
   "metadata": {},
   "source": [
    "If you remember the lecture on lists and arrays, one of the limitations of lists is that you cannot execute basic mathematical operations with them. However, this is possible if you use `for` loops."
   ]
  },
  {
   "cell_type": "code",
   "execution_count": 7,
   "metadata": {},
   "outputs": [],
   "source": [
    "list1 = [1, 3, 8, 9, 3]\n",
    "updates_list = []\n",
    "for number in list1: # For each number in the list\n",
    "    up_num = number + 1 # Add 1 to the number \n",
    "    updates_list.append(up_num) # append the number to the updated list\n",
    "    "
   ]
  },
  {
   "cell_type": "code",
   "execution_count": 8,
   "metadata": {},
   "outputs": [
    {
     "data": {
      "text/plain": [
       "[2, 4, 9, 10, 4]"
      ]
     },
     "execution_count": 8,
     "metadata": {},
     "output_type": "execute_result"
    }
   ],
   "source": [
    "updates_list"
   ]
  },
  {
   "cell_type": "markdown",
   "metadata": {},
   "source": [
    "This is equivalent to creating and array and adding 1."
   ]
  },
  {
   "cell_type": "code",
   "execution_count": 9,
   "metadata": {},
   "outputs": [
    {
     "data": {
      "text/plain": [
       "array([ 2,  4,  9, 10,  4])"
      ]
     },
     "execution_count": 9,
     "metadata": {},
     "output_type": "execute_result"
    }
   ],
   "source": [
    "arr1 = np.array([1, 3, 8, 9, 3])\n",
    "arr1+1"
   ]
  },
  {
   "cell_type": "markdown",
   "metadata": {},
   "source": [
    "### Looping over strings"
   ]
  },
  {
   "cell_type": "markdown",
   "metadata": {},
   "source": [
    "Another option is to loop over a string - in that case each character of the string is treated separately. \n",
    "\n",
    "```\n",
    "for character in string:\n",
    "    run some code\n",
    "```\n",
    "It is also possible to combine `for` and `if` loops."
   ]
  },
  {
   "cell_type": "code",
   "execution_count": 4,
   "metadata": {},
   "outputs": [
    {
     "name": "stdout",
     "output_type": "stream",
     "text": [
      "a is a letter\n",
      "b is a letter\n",
      "c is a letter\n",
      "1 is a number\n",
      "2 is a number\n",
      "3 is a number\n"
     ]
    }
   ],
   "source": [
    "var1 = \"abc123\"\n",
    "for char in var1:\n",
    "    if char.isdigit(): #Checks whether char is a digit (digit = string of numbers)\n",
    "        print(char, \"is a number\")\n",
    "    else:\n",
    "        print(char, \"is a letter\")"
   ]
  },
  {
   "cell_type": "markdown",
   "metadata": {},
   "source": [
    "-----------\n",
    "### Code here\n",
    "\n",
    "Do you remember the function you coded in the previous lecture? Let's try to add another step in which you loop over all the letters of the `sequence` and check whether they are among the valid basis, namely A, U, T, C, and G. If all the letters are among the valid letters, then `print` that the sequence is valid, otherwise `print` that it is invalid. Apply the updated function on multiple versions of `sequence`."
   ]
  },
  {
   "cell_type": "code",
   "execution_count": 1,
   "metadata": {},
   "outputs": [],
   "source": [
    "# Code here\n",
    "\n"
   ]
  },
  {
   "cell_type": "markdown",
   "metadata": {},
   "source": [
    "------------"
   ]
  },
  {
   "cell_type": "markdown",
   "metadata": {},
   "source": [
    "### The RANGE function"
   ]
  },
  {
   "cell_type": "markdown",
   "metadata": {},
   "source": [
    "Apart from looping over lists and strings, it is also possibile to execute the code N times by using the function `range` which returns N numbers from 0 to N-1. "
   ]
  },
  {
   "cell_type": "code",
   "execution_count": 6,
   "metadata": {},
   "outputs": [
    {
     "name": "stdout",
     "output_type": "stream",
     "text": [
      "2\n",
      "3\n",
      "4\n",
      "5\n",
      "6\n",
      "7\n"
     ]
    }
   ],
   "source": [
    "x = 1\n",
    "for i in range(6): # N = 6\n",
    "    x = x+1\n",
    "    print(x)"
   ]
  },
  {
   "cell_type": "markdown",
   "metadata": {},
   "source": [
    "In this case, range(6) would include the following numbers, 0, 1, 2, 3, 4, 5."
   ]
  },
  {
   "cell_type": "markdown",
   "metadata": {},
   "source": [
    "The output of `range` can be also used in the form of an index, to extract elements from lists"
   ]
  },
  {
   "cell_type": "code",
   "execution_count": 9,
   "metadata": {},
   "outputs": [
    {
     "name": "stdout",
     "output_type": "stream",
     "text": [
      "apple\n",
      "sugar\n",
      "water\n",
      "tea\n"
     ]
    }
   ],
   "source": [
    "list1 = [\"apple\", \"sugar\", \"water\", \"tea\"]\n",
    "for i in range(4):\n",
    "    print(list1[i])"
   ]
  },
  {
   "cell_type": "markdown",
   "metadata": {},
   "source": [
    "It is also possible not to start from 0 but to specify from which number to start, but range will **always** end at N-1"
   ]
  },
  {
   "cell_type": "code",
   "execution_count": 22,
   "metadata": {},
   "outputs": [
    {
     "name": "stdout",
     "output_type": "stream",
     "text": [
      "2\n",
      "4\n",
      "6\n",
      "8\n",
      "10\n"
     ]
    }
   ],
   "source": [
    "# Let's print only the even numbers\n",
    "for i in range(1, 12): # N = 6\n",
    "    if i%2 == 0:\n",
    "        print(i)"
   ]
  },
  {
   "cell_type": "markdown",
   "metadata": {},
   "source": [
    "Now try to remove the  `==0`. What happens? Can you explain why you get that output?"
   ]
  },
  {
   "cell_type": "markdown",
   "metadata": {},
   "source": [
    "Finally, it is possible to specify by how much the function has to increment the previous number (the default is an increment of 1). To do this, it is necessary to specify a third argument. This could be used, for example, to print the even number without the need of the conditional statement."
   ]
  },
  {
   "cell_type": "code",
   "execution_count": 23,
   "metadata": {},
   "outputs": [
    {
     "name": "stdout",
     "output_type": "stream",
     "text": [
      "2\n",
      "4\n",
      "6\n",
      "8\n",
      "10\n"
     ]
    }
   ],
   "source": [
    "# Print numbers from 2 to 12 with an increment of 2 - last number is not included\n",
    "for i in range(2, 12, 2): # N = 6\n",
    "    print(i)"
   ]
  },
  {
   "cell_type": "markdown",
   "metadata": {},
   "source": [
    "Please note that the above mentioned code does not print the number 12, as the range ends at N-1, which in this case happens to be 12-1 = 11."
   ]
  },
  {
   "cell_type": "markdown",
   "metadata": {},
   "source": [
    "----------------\n",
    "### Code here\n",
    "\n",
    "Let's try to do an exercise that is a bit more difficult. The aim of the exercise is to calculate the mean of all the odd numbers between 1 and 100 that are multiples of 3.\n",
    "1. Create an empty list called `final_numbers`\n",
    "2. Loop over all the odd numbers between 1 and 100.\n",
    "3. If the numbers are multiples of 3, then append them to the list\n",
    "4. At the end of the loop `print` the mean of the numbers in `final_numbers`"
   ]
  },
  {
   "cell_type": "code",
   "execution_count": 33,
   "metadata": {},
   "outputs": [],
   "source": [
    "# Code here\n",
    "\n",
    "\n"
   ]
  },
  {
   "cell_type": "markdown",
   "metadata": {},
   "source": [
    "---------------"
   ]
  },
  {
   "cell_type": "markdown",
   "metadata": {},
   "source": [
    "### The ENUMERATE function"
   ]
  },
  {
   "cell_type": "markdown",
   "metadata": {},
   "source": [
    "The `enumerate` function is really useful when you want to loop over arrays or lists and return both the elements of the lists and their index. `enumerate` always returns two things: the index and the element of the list in this order."
   ]
  },
  {
   "cell_type": "code",
   "execution_count": 27,
   "metadata": {},
   "outputs": [
    {
     "name": "stdout",
     "output_type": "stream",
     "text": [
      "Hallo is HELLO in German\n",
      "Ciao is HELLO in Italian\n",
      "Hello is HELLO in English\n",
      "Hola is HELLO in Spanish\n"
     ]
    }
   ],
   "source": [
    "hello = [\"Hallo\", \"Ciao\", \"Hello\", \"Hola\"]\n",
    "languages = [\"German\", \"Italian\", \"English\", \"Spanish\"]\n",
    "for i, x in enumerate(hello):\n",
    "    lang = languages[i]\n",
    "    print(x, \"is HELLO in\", lang)\n",
    "    "
   ]
  },
  {
   "cell_type": "markdown",
   "metadata": {},
   "source": [
    "-----------------"
   ]
  },
  {
   "cell_type": "markdown",
   "metadata": {},
   "source": [
    "### Code here\n",
    "\n",
    "We have two lists called `students` and `grades`. The list `students` has the names of 5 students (e.g. Daniel, Danielle, Dragos, Cecilia and Martin) and `grades` has their grades in a math test, respectively 78, 70, 96, 45 and 49. The aim of the exercise is: \n",
    "1. Create a lits with the names of the students that passed the test (grade > 50)\n",
    "2. *BONUS:* try to find out the name of the best student. \n",
    "\n",
    "**IMPORTANT**: to be able to complete the point 2 you need to:\n",
    "- Initialise a variable called `best_score` as 0 and a variable called `index_best` as 0\n",
    "- Update these variables at each iteration of the loop with respectively the grade and the index only if the score is better that the previously saved `best_score`\n",
    "- Use the index in `index_best` to find the name of the student in `students`"
   ]
  },
  {
   "cell_type": "code",
   "execution_count": 38,
   "metadata": {},
   "outputs": [],
   "source": [
    "# Code here\n",
    "\n"
   ]
  },
  {
   "cell_type": "markdown",
   "metadata": {},
   "source": [
    "### CONTINUE and BREAK"
   ]
  },
  {
   "cell_type": "markdown",
   "metadata": {},
   "source": [
    "As you may have noticed already, it is possible to have `if` statements within the for loop. There could be cases in which, if a specific condition is met, then the loop should be interrupted. To be able to do this, it is possible to use the functions `break` or `continue`. The difference between `break` and `continue` is that the latter moves directly to the next iteration, while the former ends the loop completely. \n",
    "\n",
    "```\n",
    "for x in list:\n",
    "    if condition:\n",
    "        break\n",
    "        \n",
    "for x in list:\n",
    "    if condition:\n",
    "        continue\n",
    "```\n"
   ]
  },
  {
   "cell_type": "markdown",
   "metadata": {},
   "source": [
    "To understand the difference, look at the following two examples"
   ]
  },
  {
   "cell_type": "code",
   "execution_count": 49,
   "metadata": {},
   "outputs": [
    {
     "name": "stdout",
     "output_type": "stream",
     "text": [
      "1\n",
      "2\n",
      "3\n",
      "4\n",
      "5\n",
      "7\n",
      "8\n",
      "9\n",
      "10\n",
      "11\n"
     ]
    }
   ],
   "source": [
    "for i in range(1, 12):\n",
    "    if i%6 == 0:\n",
    "        continue\n",
    "    print(i)"
   ]
  },
  {
   "cell_type": "code",
   "execution_count": 48,
   "metadata": {},
   "outputs": [
    {
     "name": "stdout",
     "output_type": "stream",
     "text": [
      "1\n",
      "2\n",
      "3\n",
      "4\n",
      "5\n"
     ]
    }
   ],
   "source": [
    "for i in range(1, 12):\n",
    "    if i%6 == 0:\n",
    "        break\n",
    "    print(i)"
   ]
  },
  {
   "cell_type": "markdown",
   "metadata": {},
   "source": [
    "As you can notice, both check whether the number is divisible by 6. However, in case of continue, when the condition is met, simply the loop goes to the next iteration (so it doesn't print the number). Instead, break interrupts the loop completely.\n",
    "\n",
    "### Nested loops\n",
    "\n",
    "Nested loops consist of `for` loops inside another `for` loop."
   ]
  },
  {
   "cell_type": "code",
   "execution_count": 57,
   "metadata": {},
   "outputs": [
    {
     "data": {
      "text/plain": [
       "5"
      ]
     },
     "execution_count": 57,
     "metadata": {},
     "output_type": "execute_result"
    }
   ],
   "source": [
    "# Count how many 2 there are in all lists of lists\n",
    "\n",
    "list1 = [[1,3, 6, 2], [2, 3, 2, 6], [1, 2, 1, 1], [5, 6, 6, 2]]\n",
    "\n",
    "two = 0\n",
    "for element in list1:\n",
    "    for x in element:\n",
    "        if x == 2:\n",
    "            two = two +1\n",
    "two     "
   ]
  },
  {
   "cell_type": "markdown",
   "metadata": {},
   "source": [
    "--------------\n",
    "\n",
    "### Code here\n",
    "Try to complete the code above by calculating how many 2, 6 and 1 there are. Then count how many times number different from those three appear. "
   ]
  },
  {
   "cell_type": "code",
   "execution_count": 56,
   "metadata": {},
   "outputs": [],
   "source": [
    "# Code here\n",
    "\n"
   ]
  },
  {
   "cell_type": "markdown",
   "metadata": {},
   "source": [
    "-------------"
   ]
  },
  {
   "cell_type": "markdown",
   "metadata": {},
   "source": [
    "## WHILE loops"
   ]
  },
  {
   "cell_type": "markdown",
   "metadata": {},
   "source": [
    "The `while` loop allows to repeat a block of code multiple times until a condition is met. "
   ]
  },
  {
   "cell_type": "code",
   "execution_count": 62,
   "metadata": {},
   "outputs": [
    {
     "name": "stdout",
     "output_type": "stream",
     "text": [
      "0\n",
      "2\n",
      "4\n"
     ]
    }
   ],
   "source": [
    "x = 0\n",
    "while x < 5:\n",
    "    print(x)\n",
    "    x = x+2"
   ]
  },
  {
   "cell_type": "markdown",
   "metadata": {},
   "source": [
    "You can also use while loops to iterate over a list"
   ]
  },
  {
   "cell_type": "code",
   "execution_count": 72,
   "metadata": {},
   "outputs": [
    {
     "name": "stdout",
     "output_type": "stream",
     "text": [
      "sugar is food\n",
      "tea is a drink\n",
      "water is a drink\n",
      "chocolate is food\n"
     ]
    }
   ],
   "source": [
    "grocery = [\"sugar\", \"tea\", \"water\", \"chocolate\"]\n",
    "i = 0\n",
    "while i < len(grocery):\n",
    "    if grocery[i] == \"sugar\" or grocery[i] == \"chocolate\":\n",
    "        print(grocery[i], \"is food\")\n",
    "    elif grocery[i] == \"tea\" or grocery[i] == \"water\":\n",
    "        print(grocery[i], \"is a drink\")\n",
    "    i = i+1"
   ]
  },
  {
   "cell_type": "markdown",
   "metadata": {},
   "source": [
    "**IMPORTANT**: if you don't write `i = i+1`  then you will create an `infinite loop`, which is a loop whose condition will never be met, and therefore will never end."
   ]
  },
  {
   "cell_type": "markdown",
   "metadata": {},
   "source": [
    "--------------"
   ]
  },
  {
   "cell_type": "markdown",
   "metadata": {},
   "source": [
    "\n",
    "### Code here\n"
   ]
  },
  {
   "cell_type": "markdown",
   "metadata": {},
   "source": [
    "Create a function that takes as input a list of strings, and goes over the list using a `while` loop. If the string in the list is not empty than append it to a new list, otherwise skip it. Return the new list without empty strings."
   ]
  },
  {
   "cell_type": "code",
   "execution_count": 73,
   "metadata": {},
   "outputs": [],
   "source": [
    "# Code here\n",
    "\n"
   ]
  },
  {
   "cell_type": "markdown",
   "metadata": {},
   "source": [
    "-------"
   ]
  },
  {
   "cell_type": "code",
   "execution_count": null,
   "metadata": {},
   "outputs": [],
   "source": []
  }
 ],
 "metadata": {
  "kernelspec": {
   "display_name": "Python 3.10.5 64-bit",
   "language": "python",
   "name": "python3"
  },
  "language_info": {
   "codemirror_mode": {
    "name": "ipython",
    "version": 3
   },
   "file_extension": ".py",
   "mimetype": "text/x-python",
   "name": "python",
   "nbconvert_exporter": "python",
   "pygments_lexer": "ipython3",
   "version": "3.10.5"
  },
  "vscode": {
   "interpreter": {
    "hash": "aee8b7b246df8f9039afb4144a1f6fd8d2ca17a180786b69acc140d282b71a49"
   }
  }
 },
 "nbformat": 4,
 "nbformat_minor": 4
}
