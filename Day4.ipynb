{
 "cells": [
  {
   "cell_type": "markdown",
   "metadata": {},
   "source": [
    "# Introduction to Conditional Statements"
   ]
  },
  {
   "cell_type": "markdown",
   "metadata": {},
   "source": [
    "Conidtional statements are used to evaluate whether a specific condition is met before running different lines of codes. The basic structure of conditional statements is `if` and `else`. The basic structure is the following:\n",
    "\n",
    "\n",
    "```\n",
    "if condition:\n",
    "    run some code   \n",
    "else:\n",
    "    run other code\n",
    "```"
   ]
  },
  {
   "cell_type": "code",
   "execution_count": 1,
   "metadata": {},
   "outputs": [
    {
     "name": "stdout",
     "output_type": "stream",
     "text": [
      "Number bigger than 3\n"
     ]
    }
   ],
   "source": [
    "a = 5\n",
    "if a > 3:\n",
    "    print(\"Number bigger than 3\")\n",
    "else:\n",
    "    print(\"Number smaller than 3\")"
   ]
  },
  {
   "cell_type": "markdown",
   "metadata": {},
   "source": [
    "Multiple if statements can be written one after the other - in this case they will be executed sequentially. If the condition is not met, then the code is not executed. Also in this case, like you have seen in the previous lectures in case of the definition of functions and opening of files, the lines of code need to be `indented`. The `indentation` specifies that the code is within the environment of the conditional statement."
   ]
  },
  {
   "cell_type": "code",
   "execution_count": 4,
   "metadata": {},
   "outputs": [
    {
     "name": "stdout",
     "output_type": "stream",
     "text": [
      "Number 3 bigger than 2\n",
      "Number 3 smaller than 4\n"
     ]
    }
   ],
   "source": [
    "a = 3\n",
    "b = 4\n",
    "if a > 2:\n",
    "    print(\"Number\", a, \"bigger than 2\")\n",
    "if a < b:\n",
    "    print(\"Number\", a, \"smaller than\", b)"
   ]
  },
  {
   "cell_type": "markdown",
   "metadata": {},
   "source": [
    "----------------"
   ]
  },
  {
   "cell_type": "markdown",
   "metadata": {},
   "source": [
    "### Code here\n",
    "Create a 1-D array with the values 210, 180, 290 and 200 and name it `average_price_pw`, then define a variable calld `rent` with value 200. Check if the value of `rent` is in the array `average_price_pw`. If it is, then `print` that \"Rent is within average price\". If it is not, calculate the mean of the values in `average_price_pw` and `print` whether the `rent` value is above or below the calculated mean."
   ]
  },
  {
   "cell_type": "code",
   "execution_count": 6,
   "metadata": {},
   "outputs": [],
   "source": [
    "# CODE HERE\n",
    "\n",
    "\n"
   ]
  },
  {
   "cell_type": "markdown",
   "metadata": {},
   "source": [
    "---------------"
   ]
  },
  {
   "cell_type": "markdown",
   "metadata": {},
   "source": [
    "When defining the conditions after the if statement, any condition can be applied, and as long as the condition is `True`, then the code is executed. It is also possible to reverse the statement and execute a line only if the condition is **not** met, in this case, it is necessary to add a `not` after the `if` statement."
   ]
  },
  {
   "cell_type": "code",
   "execution_count": 2,
   "metadata": {},
   "outputs": [
    {
     "name": "stdout",
     "output_type": "stream",
     "text": [
      "The variable is not an integer\n"
     ]
    }
   ],
   "source": [
    "var = \"apple\"\n",
    "if not type(var) == int:\n",
    "    print(\"The variable is not an integer\")\n",
    "else:\n",
    "    print(\"The variable is an integerse\")"
   ]
  },
  {
   "cell_type": "markdown",
   "metadata": {},
   "source": [
    "As you can see from the example, we are checking whether the type of the variable is integer. You can notice that we are using two `==`. The reason is that one equal `=` is used to assign a value to a variable, while two equals are used to test for equality."
   ]
  },
  {
   "cell_type": "markdown",
   "metadata": {},
   "source": [
    "-------------\n",
    "\n",
    "### Code here\n",
    "Let's try to expand the example above. Create a combination of five `if` statements in which you check whether the variable is `integer`, `float`, `string` or `bool` If any of these conditions are satisfied, then print that the variable is of that specific type. The last `if` statement checks whether the type of the variable is `not` in any of the four types mentioned above. To do this, you have to create a list with all the types and check whether the type is in that list. If the latter condition is satisfied then you should print that the type of the variable is in none of the expected types."
   ]
  },
  {
   "cell_type": "code",
   "execution_count": 3,
   "metadata": {},
   "outputs": [],
   "source": [
    "# Code here\n",
    "\n"
   ]
  },
  {
   "cell_type": "markdown",
   "metadata": {},
   "source": [
    "----------------------"
   ]
  },
  {
   "cell_type": "markdown",
   "metadata": {},
   "source": [
    "What if you have more than one condition that needs to be satisfied? In this case, it is possible to use the logical operators `and` and `or` that you learnt in Day1. You can have as many conditions as you need."
   ]
  },
  {
   "cell_type": "code",
   "execution_count": 4,
   "metadata": {},
   "outputs": [
    {
     "name": "stdout",
     "output_type": "stream",
     "text": [
      "The variable is equal to 5\n"
     ]
    }
   ],
   "source": [
    "num = 5\n",
    "if num > 4 and num < 6 and type(num) == int:\n",
    "    print(\"The variable is equal to 5\")"
   ]
  },
  {
   "cell_type": "code",
   "execution_count": 5,
   "metadata": {},
   "outputs": [
    {
     "name": "stdout",
     "output_type": "stream",
     "text": [
      "The variable is a drink\n",
      "The variable in not a fruit nor a drink\n"
     ]
    }
   ],
   "source": [
    "fruit = [\"apple\", \"banana\", \"peach\", \"grapes\"]\n",
    "soft_drink = [\"tea\", \"water\"]\n",
    "drinks = [\"beer\", \"wine\", \"gin\"]\n",
    "\n",
    "var = \"tea\"\n",
    "\n",
    "if var in soft_drink or var in drinks:\n",
    "    print(\"The variable is a drink\")\n",
    "if var in fruit:\n",
    "    print(\"The variable is a fruit\")\n",
    "else:\n",
    "    print(\"The variable in not a fruit nor a drink\")\n"
   ]
  },
  {
   "cell_type": "markdown",
   "metadata": {},
   "source": [
    "As you can see, the second print statement is incorrect. The reason it was printed is that the else is only referred to the if statemnet that is right before. In order to refer the `else` to multiple if stataements, then a different structure should be used, which combines `if`, `elif`, and `else`.\n",
    "\n",
    "```\n",
    "if condition:\n",
    "    run some code   \n",
    "elif condition:\n",
    "    run some code\n",
    "else:\n",
    "    run other code\n",
    "```\n",
    "-------------\n",
    "### Code here\n",
    "\n",
    "Let's try to rewrite the code above, but this time replace the `if` with `elif`. Is the second `print` statement executed?"
   ]
  },
  {
   "cell_type": "code",
   "execution_count": 7,
   "metadata": {},
   "outputs": [],
   "source": [
    "# Code here\n",
    "\n",
    "\n"
   ]
  },
  {
   "cell_type": "markdown",
   "metadata": {},
   "source": [
    "-------------"
   ]
  },
  {
   "cell_type": "markdown",
   "metadata": {},
   "source": [
    "Until now, when a condition was met, we always executed a `print` statement. However, this does not have to be the case. When a condition is met, you can execute any type of code."
   ]
  },
  {
   "cell_type": "code",
   "execution_count": null,
   "metadata": {},
   "outputs": [],
   "source": [
    "import numpy as np\n",
    "\n",
    "arr1 = np.array([3, 6, 8, 9])\n",
    "if type(arr1[0]) == int and type(arr1[1]) == int and type(arr1[2]) == int:\n",
    "    meanarr = np.mean(arr1)\n",
    "meanarr"
   ]
  },
  {
   "cell_type": "code",
   "execution_count": 6,
   "metadata": {},
   "outputs": [],
   "source": [
    "#nested if statement - do something different from print"
   ]
  },
  {
   "cell_type": "code",
   "execution_count": 11,
   "metadata": {},
   "outputs": [
    {
     "data": {
      "text/plain": [
       "numpy.int64"
      ]
     },
     "execution_count": 11,
     "metadata": {},
     "output_type": "execute_result"
    }
   ],
   "source": [
    "type(arr1[0])"
   ]
  },
  {
   "cell_type": "code",
   "execution_count": null,
   "metadata": {},
   "outputs": [],
   "source": []
  }
 ],
 "metadata": {
  "kernelspec": {
   "display_name": "Python3.7 (project1)",
   "language": "python",
   "name": "python3_project1"
  },
  "language_info": {
   "codemirror_mode": {
    "name": "ipython",
    "version": 3
   },
   "file_extension": ".py",
   "mimetype": "text/x-python",
   "name": "python",
   "nbconvert_exporter": "python",
   "pygments_lexer": "ipython3",
   "version": "3.7.1"
  }
 },
 "nbformat": 4,
 "nbformat_minor": 5
}
