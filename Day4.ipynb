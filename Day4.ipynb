{
 "cells": [
  {
   "cell_type": "markdown",
   "id": "33425dcb-e4fe-4d77-817f-81d8115d6ff8",
   "metadata": {},
   "source": [
    "# Introduction to Conditional Statements"
   ]
  },
  {
   "cell_type": "markdown",
   "id": "82ca2d2c-0882-46d7-a888-64cbee5115f5",
   "metadata": {},
   "source": [
    "Conidtional statements are used to evaluate whether a specific condition is met before running different lines of codes. The basic structure of conditional statements is `if` and `else`. The basic structure is the following:\n",
    "\n",
    "`if` condition:\n",
    "\n",
    "    run some code\n",
    "    \n",
    "`else`:\n",
    "\n",
    "    run other code"
   ]
  },
  {
   "cell_type": "code",
   "execution_count": 1,
   "id": "71606ea2-5a08-48e6-b999-c348b1d685de",
   "metadata": {},
   "outputs": [
    {
     "name": "stdout",
     "output_type": "stream",
     "text": [
      "Number bigger than 3\n"
     ]
    }
   ],
   "source": [
    "a = 5\n",
    "if a > 3:\n",
    "    print(\"Number bigger than 3\")\n",
    "else:\n",
    "    print(\"Number smaller than 3\")"
   ]
  },
  {
   "cell_type": "markdown",
   "id": "72e93448-03e3-45d0-88ce-51473073d388",
   "metadata": {},
   "source": [
    "Multiple if statements can be written one after the other - in this case they will be executed sequentially. If the condition is not met, then the code is not executed. Also in this case, like you have seen in the previous lectures in case of the definition of functions and opening of files, the lines of code need to be `indented`. The `indentation` specifies that the code is within the environment of the conditional statement."
   ]
  },
  {
   "cell_type": "code",
   "execution_count": 4,
   "id": "428375dd-05cd-4817-ac6c-2060526ff3f9",
   "metadata": {},
   "outputs": [
    {
     "name": "stdout",
     "output_type": "stream",
     "text": [
      "Number 3 bigger than 2\n",
      "Number 3 smaller than 4\n"
     ]
    }
   ],
   "source": [
    "a = 3\n",
    "b = 4\n",
    "if a > 2:\n",
    "    print(\"Number\", a, \"bigger than 2\")\n",
    "if a < b:\n",
    "    print(\"Number\", a, \"smaller than\", b)"
   ]
  },
  {
   "cell_type": "markdown",
   "id": "6ec089e2-03e8-4118-87c3-740d7b7f13c4",
   "metadata": {},
   "source": [
    "----------------"
   ]
  },
  {
   "cell_type": "markdown",
   "id": "b453fa54-2153-436e-9244-59ce87416a56",
   "metadata": {},
   "source": [
    "# Code here\n",
    "Create a 1-D array with the values 210, 180, 290 and 200 and name if `average_price_pw`, then define a variable calld `rent` with value 200. Check if the value of `rent` is in the array `average_price_pw`. If it is, then `print` that \"Rent is within average price\". If it is not, calculate the mean of the values in `average_price_pw` and `print` whether the `rent` value is above or below the calculated mean."
   ]
  },
  {
   "cell_type": "code",
   "execution_count": 6,
   "id": "0f2c5909-494d-4919-950a-0d3b3b406d22",
   "metadata": {},
   "outputs": [],
   "source": [
    "# CODE HERE\n",
    "\n",
    "\n"
   ]
  },
  {
   "cell_type": "markdown",
   "id": "18c181d9-984b-4bee-8168-3e495e4c1e75",
   "metadata": {},
   "source": [
    "---------------"
   ]
  },
  {
   "cell_type": "markdown",
   "id": "6ea60f1b-06fc-46cb-aee4-adf7f751bb07",
   "metadata": {},
   "source": [
    "When defining the conditions after the if statement, any condition can be applied, and as long as the condition is `True`, then the code is executed."
   ]
  },
  {
   "cell_type": "markdown",
   "id": "7db91c91-6220-46a6-b60a-3e26e124ebdc",
   "metadata": {},
   "source": [
    "If you remember from the Day1 lecture"
   ]
  },
  {
   "cell_type": "code",
   "execution_count": null,
   "id": "37ea24c7-dfb0-4b00-bf72-f42ce2f60cde",
   "metadata": {},
   "outputs": [],
   "source": []
  }
 ],
 "metadata": {
  "kernelspec": {
   "display_name": "Python3.9 (PythonTutorial)\n",
   "language": "python",
   "name": "python3_pythontutorial"
  },
  "language_info": {
   "codemirror_mode": {
    "name": "ipython",
    "version": 3
   },
   "file_extension": ".py",
   "mimetype": "text/x-python",
   "name": "python",
   "nbconvert_exporter": "python",
   "pygments_lexer": "ipython3",
   "version": "3.9.13"
  }
 },
 "nbformat": 4,
 "nbformat_minor": 5
}
